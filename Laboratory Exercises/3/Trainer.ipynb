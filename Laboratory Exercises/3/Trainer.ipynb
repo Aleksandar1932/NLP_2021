{
 "cells": [
  {
   "cell_type": "markdown",
   "metadata": {},
   "source": [
    "# Model Trainer\n",
    "\n",
    "This notebook consists of code for training a model on the training data created and exported in `Text Summarization` Notebook. The data is available in the `data/opinosis-training.csv`, or as WANDB artifact, on the following [link](https://wandb.ai/aleksandar1932/[NLP]%20lab-03%20%7C%20text-summarization/artifacts/dataset/opinosis-training).\n",
    "\n",
    "The code in this notebook will serve as starting basis for creating WANDB Sweeps for hyperparamenter tuning."
   ]
  },
  {
   "cell_type": "code",
   "execution_count": 9,
   "metadata": {},
   "outputs": [],
   "source": [
    "import os\n",
    "import ast\n",
    "from uuid import uuid4\n",
    "\n",
    "import numpy as np\n",
    "import pandas as pd\n",
    "from tensorflow.keras.optimizers import Adam\n",
    "from tensorflow.keras.losses import categorical_crossentropy\n",
    "import wandb\n",
    "from wandb.keras import WandbCallback\n",
    "\n",
    "from scripts.model import create_model\n",
    "from scripts.loader import load_embeddings_pkl\n",
    "\n",
    "WANDB_PROJECT_NAME = os.getenv(\"WANDB_PROJECT_NAME\") or \"[NLP] lab-03 | text-summarization\"\n",
    "LEN_VOCABULARY = int(os.getenv(\"LEN_VOCABULARY\")) or 7188\n",
    "EMBEDDINGS_PATH = os.getenv(\"EMBEDDINGS_PATH\") or 'data/embedding_matrix_glove_50.pkl'"
   ]
  },
  {
   "cell_type": "markdown",
   "metadata": {},
   "source": [
    "Check GPU availability:"
   ]
  },
  {
   "cell_type": "code",
   "execution_count": 2,
   "metadata": {},
   "outputs": [
    {
     "data": {
      "text/plain": [
       "[PhysicalDevice(name='/physical_device:GPU:0', device_type='GPU')]"
      ]
     },
     "execution_count": 2,
     "metadata": {},
     "output_type": "execute_result"
    }
   ],
   "source": [
    "import tensorflow as tf\n",
    "tf.config.list_physical_devices('GPU')"
   ]
  },
  {
   "cell_type": "markdown",
   "metadata": {},
   "source": [
    "# Load Training Data"
   ]
  },
  {
   "cell_type": "code",
   "execution_count": 3,
   "metadata": {},
   "outputs": [],
   "source": [
    "embeddings = load_embeddings_pkl(EMBEDDINGS_PATH)\n",
    "df = pd.read_csv('data/opinosis-training.csv')\n",
    "\n",
    "padded_texts = np.array([ast.literal_eval(sample) for sample in df.texts.to_list()])\n",
    "padded_summaries = np.array([ast.literal_eval(sample) for sample in df.summaries.to_list()])\n",
    "next_words = np.array([ast.literal_eval(sample) for sample in df.next_words.to_list()])\n",
    "\n",
    "max_texts_length = len(padded_texts[0])\n",
    "max_summaries_length = len(padded_summaries[0])"
   ]
  },
  {
   "cell_type": "markdown",
   "metadata": {},
   "source": [
    "# Train Model"
   ]
  },
  {
   "cell_type": "code",
   "execution_count": 14,
   "metadata": {},
   "outputs": [
    {
     "data": {
      "text/html": [
       "\n",
       "                    Syncing run <strong><a href=\"https://wandb.ai/aleksandar1932/%5BNLP%5D%20lab-03%20%7C%20text-summarization/runs/q23rktgs\" target=\"_blank\">northern-salad-7</a></strong> to <a href=\"https://wandb.ai/aleksandar1932/%5BNLP%5D%20lab-03%20%7C%20text-summarization\" target=\"_blank\">Weights & Biases</a> (<a href=\"https://docs.wandb.com/integrations/jupyter.html\" target=\"_blank\">docs</a>).<br/>\n",
       "\n",
       "                "
      ],
      "text/plain": [
       "<IPython.core.display.HTML object>"
      ]
     },
     "metadata": {},
     "output_type": "display_data"
    },
    {
     "name": "stdout",
     "output_type": "stream",
     "text": [
      "Model: \"Encoder-Decoder-2e3a618b-5e15-49c4-b508-4fbd64f31b34\"\n",
      "__________________________________________________________________________________________________\n",
      " Layer (type)                   Output Shape         Param #     Connected to                     \n",
      "==================================================================================================\n",
      " encoder_inputs (InputLayer)    [(None, 6124)]       0           []                               \n",
      "                                                                                                  \n",
      " decoder_inputs (InputLayer)    [(None, 23)]         0           []                               \n",
      "                                                                                                  \n",
      " embedding_2 (Embedding)        (None, 6124, 50)     359400      ['encoder_inputs[0][0]']         \n",
      "                                                                                                  \n",
      " embedding_3 (Embedding)        (None, 23, 50)       359400      ['decoder_inputs[0][0]']         \n",
      "                                                                                                  \n",
      " encoder (LSTM)                 [(None, 128),        91648       ['embedding_2[0][0]']            \n",
      "                                 (None, 128),                                                     \n",
      "                                 (None, 128)]                                                     \n",
      "                                                                                                  \n",
      " decoder (LSTM)                 [(None, 128),        91648       ['embedding_3[0][0]',            \n",
      "                                 (None, 128),                     'encoder[1][1]',                \n",
      "                                 (None, 128)]                     'encoder[1][2]']                \n",
      "                                                                                                  \n",
      " decoder_dense (Dense)          (None, 7188)         927252      ['decoder[0][0]']                \n",
      "                                                                                                  \n",
      "==================================================================================================\n",
      "Total params: 1,829,348\n",
      "Trainable params: 1,110,548\n",
      "Non-trainable params: 718,800\n",
      "__________________________________________________________________________________________________\n"
     ]
    },
    {
     "name": "stderr",
     "output_type": "stream",
     "text": [
      "D:\\envs\\nlp-64\\lib\\site-packages\\keras\\optimizer_v2\\adam.py:105: UserWarning: The `lr` argument is deprecated, use `learning_rate` instead.\n",
      "  super(Adam, self).__init__(name, **kwargs)\n"
     ]
    }
   ],
   "source": [
    "model = create_model(max_texts_length, max_summaries_length, LEN_VOCABULARY, 50, embeddings)\n",
    "run = wandb.init(project=WANDB_PROJECT_NAME, job_type=\"train_model\")\n",
    "model.compile(optimizer=Adam(lr=0.001), loss=categorical_crossentropy, metrics=['accuracy'])\n",
    "model.summary()"
   ]
  },
  {
   "cell_type": "code",
   "execution_count": 16,
   "metadata": {},
   "outputs": [
    {
     "name": "stdout",
     "output_type": "stream",
     "text": [
      "Epoch 1/15\n",
      "8/8 [==============================] - 6s 706ms/step - loss: 8.4231 - accuracy: 0.0819 - val_loss: 8.2792 - val_accuracy: 0.0943\n",
      "Epoch 2/15\n",
      "8/8 [==============================] - 5s 621ms/step - loss: 7.2091 - accuracy: 0.0840 - val_loss: 7.6542 - val_accuracy: 0.0943\n",
      "Epoch 3/15\n",
      "8/8 [==============================] - 5s 614ms/step - loss: 5.9997 - accuracy: 0.0840 - val_loss: 7.6783 - val_accuracy: 0.0943\n",
      "Epoch 4/15\n",
      "8/8 [==============================] - 5s 612ms/step - loss: 5.5154 - accuracy: 0.0840 - val_loss: 8.0143 - val_accuracy: 0.0943\n",
      "Epoch 5/15\n",
      "8/8 [==============================] - 5s 602ms/step - loss: 5.4116 - accuracy: 0.0840 - val_loss: 8.2817 - val_accuracy: 0.0943\n",
      "Epoch 6/15\n",
      "8/8 [==============================] - 5s 584ms/step - loss: 5.3725 - accuracy: 0.0840 - val_loss: 8.4202 - val_accuracy: 0.0943\n",
      "Epoch 7/15\n",
      "8/8 [==============================] - 5s 596ms/step - loss: 5.3540 - accuracy: 0.0840 - val_loss: 8.4976 - val_accuracy: 0.0943\n",
      "Epoch 8/15\n",
      "8/8 [==============================] - 5s 572ms/step - loss: 5.3451 - accuracy: 0.0840 - val_loss: 8.5104 - val_accuracy: 0.0943\n",
      "Epoch 9/15\n",
      "8/8 [==============================] - 5s 575ms/step - loss: 5.3367 - accuracy: 0.0840 - val_loss: 8.5794 - val_accuracy: 0.0943\n",
      "Epoch 10/15\n",
      "8/8 [==============================] - 5s 569ms/step - loss: 5.3357 - accuracy: 0.0840 - val_loss: 8.6055 - val_accuracy: 0.0943\n",
      "Epoch 11/15\n",
      "8/8 [==============================] - 5s 575ms/step - loss: 5.3341 - accuracy: 0.0840 - val_loss: 8.6468 - val_accuracy: 0.0943\n",
      "Epoch 12/15\n",
      "8/8 [==============================] - 5s 578ms/step - loss: 5.3265 - accuracy: 0.0840 - val_loss: 8.6782 - val_accuracy: 0.0943\n",
      "Epoch 13/15\n",
      "8/8 [==============================] - 5s 566ms/step - loss: 5.3285 - accuracy: 0.0840 - val_loss: 8.7191 - val_accuracy: 0.0943\n",
      "Epoch 14/15\n",
      "8/8 [==============================] - 5s 569ms/step - loss: 5.3256 - accuracy: 0.0840 - val_loss: 8.7497 - val_accuracy: 0.0943\n",
      "Epoch 15/15\n",
      "8/8 [==============================] - 5s 583ms/step - loss: 5.3238 - accuracy: 0.0840 - val_loss: 8.8054 - val_accuracy: 0.0943\n"
     ]
    },
    {
     "data": {
      "text/plain": [
       "<keras.callbacks.History at 0x264d19e3310>"
      ]
     },
     "execution_count": 16,
     "metadata": {},
     "output_type": "execute_result"
    }
   ],
   "source": [
    "model.fit([np.array(padded_texts), np.array(padded_summaries)],\n",
    "              np.array(next_words),\n",
    "              validation_split=0.1,\n",
    "              batch_size=64, epochs=15, verbose=1,\n",
    "              callbacks=[WandbCallback()]\n",
    "              )"
   ]
  },
  {
   "cell_type": "code",
   "execution_count": 11,
   "metadata": {},
   "outputs": [],
   "source": [
    "model_name = f\"models/opinosis_model-{uuid4()}.h5\"\n",
    "model.save(model_name)\n",
    "wandb.save(model)\n",
    "run.finish()"
   ]
  }
 ],
 "metadata": {
  "interpreter": {
   "hash": "02d0b1b3f612c4c5e51656c8d0ea12cc8bdc13c9ac193c394dc1e17c8d0fd734"
  },
  "kernelspec": {
   "display_name": "Python 3.8.10 64-bit ('nlp-2021-n': venv)",
   "language": "python",
   "name": "python3"
  },
  "language_info": {
   "codemirror_mode": {
    "name": "ipython",
    "version": 3
   },
   "file_extension": ".py",
   "mimetype": "text/x-python",
   "name": "python",
   "nbconvert_exporter": "python",
   "pygments_lexer": "ipython3",
   "version": "3.8.10"
  },
  "orig_nbformat": 4
 },
 "nbformat": 4,
 "nbformat_minor": 2
}
