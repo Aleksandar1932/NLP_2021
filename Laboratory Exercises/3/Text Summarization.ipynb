{
 "cells": [
  {
   "cell_type": "markdown",
   "metadata": {},
   "source": [
    "# Text Summarization on the Opinosis Dataset\n",
    "\n",
    "During this experiment Weights & Biasses platform was used as complete MLOps platform. All of the results are logged in the [project](https://wandb.ai/aleksandar1932/[NLP]%20lab-03%20%7C%20text-summarization?workspace=user-aleksandar1932). Additionally, to tune the hyperparameters [WANDB Sweeps](https://docs.wandb.ai/guides/sweeps/quickstart) are going to be used.\n",
    "\n",
    "**Note**: WANDB cells will fail to execute since credentials are not provided."
   ]
  },
  {
   "cell_type": "code",
   "execution_count": 104,
   "metadata": {},
   "outputs": [],
   "source": [
    "import os\n",
    "\n",
    "import pandas as pd\n",
    "import numpy as np\n",
    "import wandb\n",
    "from sklearn.model_selection import train_test_split\n",
    "from sklearn.preprocessing import LabelBinarizer\n",
    "from tensorflow.keras.preprocessing.sequence import pad_sequences\n",
    "\n",
    "from scripts.utils import load_data\n",
    "from scripts.utils import nlp_pipeline\n",
    "from scripts.utils import create_vocabulary\n",
    "from scripts.loader import load_embeddings\n",
    "\n",
    "WANDB_PROJECT_NAME = os.getenv(\"WANDB_PROJECT_NAME\") or \"[NLP] lab-03 | text-summarization\""
   ]
  },
  {
   "cell_type": "markdown",
   "metadata": {},
   "source": [
    "# Utils"
   ]
  },
  {
   "cell_type": "code",
   "execution_count": 9,
   "metadata": {},
   "outputs": [],
   "source": [
    "def append_start_end(data):\n",
    "    data['text_tokens'] = data['text_tokens'].apply(lambda x: np.concatenate((['<START>'], x, ['</END>'])))\n",
    "    data['summary_tokens'] = data['summary_tokens'].apply(lambda x: np.concatenate((['<START>'], x, ['</END>'])))"
   ]
  },
  {
   "cell_type": "code",
   "execution_count": 105,
   "metadata": {},
   "outputs": [],
   "source": [
    "def create_train_data(texts, summaries):\n",
    "    input_texts, input_summaries, next_words = [], [], []\n",
    "\n",
    "    for sentence, rephrase in zip(texts, summaries):\n",
    "        for i in range(1, len(rephrase)):\n",
    "            input_texts.append(sentence)\n",
    "            input_summaries.append(rephrase[:i])\n",
    "            next_words.append(rephrase[i])\n",
    "\n",
    "    return input_texts, input_summaries, next_words"
   ]
  },
  {
   "cell_type": "markdown",
   "metadata": {},
   "source": [
    "# Data Preprocessing"
   ]
  },
  {
   "cell_type": "code",
   "execution_count": null,
   "metadata": {},
   "outputs": [],
   "source": [
    "run = wandb.init(project=WANDB_PROJECT_NAME, job_type=\"load_data\")"
   ]
  },
  {
   "cell_type": "code",
   "execution_count": 106,
   "metadata": {},
   "outputs": [
    {
     "data": {
      "text/html": [
       "<div>\n",
       "<style scoped>\n",
       "    .dataframe tbody tr th:only-of-type {\n",
       "        vertical-align: middle;\n",
       "    }\n",
       "\n",
       "    .dataframe tbody tr th {\n",
       "        vertical-align: top;\n",
       "    }\n",
       "\n",
       "    .dataframe thead th {\n",
       "        text-align: right;\n",
       "    }\n",
       "</style>\n",
       "<table border=\"1\" class=\"dataframe\">\n",
       "  <thead>\n",
       "    <tr style=\"text-align: right;\">\n",
       "      <th></th>\n",
       "      <th>id</th>\n",
       "      <th>text</th>\n",
       "      <th>summary</th>\n",
       "    </tr>\n",
       "  </thead>\n",
       "  <tbody>\n",
       "    <tr>\n",
       "      <th>0</th>\n",
       "      <td>accuracy_garmin_nuvi_255W_gps</td>\n",
       "      <td>, and is very, very accurate .\\r\\n but for the...</td>\n",
       "      <td>This unit is generally quite accurate.  \\r\\nSe...</td>\n",
       "    </tr>\n",
       "    <tr>\n",
       "      <th>1</th>\n",
       "      <td>bathroom_bestwestern_hotel_sfo</td>\n",
       "      <td>The room was not overly big, but clean and ve...</td>\n",
       "      <td>The rooms were not large but were clean and ve...</td>\n",
       "    </tr>\n",
       "    <tr>\n",
       "      <th>2</th>\n",
       "      <td>battery-life_amazon_kindle</td>\n",
       "      <td>After I plugged it in to my USB hub on my com...</td>\n",
       "      <td>Battery life is exceptional.\\r\\nThe Kindle can...</td>\n",
       "    </tr>\n",
       "    <tr>\n",
       "      <th>3</th>\n",
       "      <td>battery-life_ipod_nano_8gb</td>\n",
       "      <td>short battery life  I moved up from an 8gb .\\...</td>\n",
       "      <td>The battery life is too short.\\r\\nThe time bet...</td>\n",
       "    </tr>\n",
       "    <tr>\n",
       "      <th>4</th>\n",
       "      <td>battery-life_netbook_1005ha</td>\n",
       "      <td>6GHz 533FSB cpu, glossy display, 3, Cell 23Wh ...</td>\n",
       "      <td>The battery life is longer then 5 hours.\\r\\nBu...</td>\n",
       "    </tr>\n",
       "  </tbody>\n",
       "</table>\n",
       "</div>"
      ],
      "text/plain": [
       "                               id  \\\n",
       "0   accuracy_garmin_nuvi_255W_gps   \n",
       "1  bathroom_bestwestern_hotel_sfo   \n",
       "2      battery-life_amazon_kindle   \n",
       "3      battery-life_ipod_nano_8gb   \n",
       "4     battery-life_netbook_1005ha   \n",
       "\n",
       "                                                text  \\\n",
       "0  , and is very, very accurate .\\r\\n but for the...   \n",
       "1   The room was not overly big, but clean and ve...   \n",
       "2   After I plugged it in to my USB hub on my com...   \n",
       "3   short battery life  I moved up from an 8gb .\\...   \n",
       "4  6GHz 533FSB cpu, glossy display, 3, Cell 23Wh ...   \n",
       "\n",
       "                                             summary  \n",
       "0  This unit is generally quite accurate.  \\r\\nSe...  \n",
       "1  The rooms were not large but were clean and ve...  \n",
       "2  Battery life is exceptional.\\r\\nThe Kindle can...  \n",
       "3  The battery life is too short.\\r\\nThe time bet...  \n",
       "4  The battery life is longer then 5 hours.\\r\\nBu...  "
      ]
     },
     "execution_count": 106,
     "metadata": {},
     "output_type": "execute_result"
    }
   ],
   "source": [
    "df = load_data()\n",
    "df.head()"
   ]
  },
  {
   "cell_type": "code",
   "execution_count": null,
   "metadata": {},
   "outputs": [],
   "source": [
    "df.to_csv('data/data.csv', index=False)"
   ]
  },
  {
   "cell_type": "markdown",
   "metadata": {},
   "source": [
    "## Upload raw data as artifact to WANDB.\n",
    "\n",
    "See the artifacts on the following [link](https://wandb.ai/aleksandar1932/[NLP]%20lab-03%20%7C%20text-summarization/artifacts/dataset/opinosis-training/31b123948b13683e0d37) under the `opinosis-raw` dataset.\n"
   ]
  },
  {
   "cell_type": "code",
   "execution_count": null,
   "metadata": {},
   "outputs": [],
   "source": [
    "raw_data = wandb.Artifact(\n",
    "    \"opinosis-raw\", type=\"dataset\",\n",
    "    description=\"Raw OPINOSIS dataset\",\n",
    "    metadata={\"source\": \"https://archive.ics.uci.edu/ml/datasets/Opinosis+Opinion+%26frasl%3B+Review\",\n",
    "                \"sizes\": len(df)}\n",
    ")\n",
    "\n",
    "complete_data = wandb.Table(data=df, columns=df.columns)\n",
    "raw_data.add(complete_data, \"Complete dataset\")\n",
    "run.log_artifact(raw_data)\n",
    "run.finish()"
   ]
  },
  {
   "cell_type": "markdown",
   "metadata": {},
   "source": [
    "## Tokenization\n"
   ]
  },
  {
   "cell_type": "code",
   "execution_count": 107,
   "metadata": {},
   "outputs": [
    {
     "data": {
      "text/html": [
       "<div>\n",
       "<style scoped>\n",
       "    .dataframe tbody tr th:only-of-type {\n",
       "        vertical-align: middle;\n",
       "    }\n",
       "\n",
       "    .dataframe tbody tr th {\n",
       "        vertical-align: top;\n",
       "    }\n",
       "\n",
       "    .dataframe thead th {\n",
       "        text-align: right;\n",
       "    }\n",
       "</style>\n",
       "<table border=\"1\" class=\"dataframe\">\n",
       "  <thead>\n",
       "    <tr style=\"text-align: right;\">\n",
       "      <th></th>\n",
       "      <th>id</th>\n",
       "      <th>text</th>\n",
       "      <th>summary</th>\n",
       "      <th>text_tokens</th>\n",
       "      <th>summary_tokens</th>\n",
       "    </tr>\n",
       "  </thead>\n",
       "  <tbody>\n",
       "    <tr>\n",
       "      <th>0</th>\n",
       "      <td>accuracy_garmin_nuvi_255W_gps</td>\n",
       "      <td>, and is very, very accurate .\\r\\n but for the...</td>\n",
       "      <td>This unit is generally quite accurate.  \\r\\nSe...</td>\n",
       "      <td>[accurate, part, find, garmin, software, provi...</td>\n",
       "      <td>[unit, generally, quite, accurate, set-up, usa...</td>\n",
       "    </tr>\n",
       "    <tr>\n",
       "      <th>1</th>\n",
       "      <td>bathroom_bestwestern_hotel_sfo</td>\n",
       "      <td>The room was not overly big, but clean and ve...</td>\n",
       "      <td>The rooms were not large but were clean and ve...</td>\n",
       "      <td>[room, overly, big, clean, comfortable, beds, ...</td>\n",
       "      <td>[rooms, large, clean, comfortable, bathroom, s...</td>\n",
       "    </tr>\n",
       "    <tr>\n",
       "      <th>2</th>\n",
       "      <td>battery-life_amazon_kindle</td>\n",
       "      <td>After I plugged it in to my USB hub on my com...</td>\n",
       "      <td>Battery life is exceptional.\\r\\nThe Kindle can...</td>\n",
       "      <td>[plugged, usb, hub, computer, charge, battery,...</td>\n",
       "      <td>[battery, life, exceptional, kindle, run, days...</td>\n",
       "    </tr>\n",
       "    <tr>\n",
       "      <th>3</th>\n",
       "      <td>battery-life_ipod_nano_8gb</td>\n",
       "      <td>short battery life  I moved up from an 8gb .\\...</td>\n",
       "      <td>The battery life is too short.\\r\\nThe time bet...</td>\n",
       "      <td>[short, battery, life, moved, 8gb, love, ipod,...</td>\n",
       "      <td>[battery, life, short, time, chargers, enough]</td>\n",
       "    </tr>\n",
       "    <tr>\n",
       "      <th>4</th>\n",
       "      <td>battery-life_netbook_1005ha</td>\n",
       "      <td>6GHz 533FSB cpu, glossy display, 3, Cell 23Wh ...</td>\n",
       "      <td>The battery life is longer then 5 hours.\\r\\nBu...</td>\n",
       "      <td>[6ghz, 533fsb, cpu, glossy, display, 3, cell, ...</td>\n",
       "      <td>[battery, life, longer, 5, hours, due, battery...</td>\n",
       "    </tr>\n",
       "  </tbody>\n",
       "</table>\n",
       "</div>"
      ],
      "text/plain": [
       "                               id  \\\n",
       "0   accuracy_garmin_nuvi_255W_gps   \n",
       "1  bathroom_bestwestern_hotel_sfo   \n",
       "2      battery-life_amazon_kindle   \n",
       "3      battery-life_ipod_nano_8gb   \n",
       "4     battery-life_netbook_1005ha   \n",
       "\n",
       "                                                text  \\\n",
       "0  , and is very, very accurate .\\r\\n but for the...   \n",
       "1   The room was not overly big, but clean and ve...   \n",
       "2   After I plugged it in to my USB hub on my com...   \n",
       "3   short battery life  I moved up from an 8gb .\\...   \n",
       "4  6GHz 533FSB cpu, glossy display, 3, Cell 23Wh ...   \n",
       "\n",
       "                                             summary  \\\n",
       "0  This unit is generally quite accurate.  \\r\\nSe...   \n",
       "1  The rooms were not large but were clean and ve...   \n",
       "2  Battery life is exceptional.\\r\\nThe Kindle can...   \n",
       "3  The battery life is too short.\\r\\nThe time bet...   \n",
       "4  The battery life is longer then 5 hours.\\r\\nBu...   \n",
       "\n",
       "                                         text_tokens  \\\n",
       "0  [accurate, part, find, garmin, software, provi...   \n",
       "1  [room, overly, big, clean, comfortable, beds, ...   \n",
       "2  [plugged, usb, hub, computer, charge, battery,...   \n",
       "3  [short, battery, life, moved, 8gb, love, ipod,...   \n",
       "4  [6ghz, 533fsb, cpu, glossy, display, 3, cell, ...   \n",
       "\n",
       "                                      summary_tokens  \n",
       "0  [unit, generally, quite, accurate, set-up, usa...  \n",
       "1  [rooms, large, clean, comfortable, bathroom, s...  \n",
       "2  [battery, life, exceptional, kindle, run, days...  \n",
       "3     [battery, life, short, time, chargers, enough]  \n",
       "4  [battery, life, longer, 5, hours, due, battery...  "
      ]
     },
     "execution_count": 107,
     "metadata": {},
     "output_type": "execute_result"
    }
   ],
   "source": [
    "df['text_tokens'] = df['text'].apply(lambda x: nlp_pipeline(x))\n",
    "df['summary_tokens'] = df['summary'].apply(lambda x: nlp_pipeline(x))\n",
    "df.head()"
   ]
  },
  {
   "cell_type": "markdown",
   "metadata": {},
   "source": [
    "## START/END Tokens"
   ]
  },
  {
   "cell_type": "code",
   "execution_count": 108,
   "metadata": {},
   "outputs": [
    {
     "data": {
      "text/html": [
       "<div>\n",
       "<style scoped>\n",
       "    .dataframe tbody tr th:only-of-type {\n",
       "        vertical-align: middle;\n",
       "    }\n",
       "\n",
       "    .dataframe tbody tr th {\n",
       "        vertical-align: top;\n",
       "    }\n",
       "\n",
       "    .dataframe thead th {\n",
       "        text-align: right;\n",
       "    }\n",
       "</style>\n",
       "<table border=\"1\" class=\"dataframe\">\n",
       "  <thead>\n",
       "    <tr style=\"text-align: right;\">\n",
       "      <th></th>\n",
       "      <th>id</th>\n",
       "      <th>text</th>\n",
       "      <th>summary</th>\n",
       "      <th>text_tokens</th>\n",
       "      <th>summary_tokens</th>\n",
       "    </tr>\n",
       "  </thead>\n",
       "  <tbody>\n",
       "    <tr>\n",
       "      <th>0</th>\n",
       "      <td>accuracy_garmin_nuvi_255W_gps</td>\n",
       "      <td>, and is very, very accurate .\\r\\n but for the...</td>\n",
       "      <td>This unit is generally quite accurate.  \\r\\nSe...</td>\n",
       "      <td>[&lt;START&gt;, accurate, part, find, garmin, softwa...</td>\n",
       "      <td>[&lt;START&gt;, unit, generally, quite, accurate, se...</td>\n",
       "    </tr>\n",
       "    <tr>\n",
       "      <th>1</th>\n",
       "      <td>bathroom_bestwestern_hotel_sfo</td>\n",
       "      <td>The room was not overly big, but clean and ve...</td>\n",
       "      <td>The rooms were not large but were clean and ve...</td>\n",
       "      <td>[&lt;START&gt;, room, overly, big, clean, comfortabl...</td>\n",
       "      <td>[&lt;START&gt;, rooms, large, clean, comfortable, ba...</td>\n",
       "    </tr>\n",
       "    <tr>\n",
       "      <th>2</th>\n",
       "      <td>battery-life_amazon_kindle</td>\n",
       "      <td>After I plugged it in to my USB hub on my com...</td>\n",
       "      <td>Battery life is exceptional.\\r\\nThe Kindle can...</td>\n",
       "      <td>[&lt;START&gt;, plugged, usb, hub, computer, charge,...</td>\n",
       "      <td>[&lt;START&gt;, battery, life, exceptional, kindle, ...</td>\n",
       "    </tr>\n",
       "    <tr>\n",
       "      <th>3</th>\n",
       "      <td>battery-life_ipod_nano_8gb</td>\n",
       "      <td>short battery life  I moved up from an 8gb .\\...</td>\n",
       "      <td>The battery life is too short.\\r\\nThe time bet...</td>\n",
       "      <td>[&lt;START&gt;, short, battery, life, moved, 8gb, lo...</td>\n",
       "      <td>[&lt;START&gt;, battery, life, short, time, chargers...</td>\n",
       "    </tr>\n",
       "    <tr>\n",
       "      <th>4</th>\n",
       "      <td>battery-life_netbook_1005ha</td>\n",
       "      <td>6GHz 533FSB cpu, glossy display, 3, Cell 23Wh ...</td>\n",
       "      <td>The battery life is longer then 5 hours.\\r\\nBu...</td>\n",
       "      <td>[&lt;START&gt;, 6ghz, 533fsb, cpu, glossy, display, ...</td>\n",
       "      <td>[&lt;START&gt;, battery, life, longer, 5, hours, due...</td>\n",
       "    </tr>\n",
       "  </tbody>\n",
       "</table>\n",
       "</div>"
      ],
      "text/plain": [
       "                               id  \\\n",
       "0   accuracy_garmin_nuvi_255W_gps   \n",
       "1  bathroom_bestwestern_hotel_sfo   \n",
       "2      battery-life_amazon_kindle   \n",
       "3      battery-life_ipod_nano_8gb   \n",
       "4     battery-life_netbook_1005ha   \n",
       "\n",
       "                                                text  \\\n",
       "0  , and is very, very accurate .\\r\\n but for the...   \n",
       "1   The room was not overly big, but clean and ve...   \n",
       "2   After I plugged it in to my USB hub on my com...   \n",
       "3   short battery life  I moved up from an 8gb .\\...   \n",
       "4  6GHz 533FSB cpu, glossy display, 3, Cell 23Wh ...   \n",
       "\n",
       "                                             summary  \\\n",
       "0  This unit is generally quite accurate.  \\r\\nSe...   \n",
       "1  The rooms were not large but were clean and ve...   \n",
       "2  Battery life is exceptional.\\r\\nThe Kindle can...   \n",
       "3  The battery life is too short.\\r\\nThe time bet...   \n",
       "4  The battery life is longer then 5 hours.\\r\\nBu...   \n",
       "\n",
       "                                         text_tokens  \\\n",
       "0  [<START>, accurate, part, find, garmin, softwa...   \n",
       "1  [<START>, room, overly, big, clean, comfortabl...   \n",
       "2  [<START>, plugged, usb, hub, computer, charge,...   \n",
       "3  [<START>, short, battery, life, moved, 8gb, lo...   \n",
       "4  [<START>, 6ghz, 533fsb, cpu, glossy, display, ...   \n",
       "\n",
       "                                      summary_tokens  \n",
       "0  [<START>, unit, generally, quite, accurate, se...  \n",
       "1  [<START>, rooms, large, clean, comfortable, ba...  \n",
       "2  [<START>, battery, life, exceptional, kindle, ...  \n",
       "3  [<START>, battery, life, short, time, chargers...  \n",
       "4  [<START>, battery, life, longer, 5, hours, due...  "
      ]
     },
     "execution_count": 108,
     "metadata": {},
     "output_type": "execute_result"
    }
   ],
   "source": [
    "append_start_end(df)\n",
    "df.head()"
   ]
  },
  {
   "cell_type": "markdown",
   "metadata": {},
   "source": [
    "## Create Vocabulary and Embeddings"
   ]
  },
  {
   "cell_type": "code",
   "execution_count": 109,
   "metadata": {},
   "outputs": [],
   "source": [
    "texts = df['text_tokens'].values\n",
    "summaries = df['summary_tokens'].values"
   ]
  },
  {
   "cell_type": "code",
   "execution_count": 110,
   "metadata": {},
   "outputs": [],
   "source": [
    "vocabulary, word_to_id, id_to_word = create_vocabulary(np.concatenate((texts, summaries)))"
   ]
  },
  {
   "cell_type": "code",
   "execution_count": 111,
   "metadata": {},
   "outputs": [
    {
     "data": {
      "text/html": [
       "<div>\n",
       "<style scoped>\n",
       "    .dataframe tbody tr th:only-of-type {\n",
       "        vertical-align: middle;\n",
       "    }\n",
       "\n",
       "    .dataframe tbody tr th {\n",
       "        vertical-align: top;\n",
       "    }\n",
       "\n",
       "    .dataframe thead th {\n",
       "        text-align: right;\n",
       "    }\n",
       "</style>\n",
       "<table border=\"1\" class=\"dataframe\">\n",
       "  <thead>\n",
       "    <tr style=\"text-align: right;\">\n",
       "      <th></th>\n",
       "      <th>id</th>\n",
       "      <th>text</th>\n",
       "      <th>summary</th>\n",
       "      <th>text_tokens</th>\n",
       "      <th>summary_tokens</th>\n",
       "      <th>text_indices</th>\n",
       "      <th>summary_indices</th>\n",
       "    </tr>\n",
       "  </thead>\n",
       "  <tbody>\n",
       "    <tr>\n",
       "      <th>0</th>\n",
       "      <td>accuracy_garmin_nuvi_255W_gps</td>\n",
       "      <td>, and is very, very accurate .\\r\\n but for the...</td>\n",
       "      <td>This unit is generally quite accurate.  \\r\\nSe...</td>\n",
       "      <td>[&lt;START&gt;, accurate, part, find, garmin, softwa...</td>\n",
       "      <td>[&lt;START&gt;, unit, generally, quite, accurate, se...</td>\n",
       "      <td>[3978, 5083, 2397, 6278, 3664, 3245, 4998, 508...</td>\n",
       "      <td>[3978, 7185, 3235, 5628, 5083, 1176, 584, 3856...</td>\n",
       "    </tr>\n",
       "    <tr>\n",
       "      <th>1</th>\n",
       "      <td>bathroom_bestwestern_hotel_sfo</td>\n",
       "      <td>The room was not overly big, but clean and ve...</td>\n",
       "      <td>The rooms were not large but were clean and ve...</td>\n",
       "      <td>[&lt;START&gt;, room, overly, big, clean, comfortabl...</td>\n",
       "      <td>[&lt;START&gt;, rooms, large, clean, comfortable, ba...</td>\n",
       "      <td>[3978, 3132, 7113, 5175, 4959, 3414, 1426, 408...</td>\n",
       "      <td>[3978, 1655, 4696, 4959, 3414, 1936, 2189, 545...</td>\n",
       "    </tr>\n",
       "    <tr>\n",
       "      <th>2</th>\n",
       "      <td>battery-life_amazon_kindle</td>\n",
       "      <td>After I plugged it in to my USB hub on my com...</td>\n",
       "      <td>Battery life is exceptional.\\r\\nThe Kindle can...</td>\n",
       "      <td>[&lt;START&gt;, plugged, usb, hub, computer, charge,...</td>\n",
       "      <td>[&lt;START&gt;, battery, life, exceptional, kindle, ...</td>\n",
       "      <td>[3978, 2018, 625, 4116, 1910, 3202, 3853, 7160...</td>\n",
       "      <td>[3978, 3853, 3501, 436, 5753, 519, 7120, 963, ...</td>\n",
       "    </tr>\n",
       "    <tr>\n",
       "      <th>3</th>\n",
       "      <td>battery-life_ipod_nano_8gb</td>\n",
       "      <td>short battery life  I moved up from an 8gb .\\...</td>\n",
       "      <td>The battery life is too short.\\r\\nThe time bet...</td>\n",
       "      <td>[&lt;START&gt;, short, battery, life, moved, 8gb, lo...</td>\n",
       "      <td>[&lt;START&gt;, battery, life, short, time, chargers...</td>\n",
       "      <td>[3978, 2291, 3853, 3501, 1479, 4222, 1066, 668...</td>\n",
       "      <td>[3978, 3853, 3501, 2291, 71, 288, 129, 6508]</td>\n",
       "    </tr>\n",
       "    <tr>\n",
       "      <th>4</th>\n",
       "      <td>battery-life_netbook_1005ha</td>\n",
       "      <td>6GHz 533FSB cpu, glossy display, 3, Cell 23Wh ...</td>\n",
       "      <td>The battery life is longer then 5 hours.\\r\\nBu...</td>\n",
       "      <td>[&lt;START&gt;, 6ghz, 533fsb, cpu, glossy, display, ...</td>\n",
       "      <td>[&lt;START&gt;, battery, life, longer, 5, hours, due...</td>\n",
       "      <td>[3978, 217, 2386, 6598, 1169, 5571, 5475, 5634...</td>\n",
       "      <td>[3978, 3853, 3501, 6674, 6265, 6198, 263, 3853...</td>\n",
       "    </tr>\n",
       "  </tbody>\n",
       "</table>\n",
       "</div>"
      ],
      "text/plain": [
       "                               id  \\\n",
       "0   accuracy_garmin_nuvi_255W_gps   \n",
       "1  bathroom_bestwestern_hotel_sfo   \n",
       "2      battery-life_amazon_kindle   \n",
       "3      battery-life_ipod_nano_8gb   \n",
       "4     battery-life_netbook_1005ha   \n",
       "\n",
       "                                                text  \\\n",
       "0  , and is very, very accurate .\\r\\n but for the...   \n",
       "1   The room was not overly big, but clean and ve...   \n",
       "2   After I plugged it in to my USB hub on my com...   \n",
       "3   short battery life  I moved up from an 8gb .\\...   \n",
       "4  6GHz 533FSB cpu, glossy display, 3, Cell 23Wh ...   \n",
       "\n",
       "                                             summary  \\\n",
       "0  This unit is generally quite accurate.  \\r\\nSe...   \n",
       "1  The rooms were not large but were clean and ve...   \n",
       "2  Battery life is exceptional.\\r\\nThe Kindle can...   \n",
       "3  The battery life is too short.\\r\\nThe time bet...   \n",
       "4  The battery life is longer then 5 hours.\\r\\nBu...   \n",
       "\n",
       "                                         text_tokens  \\\n",
       "0  [<START>, accurate, part, find, garmin, softwa...   \n",
       "1  [<START>, room, overly, big, clean, comfortabl...   \n",
       "2  [<START>, plugged, usb, hub, computer, charge,...   \n",
       "3  [<START>, short, battery, life, moved, 8gb, lo...   \n",
       "4  [<START>, 6ghz, 533fsb, cpu, glossy, display, ...   \n",
       "\n",
       "                                      summary_tokens  \\\n",
       "0  [<START>, unit, generally, quite, accurate, se...   \n",
       "1  [<START>, rooms, large, clean, comfortable, ba...   \n",
       "2  [<START>, battery, life, exceptional, kindle, ...   \n",
       "3  [<START>, battery, life, short, time, chargers...   \n",
       "4  [<START>, battery, life, longer, 5, hours, due...   \n",
       "\n",
       "                                        text_indices  \\\n",
       "0  [3978, 5083, 2397, 6278, 3664, 3245, 4998, 508...   \n",
       "1  [3978, 3132, 7113, 5175, 4959, 3414, 1426, 408...   \n",
       "2  [3978, 2018, 625, 4116, 1910, 3202, 3853, 7160...   \n",
       "3  [3978, 2291, 3853, 3501, 1479, 4222, 1066, 668...   \n",
       "4  [3978, 217, 2386, 6598, 1169, 5571, 5475, 5634...   \n",
       "\n",
       "                                     summary_indices  \n",
       "0  [3978, 7185, 3235, 5628, 5083, 1176, 584, 3856...  \n",
       "1  [3978, 1655, 4696, 4959, 3414, 1936, 2189, 545...  \n",
       "2  [3978, 3853, 3501, 436, 5753, 519, 7120, 963, ...  \n",
       "3       [3978, 3853, 3501, 2291, 71, 288, 129, 6508]  \n",
       "4  [3978, 3853, 3501, 6674, 6265, 6198, 263, 3853...  "
      ]
     },
     "execution_count": 111,
     "metadata": {},
     "output_type": "execute_result"
    }
   ],
   "source": [
    "df['text_indices'] = df['text_tokens'].apply(lambda tokens: np.array([word_to_id[word] for word in tokens]))\n",
    "df['summary_indices'] = df['summary_tokens'].apply(lambda tokens: np.array([word_to_id[word] for word in tokens]))\n",
    "\n",
    "text_indices = df['text_indices'].values\n",
    "summary_indices = df['summary_indices'].values\n",
    "\n",
    "df.head()"
   ]
  },
  {
   "cell_type": "markdown",
   "metadata": {},
   "source": [
    "# Upload pre-processed data as artifact to WANDB\n",
    "\n",
    "See the artifacts on the following [link](https://wandb.ai/aleksandar1932/[NLP]%20lab-03%20%7C%20text-summarization/artifacts/dataset/opinosis-training/31b123948b13683e0d37) under the `opinosis-preprocessed` dataset."
   ]
  },
  {
   "cell_type": "code",
   "execution_count": null,
   "metadata": {},
   "outputs": [],
   "source": [
    "run = wandb.init(project=WANDB_PROJECT_NAME, job_type=\"load_data\")\n",
    "pre_processed_data = wandb.Artifact(\n",
    "    \"opinosis-preprocessed\", type=\"dataset\",\n",
    "    description=\"Preprocessed OPINOSIS dataset\",\n",
    "    metadata={\"sizes\": len(df), \"pipeline\": [\"tokenization\", \"indexing\", \"start/end tokens\"]}\n",
    ")\n",
    "\n",
    "pre_processed_dataframe = wandb.Table(data=df, columns=df.columns, allow_mixed_types=True)\n",
    "pre_processed_data.add(pre_processed_dataframe, \"Preprocessed dataset\")\n",
    "run.log_artifact(pre_processed_data)\n",
    "run.finish()"
   ]
  },
  {
   "cell_type": "code",
   "execution_count": 112,
   "metadata": {},
   "outputs": [],
   "source": [
    "embeddings = load_embeddings(vocabulary,embedding_size=50, embedding_type='glove', dump_path='./data')"
   ]
  },
  {
   "cell_type": "markdown",
   "metadata": {},
   "source": [
    "# Create Train-Test Data"
   ]
  },
  {
   "cell_type": "code",
   "execution_count": 113,
   "metadata": {},
   "outputs": [],
   "source": [
    "train_texts, test_texts, train_summaries, test_summaries = train_test_split(text_indices, summary_indices, test_size=0.1)\n",
    "input_texts, input_summaries, next_words = create_train_data(train_texts, train_summaries)"
   ]
  },
  {
   "cell_type": "code",
   "execution_count": 114,
   "metadata": {},
   "outputs": [
    {
     "name": "stdout",
     "output_type": "stream",
     "text": [
      "Max text length: 6124\n",
      "Max summary length: 24\n"
     ]
    }
   ],
   "source": [
    "max_texts_length = max([len(text) for text in input_texts])\n",
    "max_summaries_length = max([len(summary) for summary in input_summaries])\n",
    "\n",
    "print(f\"Max text length: {max_texts_length}\")\n",
    "print(f\"Max summary length: {max_summaries_length}\")"
   ]
  },
  {
   "cell_type": "code",
   "execution_count": 115,
   "metadata": {},
   "outputs": [],
   "source": [
    "padded_texts = pad_sequences(input_texts, maxlen=max_texts_length)\n",
    "padded_summaries = pad_sequences(input_summaries, maxlen=max_summaries_length)"
   ]
  },
  {
   "cell_type": "code",
   "execution_count": 116,
   "metadata": {},
   "outputs": [],
   "source": [
    "label_binarizer = LabelBinarizer()\n",
    "label_binarizer.fit(list(word_to_id.values()))\n",
    "next_words = label_binarizer.transform(next_words)"
   ]
  },
  {
   "cell_type": "markdown",
   "metadata": {},
   "source": [
    "## Export training data for trainer"
   ]
  },
  {
   "cell_type": "code",
   "execution_count": 23,
   "metadata": {},
   "outputs": [
    {
     "data": {
      "text/html": [
       "<div>\n",
       "<style scoped>\n",
       "    .dataframe tbody tr th:only-of-type {\n",
       "        vertical-align: middle;\n",
       "    }\n",
       "\n",
       "    .dataframe tbody tr th {\n",
       "        vertical-align: top;\n",
       "    }\n",
       "\n",
       "    .dataframe thead th {\n",
       "        text-align: right;\n",
       "    }\n",
       "</style>\n",
       "<table border=\"1\" class=\"dataframe\">\n",
       "  <thead>\n",
       "    <tr style=\"text-align: right;\">\n",
       "      <th></th>\n",
       "      <th>texts</th>\n",
       "      <th>summaries</th>\n",
       "      <th>next_words</th>\n",
       "    </tr>\n",
       "  </thead>\n",
       "  <tbody>\n",
       "    <tr>\n",
       "      <th>0</th>\n",
       "      <td>[0, 0, 0, 0, 0, 0, 0, 0, 0, 0, 0, 0, 0, 0, 0, ...</td>\n",
       "      <td>[0, 0, 0, 0, 0, 0, 0, 0, 0, 0, 0, 0, 0, 0, 0, ...</td>\n",
       "      <td>[0, 0, 0, 0, 0, 0, 0, 0, 0, 0, 0, 0, 0, 0, 0, ...</td>\n",
       "    </tr>\n",
       "    <tr>\n",
       "      <th>1</th>\n",
       "      <td>[0, 0, 0, 0, 0, 0, 0, 0, 0, 0, 0, 0, 0, 0, 0, ...</td>\n",
       "      <td>[0, 0, 0, 0, 0, 0, 0, 0, 0, 0, 0, 0, 0, 0, 0, ...</td>\n",
       "      <td>[0, 0, 0, 0, 0, 0, 0, 0, 0, 0, 0, 0, 0, 0, 0, ...</td>\n",
       "    </tr>\n",
       "    <tr>\n",
       "      <th>2</th>\n",
       "      <td>[0, 0, 0, 0, 0, 0, 0, 0, 0, 0, 0, 0, 0, 0, 0, ...</td>\n",
       "      <td>[0, 0, 0, 0, 0, 0, 0, 0, 0, 0, 0, 0, 0, 0, 0, ...</td>\n",
       "      <td>[0, 0, 0, 0, 0, 0, 0, 0, 0, 0, 0, 0, 0, 0, 0, ...</td>\n",
       "    </tr>\n",
       "    <tr>\n",
       "      <th>3</th>\n",
       "      <td>[0, 0, 0, 0, 0, 0, 0, 0, 0, 0, 0, 0, 0, 0, 0, ...</td>\n",
       "      <td>[0, 0, 0, 0, 0, 0, 0, 0, 0, 0, 0, 0, 0, 0, 0, ...</td>\n",
       "      <td>[0, 0, 0, 0, 0, 0, 0, 0, 0, 0, 0, 0, 0, 0, 0, ...</td>\n",
       "    </tr>\n",
       "    <tr>\n",
       "      <th>4</th>\n",
       "      <td>[0, 0, 0, 0, 0, 0, 0, 0, 0, 0, 0, 0, 0, 0, 0, ...</td>\n",
       "      <td>[0, 0, 0, 0, 0, 0, 0, 0, 0, 0, 0, 0, 0, 0, 0, ...</td>\n",
       "      <td>[0, 0, 0, 0, 0, 0, 0, 0, 0, 0, 0, 0, 0, 0, 0, ...</td>\n",
       "    </tr>\n",
       "  </tbody>\n",
       "</table>\n",
       "</div>"
      ],
      "text/plain": [
       "                                               texts  \\\n",
       "0  [0, 0, 0, 0, 0, 0, 0, 0, 0, 0, 0, 0, 0, 0, 0, ...   \n",
       "1  [0, 0, 0, 0, 0, 0, 0, 0, 0, 0, 0, 0, 0, 0, 0, ...   \n",
       "2  [0, 0, 0, 0, 0, 0, 0, 0, 0, 0, 0, 0, 0, 0, 0, ...   \n",
       "3  [0, 0, 0, 0, 0, 0, 0, 0, 0, 0, 0, 0, 0, 0, 0, ...   \n",
       "4  [0, 0, 0, 0, 0, 0, 0, 0, 0, 0, 0, 0, 0, 0, 0, ...   \n",
       "\n",
       "                                           summaries  \\\n",
       "0  [0, 0, 0, 0, 0, 0, 0, 0, 0, 0, 0, 0, 0, 0, 0, ...   \n",
       "1  [0, 0, 0, 0, 0, 0, 0, 0, 0, 0, 0, 0, 0, 0, 0, ...   \n",
       "2  [0, 0, 0, 0, 0, 0, 0, 0, 0, 0, 0, 0, 0, 0, 0, ...   \n",
       "3  [0, 0, 0, 0, 0, 0, 0, 0, 0, 0, 0, 0, 0, 0, 0, ...   \n",
       "4  [0, 0, 0, 0, 0, 0, 0, 0, 0, 0, 0, 0, 0, 0, 0, ...   \n",
       "\n",
       "                                          next_words  \n",
       "0  [0, 0, 0, 0, 0, 0, 0, 0, 0, 0, 0, 0, 0, 0, 0, ...  \n",
       "1  [0, 0, 0, 0, 0, 0, 0, 0, 0, 0, 0, 0, 0, 0, 0, ...  \n",
       "2  [0, 0, 0, 0, 0, 0, 0, 0, 0, 0, 0, 0, 0, 0, 0, ...  \n",
       "3  [0, 0, 0, 0, 0, 0, 0, 0, 0, 0, 0, 0, 0, 0, 0, ...  \n",
       "4  [0, 0, 0, 0, 0, 0, 0, 0, 0, 0, 0, 0, 0, 0, 0, ...  "
      ]
     },
     "execution_count": 23,
     "metadata": {},
     "output_type": "execute_result"
    }
   ],
   "source": [
    "training_data = pd.DataFrame.from_dict({\"texts\": padded_texts.tolist(), \"summaries\": padded_summaries.tolist(), \"next_words\": next_words.tolist()})"
   ]
  },
  {
   "cell_type": "code",
   "execution_count": null,
   "metadata": {},
   "outputs": [],
   "source": [
    "training_data.to_csv('data/opinosis-training.csv', index=False)"
   ]
  },
  {
   "cell_type": "markdown",
   "metadata": {},
   "source": [
    "### Upload training data as artifact to WANDB\n",
    "\n",
    "See the artifacts on the following [link](https://wandb.ai/aleksandar1932/[NLP]%20lab-03%20%7C%20text-summarization/artifacts/dataset/opinosis-training/31b123948b13683e0d37) under the `opinosis-training` dataset."
   ]
  },
  {
   "cell_type": "code",
   "execution_count": null,
   "metadata": {},
   "outputs": [],
   "source": [
    "run = wandb.init(project=WANDB_PROJECT_NAME, job_type=\"load_data\")\n",
    "training_artifact = wandb.Artifact(\n",
    "    \"opinosis-training\", type=\"dataset\",\n",
    "    description=\"Training data generated after the preprocessing of OPINOSIS dataset\",\n",
    "    metadata={\"sizes\": len(training_data), \"pipeline\": [\"tokenization\", \"indexing\", \"start/end tokens\", \"train/test split\", \"padding\"]}\n",
    ")\n",
    "\n",
    "tdf = wandb.Table(data=training_data, columns=training_data.columns, allow_mixed_types=True)\n",
    "training_artifact.add(tdf, \"Training Data\")\n",
    "run.log_artifact(training_artifact)\n",
    "run.finish()"
   ]
  },
  {
   "cell_type": "markdown",
   "metadata": {},
   "source": [
    "# Create Model\n",
    "\n",
    "This section serves as demonstration of how to create a model. It is not necessary to create a model to run the experiment. Model training will be executed on my of my GPU servers, so there will be model imports from files.\n",
    "\n",
    "**Disclaimer:** Skip this section if you are running this notebook on low-end device."
   ]
  },
  {
   "cell_type": "code",
   "execution_count": null,
   "metadata": {},
   "outputs": [],
   "source": [
    "from wandb.keras import WandbCallback\n",
    "\n",
    "from scripts.model import create_model\n",
    "from tensorflow.keras.optimizers import Adam\n",
    "from tensorflow.keras.losses import categorical_crossentropy"
   ]
  },
  {
   "cell_type": "code",
   "execution_count": null,
   "metadata": {},
   "outputs": [],
   "source": [
    "model = create_model(max_texts_length, max_summaries_length, len(vocabulary), 50, embeddings)\n",
    "run = wandb.init(reinit=True, name=model.name)\n",
    "model.compile(optimizer=Adam(lr=0.01), loss=categorical_crossentropy, metrics=['accuracy'])\n",
    "model.summary()"
   ]
  },
  {
   "cell_type": "code",
   "execution_count": null,
   "metadata": {},
   "outputs": [],
   "source": [
    "model.fit([np.array(padded_texts), np.array(padded_summaries)],\n",
    "              np.array(next_words),\n",
    "              batch_size=64, epochs=15, verbose=1, callbacks=[WandbCallback()])\n",
    "run.finish()"
   ]
  },
  {
   "cell_type": "markdown",
   "metadata": {},
   "source": [
    "# Evaluate Model on Test Data\n",
    "\n",
    "For this example, the above model was pre-trained on CUDA enabled hardware, and it's going to be imported from a `/models` directory."
   ]
  },
  {
   "cell_type": "code",
   "execution_count": 117,
   "metadata": {},
   "outputs": [],
   "source": [
    "from tensorflow.keras.models import load_model\n",
    "\n",
    "from scripts.model import decode\n",
    "from scripts.model import convert\n",
    "\n",
    "model = load_model('models/opinosis_model-a29091fb-b163-44d4-b8d5-33b3d98d8689.h5')"
   ]
  },
  {
   "cell_type": "markdown",
   "metadata": {},
   "source": [
    "## Prepare Test Data"
   ]
  },
  {
   "cell_type": "code",
   "execution_count": 118,
   "metadata": {},
   "outputs": [],
   "source": [
    "padded_texts_test = pad_sequences(test_texts, maxlen=padded_texts.shape[1])\n",
    "padded_summaries_test = pad_sequences(test_summaries, maxlen=padded_summaries.shape[1])"
   ]
  },
  {
   "cell_type": "markdown",
   "metadata": {},
   "source": [
    "## Generate Summaries and Evaluate Model"
   ]
  },
  {
   "cell_type": "code",
   "execution_count": null,
   "metadata": {},
   "outputs": [],
   "source": [
    "from scripts.model import calculate_rouge"
   ]
  },
  {
   "cell_type": "code",
   "execution_count": null,
   "metadata": {},
   "outputs": [],
   "source": [
    "model, input_sent, word_to_id, id_to_word, padding_size, verbose=False"
   ]
  },
  {
   "cell_type": "code",
   "execution_count": 132,
   "metadata": {},
   "outputs": [],
   "source": [
    "padded_summaries_test_pred = []\n",
    "for test_sentence in padded_texts_test:\n",
    "    padded_summaries_test_pred.append(decode(model,test_sentence, word_to_id, id_to_word, padded_summaries.shape[1]))"
   ]
  },
  {
   "cell_type": "code",
   "execution_count": 133,
   "metadata": {},
   "outputs": [],
   "source": [
    "gt_summaries = convert(padded_summaries,id_to_word)\n",
    "pred_summaries = convert(padded_summaries_test_pred, id_to_word)"
   ]
  },
  {
   "cell_type": "code",
   "execution_count": 134,
   "metadata": {},
   "outputs": [
    {
     "name": "stdout",
     "output_type": "stream",
     "text": [
      "BLEU score: 8.792966245470362e-232\n"
     ]
    },
    {
     "name": "stderr",
     "output_type": "stream",
     "text": [
      "/home/aleksandar/envs/nlp-2021-n/lib/python3.8/site-packages/nltk/translate/bleu_score.py:515: UserWarning: \n",
      "The hypothesis contains 0 counts of 2-gram overlaps.\n",
      "Therefore the BLEU score evaluates to 0, independently of\n",
      "how many N-gram overlaps of lower order it contains.\n",
      "Consider using lower n-gram order or use SmoothingFunction()\n",
      "  warnings.warn(_msg)\n",
      "/home/aleksandar/envs/nlp-2021-n/lib/python3.8/site-packages/nltk/translate/bleu_score.py:515: UserWarning: \n",
      "The hypothesis contains 0 counts of 3-gram overlaps.\n",
      "Therefore the BLEU score evaluates to 0, independently of\n",
      "how many N-gram overlaps of lower order it contains.\n",
      "Consider using lower n-gram order or use SmoothingFunction()\n",
      "  warnings.warn(_msg)\n",
      "/home/aleksandar/envs/nlp-2021-n/lib/python3.8/site-packages/nltk/translate/bleu_score.py:515: UserWarning: \n",
      "The hypothesis contains 0 counts of 4-gram overlaps.\n",
      "Therefore the BLEU score evaluates to 0, independently of\n",
      "how many N-gram overlaps of lower order it contains.\n",
      "Consider using lower n-gram order or use SmoothingFunction()\n",
      "  warnings.warn(_msg)\n"
     ]
    }
   ],
   "source": [
    "bleu = calculate_bleu(gt_summaries, pred_summaries)\n",
    "print(f\"BLEU score: {bleu}\")"
   ]
  },
  {
   "cell_type": "code",
   "execution_count": 135,
   "metadata": {},
   "outputs": [
    {
     "name": "stdout",
     "output_type": "stream",
     "text": [
      "ROUGE scores: [{'rouge1': Score(precision=0.041666666666666664, recall=0.04, fmeasure=0.04081632653061224), 'rougeL': Score(precision=0.041666666666666664, recall=0.04, fmeasure=0.04081632653061224)}, {'rouge1': Score(precision=0.041666666666666664, recall=0.04, fmeasure=0.04081632653061224), 'rougeL': Score(precision=0.041666666666666664, recall=0.04, fmeasure=0.04081632653061224)}, {'rouge1': Score(precision=0.041666666666666664, recall=0.04, fmeasure=0.04081632653061224), 'rougeL': Score(precision=0.041666666666666664, recall=0.04, fmeasure=0.04081632653061224)}, {'rouge1': Score(precision=0.041666666666666664, recall=0.04, fmeasure=0.04081632653061224), 'rougeL': Score(precision=0.041666666666666664, recall=0.04, fmeasure=0.04081632653061224)}, {'rouge1': Score(precision=0.041666666666666664, recall=0.04, fmeasure=0.04081632653061224), 'rougeL': Score(precision=0.041666666666666664, recall=0.04, fmeasure=0.04081632653061224)}, {'rouge1': Score(precision=0.041666666666666664, recall=0.04, fmeasure=0.04081632653061224), 'rougeL': Score(precision=0.041666666666666664, recall=0.04, fmeasure=0.04081632653061224)}]\n"
     ]
    }
   ],
   "source": [
    "rouge_scores = calculate_rouge(gt_summaries, pred_summaries)\n",
    "print(f\"ROUGE scores: {rouge_scores}\")"
   ]
  }
 ],
 "metadata": {
  "interpreter": {
   "hash": "02d0b1b3f612c4c5e51656c8d0ea12cc8bdc13c9ac193c394dc1e17c8d0fd734"
  },
  "kernelspec": {
   "display_name": "Python 3.8.10 64-bit ('nlp-2021-n': venv)",
   "language": "python",
   "name": "python3"
  },
  "language_info": {
   "codemirror_mode": {
    "name": "ipython",
    "version": 3
   },
   "file_extension": ".py",
   "mimetype": "text/x-python",
   "name": "python",
   "nbconvert_exporter": "python",
   "pygments_lexer": "ipython3",
   "version": "3.8.10"
  },
  "orig_nbformat": 4
 },
 "nbformat": 4,
 "nbformat_minor": 2
}
