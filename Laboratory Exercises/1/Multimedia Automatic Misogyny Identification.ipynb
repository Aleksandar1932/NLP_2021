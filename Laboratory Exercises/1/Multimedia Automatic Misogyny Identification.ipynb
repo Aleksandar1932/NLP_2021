{
 "cells": [
  {
   "cell_type": "markdown",
   "id": "2638a81a-1fe8-44f2-a81a-c59cdd646e92",
   "metadata": {},
   "source": [
    "# Imports and Utility functions"
   ]
  },
  {
   "cell_type": "code",
   "execution_count": 409,
   "id": "57966783-5563-413c-b6dc-09f6e08a6fa0",
   "metadata": {},
   "outputs": [
    {
     "name": "stderr",
     "output_type": "stream",
     "text": [
      "[nltk_data] Downloading package punkt to /home/aleksandar/nltk_data...\n",
      "[nltk_data]   Package punkt is already up-to-date!\n",
      "[nltk_data] Downloading package stopwords to\n",
      "[nltk_data]     /home/aleksandar/nltk_data...\n",
      "[nltk_data]   Package stopwords is already up-to-date!\n",
      "[nltk_data] Downloading package wordnet to\n",
      "[nltk_data]     /home/aleksandar/nltk_data...\n",
      "[nltk_data]   Package wordnet is already up-to-date!\n"
     ]
    }
   ],
   "source": [
    "from collections import Counter\n",
    "\n",
    "import matplotlib.pyplot as plt\n",
    "import seaborn as sns\n",
    "sns.set_theme(style=\"darkgrid\")\n",
    "import pandas as pd\n",
    "\n",
    "import nltk\n",
    "nltk.download('punkt')\n",
    "nltk.download('stopwords')\n",
    "nltk.download('wordnet')\n",
    "from nltk import word_tokenize\n",
    "from nltk.corpus import stopwords\n",
    "from nltk import WordNetLemmatizer\n",
    "from nltk import PorterStemmer"
   ]
  },
  {
   "cell_type": "code",
   "execution_count": 410,
   "id": "a91a058e-4f09-4d88-93ed-99ad7c551090",
   "metadata": {},
   "outputs": [],
   "source": [
    "def get_vocabulary_list(column: pd.core.series.Series) -> list:\n",
    "    vocabulary_list = list()\n",
    "    for tokens_list in column.values:\n",
    "        vocabulary_list.extend(tokens_list)\n",
    "        \n",
    "    return vocabulary_list"
   ]
  },
  {
   "cell_type": "code",
   "execution_count": 411,
   "id": "95a05ee4-043c-4771-94b0-0f1188e4f310",
   "metadata": {},
   "outputs": [],
   "source": [
    "def to_countmap(items: list) -> dict:\n",
    "    return Counter(items)"
   ]
  },
  {
   "cell_type": "code",
   "execution_count": 412,
   "id": "dd97bce5-b42f-4452-990a-f48b6d751eec",
   "metadata": {},
   "outputs": [],
   "source": [
    "ENGLISH_STOPWORDS = stopwords.words('english')"
   ]
  },
  {
   "cell_type": "markdown",
   "id": "791d2869-d377-4f29-b403-c96f1d80368d",
   "metadata": {},
   "source": [
    "# Task 1"
   ]
  },
  {
   "cell_type": "code",
   "execution_count": 413,
   "id": "ce69bc07-fed7-44e7-9c42-e646f0a949a8",
   "metadata": {},
   "outputs": [
    {
     "data": {
      "text/html": [
       "<div>\n",
       "<style scoped>\n",
       "    .dataframe tbody tr th:only-of-type {\n",
       "        vertical-align: middle;\n",
       "    }\n",
       "\n",
       "    .dataframe tbody tr th {\n",
       "        vertical-align: top;\n",
       "    }\n",
       "\n",
       "    .dataframe thead th {\n",
       "        text-align: right;\n",
       "    }\n",
       "</style>\n",
       "<table border=\"1\" class=\"dataframe\">\n",
       "  <thead>\n",
       "    <tr style=\"text-align: right;\">\n",
       "      <th></th>\n",
       "      <th>file_name</th>\n",
       "      <th>misogynous</th>\n",
       "      <th>shaming</th>\n",
       "      <th>stereotype</th>\n",
       "      <th>objectification</th>\n",
       "      <th>violence</th>\n",
       "      <th>Text Transcription</th>\n",
       "    </tr>\n",
       "  </thead>\n",
       "  <tbody>\n",
       "    <tr>\n",
       "      <th>0</th>\n",
       "      <td>28.jpg</td>\n",
       "      <td>0</td>\n",
       "      <td>0</td>\n",
       "      <td>0</td>\n",
       "      <td>0</td>\n",
       "      <td>0</td>\n",
       "      <td>not now, dad. We should burn Jon Snow. stop it...</td>\n",
       "    </tr>\n",
       "    <tr>\n",
       "      <th>1</th>\n",
       "      <td>30.jpg</td>\n",
       "      <td>0</td>\n",
       "      <td>0</td>\n",
       "      <td>0</td>\n",
       "      <td>0</td>\n",
       "      <td>0</td>\n",
       "      <td>there may have been a mixcommunication with th...</td>\n",
       "    </tr>\n",
       "    <tr>\n",
       "      <th>2</th>\n",
       "      <td>33.jpg</td>\n",
       "      <td>0</td>\n",
       "      <td>0</td>\n",
       "      <td>0</td>\n",
       "      <td>0</td>\n",
       "      <td>0</td>\n",
       "      <td>i shouldn't have sold my boat</td>\n",
       "    </tr>\n",
       "    <tr>\n",
       "      <th>3</th>\n",
       "      <td>58.jpg</td>\n",
       "      <td>1</td>\n",
       "      <td>0</td>\n",
       "      <td>0</td>\n",
       "      <td>0</td>\n",
       "      <td>1</td>\n",
       "      <td>Bitches be like, It was my fault i made him mad</td>\n",
       "    </tr>\n",
       "    <tr>\n",
       "      <th>4</th>\n",
       "      <td>89.jpg</td>\n",
       "      <td>0</td>\n",
       "      <td>0</td>\n",
       "      <td>0</td>\n",
       "      <td>0</td>\n",
       "      <td>0</td>\n",
       "      <td>find a picture of 4 girls together on FB make ...</td>\n",
       "    </tr>\n",
       "  </tbody>\n",
       "</table>\n",
       "</div>"
      ],
      "text/plain": [
       "  file_name  misogynous  shaming  stereotype  objectification  violence  \\\n",
       "0    28.jpg           0        0           0                0         0   \n",
       "1    30.jpg           0        0           0                0         0   \n",
       "2    33.jpg           0        0           0                0         0   \n",
       "3    58.jpg           1        0           0                0         1   \n",
       "4    89.jpg           0        0           0                0         0   \n",
       "\n",
       "                                  Text Transcription  \n",
       "0  not now, dad. We should burn Jon Snow. stop it...  \n",
       "1  there may have been a mixcommunication with th...  \n",
       "2                      i shouldn't have sold my boat  \n",
       "3    Bitches be like, It was my fault i made him mad  \n",
       "4  find a picture of 4 girls together on FB make ...  "
      ]
     },
     "execution_count": 413,
     "metadata": {},
     "output_type": "execute_result"
    }
   ],
   "source": [
    "df = pd.read_csv('data/trial.csv',delimiter=\"\t\")\n",
    "df.head()"
   ]
  },
  {
   "cell_type": "markdown",
   "id": "81142e50-f5b1-4476-8f3d-f1ece75cb690",
   "metadata": {},
   "source": [
    "## Subtask A"
   ]
  },
  {
   "cell_type": "code",
   "execution_count": 414,
   "id": "2b8ce4e0-5eb3-4f84-a2b3-8b59eeed7a54",
   "metadata": {},
   "outputs": [],
   "source": [
    "def remove_punctuation(token:str)->str:\n",
    "    punctuation_regex = '!\"#$&\\'()*+,-./:;<=>?@[\\\\]^_`{|}~'\n",
    "    return ' '.join(word.strip(punctuation_regex) for word in token.split())\n",
    "\n",
    "def nlp_pipeline(token:str) -> str:\n",
    "    token = remove_punctuation(token)\n",
    "    tokens = word_tokenize(token.lower())\n",
    "    tokens = [token for token in tokens if token not in ENGLISH_STOPWORDS]\n",
    "    return tokens"
   ]
  },
  {
   "cell_type": "code",
   "execution_count": 415,
   "id": "5457a469-cfb0-4019-8660-e81965982fc0",
   "metadata": {},
   "outputs": [],
   "source": [
    "df['Text Transription Tokens'] = df['Text Transcription'].apply(lambda x: nlp_pipeline(x))"
   ]
  },
  {
   "cell_type": "code",
   "execution_count": 416,
   "id": "5c1644c0-f7b8-44d3-b19a-86af3c76dec6",
   "metadata": {},
   "outputs": [
    {
     "data": {
      "text/html": [
       "<div>\n",
       "<style scoped>\n",
       "    .dataframe tbody tr th:only-of-type {\n",
       "        vertical-align: middle;\n",
       "    }\n",
       "\n",
       "    .dataframe tbody tr th {\n",
       "        vertical-align: top;\n",
       "    }\n",
       "\n",
       "    .dataframe thead th {\n",
       "        text-align: right;\n",
       "    }\n",
       "</style>\n",
       "<table border=\"1\" class=\"dataframe\">\n",
       "  <thead>\n",
       "    <tr style=\"text-align: right;\">\n",
       "      <th></th>\n",
       "      <th>file_name</th>\n",
       "      <th>misogynous</th>\n",
       "      <th>shaming</th>\n",
       "      <th>stereotype</th>\n",
       "      <th>objectification</th>\n",
       "      <th>violence</th>\n",
       "      <th>Text Transcription</th>\n",
       "      <th>Text Transription Tokens</th>\n",
       "    </tr>\n",
       "  </thead>\n",
       "  <tbody>\n",
       "    <tr>\n",
       "      <th>0</th>\n",
       "      <td>28.jpg</td>\n",
       "      <td>0</td>\n",
       "      <td>0</td>\n",
       "      <td>0</td>\n",
       "      <td>0</td>\n",
       "      <td>0</td>\n",
       "      <td>not now, dad. We should burn Jon Snow. stop it...</td>\n",
       "      <td>[dad, burn, jon, snow, stop, dad, know, happen...</td>\n",
       "    </tr>\n",
       "    <tr>\n",
       "      <th>1</th>\n",
       "      <td>30.jpg</td>\n",
       "      <td>0</td>\n",
       "      <td>0</td>\n",
       "      <td>0</td>\n",
       "      <td>0</td>\n",
       "      <td>0</td>\n",
       "      <td>there may have been a mixcommunication with th...</td>\n",
       "      <td>[may, mixcommunication, decorator, happy, birt...</td>\n",
       "    </tr>\n",
       "    <tr>\n",
       "      <th>2</th>\n",
       "      <td>33.jpg</td>\n",
       "      <td>0</td>\n",
       "      <td>0</td>\n",
       "      <td>0</td>\n",
       "      <td>0</td>\n",
       "      <td>0</td>\n",
       "      <td>i shouldn't have sold my boat</td>\n",
       "      <td>[n't, sold, boat]</td>\n",
       "    </tr>\n",
       "    <tr>\n",
       "      <th>3</th>\n",
       "      <td>58.jpg</td>\n",
       "      <td>1</td>\n",
       "      <td>0</td>\n",
       "      <td>0</td>\n",
       "      <td>0</td>\n",
       "      <td>1</td>\n",
       "      <td>Bitches be like, It was my fault i made him mad</td>\n",
       "      <td>[bitches, like, fault, made, mad]</td>\n",
       "    </tr>\n",
       "    <tr>\n",
       "      <th>4</th>\n",
       "      <td>89.jpg</td>\n",
       "      <td>0</td>\n",
       "      <td>0</td>\n",
       "      <td>0</td>\n",
       "      <td>0</td>\n",
       "      <td>0</td>\n",
       "      <td>find a picture of 4 girls together on FB make ...</td>\n",
       "      <td>[find, picture, 4, girls, together, fb, make, ...</td>\n",
       "    </tr>\n",
       "  </tbody>\n",
       "</table>\n",
       "</div>"
      ],
      "text/plain": [
       "  file_name  misogynous  shaming  stereotype  objectification  violence  \\\n",
       "0    28.jpg           0        0           0                0         0   \n",
       "1    30.jpg           0        0           0                0         0   \n",
       "2    33.jpg           0        0           0                0         0   \n",
       "3    58.jpg           1        0           0                0         1   \n",
       "4    89.jpg           0        0           0                0         0   \n",
       "\n",
       "                                  Text Transcription  \\\n",
       "0  not now, dad. We should burn Jon Snow. stop it...   \n",
       "1  there may have been a mixcommunication with th...   \n",
       "2                      i shouldn't have sold my boat   \n",
       "3    Bitches be like, It was my fault i made him mad   \n",
       "4  find a picture of 4 girls together on FB make ...   \n",
       "\n",
       "                            Text Transription Tokens  \n",
       "0  [dad, burn, jon, snow, stop, dad, know, happen...  \n",
       "1  [may, mixcommunication, decorator, happy, birt...  \n",
       "2                                  [n't, sold, boat]  \n",
       "3                  [bitches, like, fault, made, mad]  \n",
       "4  [find, picture, 4, girls, together, fb, make, ...  "
      ]
     },
     "execution_count": 416,
     "metadata": {},
     "output_type": "execute_result"
    }
   ],
   "source": [
    "df.head()"
   ]
  },
  {
   "cell_type": "code",
   "execution_count": 417,
   "id": "f6c96031-457e-48f5-86c2-c8a19174c89d",
   "metadata": {},
   "outputs": [],
   "source": [
    "vocabulary_list = get_vocabulary_list(df['Text Transription Tokens'])"
   ]
  },
  {
   "cell_type": "code",
   "execution_count": 418,
   "id": "e70ff5ac-f953-4f71-a5fc-0e7dcaf7b66a",
   "metadata": {},
   "outputs": [
    {
     "data": {
      "text/plain": [
       "Counter({'dad': 2,\n",
       "         'burn': 1,\n",
       "         'jon': 1,\n",
       "         'snow': 3,\n",
       "         'stop': 1,\n",
       "         'know': 3,\n",
       "         'happen': 1,\n",
       "         'becomes': 1,\n",
       "         'white': 4,\n",
       "         'walker': 1,\n",
       "         \"'ll\": 3,\n",
       "         'become': 1,\n",
       "         'may': 2,\n",
       "         'mixcommunication': 1,\n",
       "         'decorator': 1,\n",
       "         'happy': 2,\n",
       "         'birthday': 2,\n",
       "         'dick': 1,\n",
       "         'ha': 3,\n",
       "         \"n't\": 15,\n",
       "         'write': 1,\n",
       "         'name': 1,\n",
       "         'matt': 1,\n",
       "         'sold': 1,\n",
       "         'boat': 1,\n",
       "         'bitches': 1,\n",
       "         'like': 8,\n",
       "         'fault': 1,\n",
       "         'made': 2,\n",
       "         'mad': 1,\n",
       "         'find': 1,\n",
       "         'picture': 1,\n",
       "         '4': 1,\n",
       "         'girls': 5,\n",
       "         'together': 1,\n",
       "         'fb': 1,\n",
       "         'make': 4,\n",
       "         'comemnt': 1,\n",
       "         'three': 2,\n",
       "         'look': 4,\n",
       "         'pretty': 1,\n",
       "         'circumcision': 2,\n",
       "         'alright': 2,\n",
       "         'child': 1,\n",
       "         'wo': 1,\n",
       "         'remember': 1,\n",
       "         'date': 1,\n",
       "         'rape': 5,\n",
       "         'well': 2,\n",
       "         'hey': 1,\n",
       "         \"'m\": 6,\n",
       "         'peeing': 1,\n",
       "         'lives': 1,\n",
       "         'mere': 2,\n",
       "         'men': 6,\n",
       "         'kill': 1,\n",
       "         'gon': 2,\n",
       "         'na': 3,\n",
       "         'accuse': 1,\n",
       "         'sexual': 1,\n",
       "         'assault': 1,\n",
       "         'said': 6,\n",
       "         'something': 3,\n",
       "         'funny': 1,\n",
       "         'someone': 2,\n",
       "         'else': 2,\n",
       "         'louder': 1,\n",
       "         'people': 3,\n",
       "         'laughed': 1,\n",
       "         'hello': 2,\n",
       "         'prince': 1,\n",
       "         'live': 1,\n",
       "         'happily': 1,\n",
       "         'ever': 2,\n",
       "         'give': 1,\n",
       "         'broccoli': 1,\n",
       "         'halloween': 1,\n",
       "         'idea': 1,\n",
       "         'traumatizing': 1,\n",
       "         'little': 2,\n",
       "         'left': 1,\n",
       "         'client': 1,\n",
       "         \"'s\": 8,\n",
       "         'defense': 1,\n",
       "         'red': 1,\n",
       "         'light': 2,\n",
       "         'green': 1,\n",
       "         'exaclty': 1,\n",
       "         'open': 3,\n",
       "         'card': 1,\n",
       "         'pretend': 1,\n",
       "         'notice': 1,\n",
       "         'money': 1,\n",
       "         'finish': 1,\n",
       "         'reading': 1,\n",
       "         'yeah': 1,\n",
       "         'believe': 1,\n",
       "         'god': 3,\n",
       "         'woman': 6,\n",
       "         'could': 3,\n",
       "         'emotionally': 1,\n",
       "         'unstable': 1,\n",
       "         \"'re\": 4,\n",
       "         'fifa': 1,\n",
       "         'fair': 1,\n",
       "         'ooh': 1,\n",
       "         'loo': 1,\n",
       "         'rich': 1,\n",
       "         'country': 1,\n",
       "         'wants': 1,\n",
       "         'host': 1,\n",
       "         '2018': 1,\n",
       "         'met': 1,\n",
       "         'crazy': 1,\n",
       "         'future': 1,\n",
       "         'baby': 1,\n",
       "         'show': 1,\n",
       "         'attitude': 1,\n",
       "         'actually': 1,\n",
       "         'best': 1,\n",
       "         'coffee': 1,\n",
       "         'ready': 1,\n",
       "         'told': 2,\n",
       "         'raydong': 1,\n",
       "         'actual': 1,\n",
       "         'dog': 1,\n",
       "         'perfect': 2,\n",
       "         'exhibit': 1,\n",
       "         'equal': 5,\n",
       "         'rights': 4,\n",
       "         'responsibilities': 2,\n",
       "         'complaining': 1,\n",
       "         'feminists': 2,\n",
       "         'call': 2,\n",
       "         'dumb': 1,\n",
       "         'blonde': 1,\n",
       "         'two': 3,\n",
       "         'brain': 1,\n",
       "         'cells': 1,\n",
       "         'pregnant': 1,\n",
       "         'love': 1,\n",
       "         'air': 2,\n",
       "         'wrong': 2,\n",
       "         'nitrogeon': 1,\n",
       "         'oxygen': 1,\n",
       "         'anda': 1,\n",
       "         'carbon': 1,\n",
       "         'dioxide': 1,\n",
       "         'lol': 1,\n",
       "         'freind': 1,\n",
       "         'says': 1,\n",
       "         'bazzinga': 1,\n",
       "         'cause': 1,\n",
       "         'samiches': 1,\n",
       "         'ai': 2,\n",
       "         'millionaire': 1,\n",
       "         '?': 2,\n",
       "         'yes': 1,\n",
       "         'billionaire': 1,\n",
       "         'u': 1,\n",
       "         'nice': 3,\n",
       "         'hat': 1,\n",
       "         'mentions': 1,\n",
       "         'feel': 1,\n",
       "         'apply': 1,\n",
       "         'cold': 1,\n",
       "         'water': 1,\n",
       "         'burned': 1,\n",
       "         'area': 2,\n",
       "         'women': 23,\n",
       "         'international': 1,\n",
       "         'day': 2,\n",
       "         'zelda': 1,\n",
       "         'girl': 3,\n",
       "         'stupidity': 1,\n",
       "         'hurts': 1,\n",
       "         '36': 1,\n",
       "         'years': 1,\n",
       "         'ago': 1,\n",
       "         'party': 1,\n",
       "         'remembers': 1,\n",
       "         'judge': 1,\n",
       "         'kavanaugh': 1,\n",
       "         'groped': 1,\n",
       "         'think': 3,\n",
       "         'hipster': 2,\n",
       "         'never': 2,\n",
       "         'car-seat': 1,\n",
       "         'replaced-with-vintage': 1,\n",
       "         'rocking-chair': 1,\n",
       "         'want': 3,\n",
       "         'need': 1,\n",
       "         'watches': 1,\n",
       "         'clocks': 1,\n",
       "         'stove': 1,\n",
       "         'us': 3,\n",
       "         'hate': 2,\n",
       "         'running': 2,\n",
       "         'nd': 1,\n",
       "         'exist': 2,\n",
       "         'ol': 1,\n",
       "         'razzle': 1,\n",
       "         'dazzle': 1,\n",
       "         'excuse': 1,\n",
       "         'sir': 1,\n",
       "         'time': 3,\n",
       "         'talk': 2,\n",
       "         'lord': 1,\n",
       "         'poseidon': 1,\n",
       "         'hel': 1,\n",
       "         'help': 1,\n",
       "         'get': 4,\n",
       "         '1000': 1,\n",
       "         'dollars': 1,\n",
       "         'cash': 1,\n",
       "         '...': 4,\n",
       "         'one': 4,\n",
       "         'google': 4,\n",
       "         'deleted': 1,\n",
       "         'happened': 1,\n",
       "         'please': 1,\n",
       "         'tell': 1,\n",
       "         'calendar': 1,\n",
       "         'ca': 1,\n",
       "         'monday': 1,\n",
       "         'taylor': 1,\n",
       "         'swift': 1,\n",
       "         'taylor-swift-to-be-with-every-guy': 1,\n",
       "         'mary': 2,\n",
       "         'gave': 1,\n",
       "         'birth': 1,\n",
       "         'jesus': 2,\n",
       "         'lamb': 2,\n",
       "         'hi': 1,\n",
       "         'ho': 1,\n",
       "         'nothing': 1,\n",
       "         'babe': 1,\n",
       "         'stuff': 1,\n",
       "         'crashed': 1,\n",
       "         'car': 1,\n",
       "         'women…': 1,\n",
       "         'internet': 1,\n",
       "         'friends': 1,\n",
       "         'benefits': 1,\n",
       "         'healthcare': 1,\n",
       "         'dental': 1,\n",
       "         'single': 1,\n",
       "         'good': 1,\n",
       "         'man': 2,\n",
       "         'type': 1,\n",
       "         'making': 1,\n",
       "         'zero': 1,\n",
       "         'hand': 1,\n",
       "         'say': 1,\n",
       "         'related': 1,\n",
       "         'side': 1,\n",
       "         'must': 1,\n",
       "         \"'ve\": 3,\n",
       "         'meowed': 1,\n",
       "         'thousands': 1,\n",
       "         \"'d\": 2,\n",
       "         'maybe': 1,\n",
       "         'new': 1,\n",
       "         'bracelet': 1,\n",
       "         'let': 1,\n",
       "         'leave': 1,\n",
       "         'house': 1,\n",
       "         'hungry': 1,\n",
       "         'horny': 1,\n",
       "         'somewhere': 1,\n",
       "         'whore': 2,\n",
       "         'sammiches': 1,\n",
       "         '5ft': 1,\n",
       "         'pool': 1,\n",
       "         'supposed': 1,\n",
       "         'pull': 1,\n",
       "         'chair': 1,\n",
       "         'hold': 2,\n",
       "         'door': 1,\n",
       "         'pay': 2,\n",
       "         'matter': 1,\n",
       "         'treating': 1,\n",
       "         'words': 1,\n",
       "         'vegan': 1,\n",
       "         'organic': 1,\n",
       "         'synonymous': 1,\n",
       "         'word': 1,\n",
       "         'healthy': 1,\n",
       "         'fidget': 1,\n",
       "         'spinner': 1,\n",
       "         'even': 1,\n",
       "         'useless': 1,\n",
       "         'take': 3,\n",
       "         'bath': 1,\n",
       "         'fun': 1,\n",
       "         'thinks': 1,\n",
       "         'religion': 1,\n",
       "         'nonsense': 1,\n",
       "         'crystals': 1,\n",
       "         'bring': 1,\n",
       "         'healing': 1,\n",
       "         'energy': 2,\n",
       "         'cmon': 1,\n",
       "         'vanessa': 1,\n",
       "         'dig': 1,\n",
       "         'deep': 1,\n",
       "         'wan': 1,\n",
       "         'work': 5,\n",
       "         '9-5': 1,\n",
       "         'job': 2,\n",
       "         'post': 2,\n",
       "         'pics': 1,\n",
       "         'ass': 1,\n",
       "         'instagram': 1,\n",
       "         'ball': 1,\n",
       "         'attacked': 1,\n",
       "         'swear': 1,\n",
       "         'gamer': 1,\n",
       "         'try': 1,\n",
       "         'attention': 1,\n",
       "         'really': 1,\n",
       "         'lashes': 1,\n",
       "         'eye': 1,\n",
       "         'brows': 1,\n",
       "         'quick': 2,\n",
       "         'back': 1,\n",
       "         'truck': 1,\n",
       "         'dropped': 1,\n",
       "         'dewsbury': 1,\n",
       "         'uhm': 1,\n",
       "         'boobs': 1,\n",
       "         'go': 1,\n",
       "         'inside': 1,\n",
       "         'shirt': 1,\n",
       "         'found': 1,\n",
       "         'shortest': 1,\n",
       "         'zone': 2,\n",
       "         'begins': 1,\n",
       "         'end': 1,\n",
       "         'road': 1,\n",
       "         'demand': 1,\n",
       "         'perfection': 1,\n",
       "         'hide': 1,\n",
       "         'zits': 1,\n",
       "         'moles': 1,\n",
       "         '3': 1,\n",
       "         'inches': 1,\n",
       "         'make-up': 1,\n",
       "         'period': 1,\n",
       "         'products': 1,\n",
       "         'oppress': 1,\n",
       "         'advertise': 1,\n",
       "         'facebook': 1,\n",
       "         'exists': 1,\n",
       "         'old': 1,\n",
       "         'place': 1,\n",
       "         'play': 4,\n",
       "         'political': 1,\n",
       "         'agenda': 1,\n",
       "         'upvotes': 1,\n",
       "         'meme': 1,\n",
       "         'took': 1,\n",
       "         'seconds': 1,\n",
       "         'steal': 1,\n",
       "         'shh': 1,\n",
       "         'hear': 1,\n",
       "         'sound': 1,\n",
       "         'sandwicht': 1,\n",
       "         'opens': 1,\n",
       "         'package': 1,\n",
       "         'sets': 1,\n",
       "         'box': 1,\n",
       "         'aside': 1,\n",
       "         'cat': 1,\n",
       "         'wait': 1,\n",
       "         'legs': 1,\n",
       "         'faster': 1,\n",
       "         'home': 1,\n",
       "         'page': 1,\n",
       "         'claim': 1,\n",
       "         'wife': 1,\n",
       "         'material': 1,\n",
       "         'speed': 1,\n",
       "         'walking': 2,\n",
       "         'sport': 2,\n",
       "         '..': 1,\n",
       "         'dont': 1,\n",
       "         'speedwalk': 1,\n",
       "         'fridge': 1,\n",
       "         'beer': 1,\n",
       "         'paid': 1,\n",
       "         'politcs': 1,\n",
       "         '30': 1,\n",
       "         '%': 1,\n",
       "         'kust': 1,\n",
       "         'shut': 1,\n",
       "         'fuck': 1,\n",
       "         'importantly': 1,\n",
       "         'bitch': 1,\n",
       "         'kitchen': 1,\n",
       "         'teachers': 1,\n",
       "         'send': 1,\n",
       "         'test': 1,\n",
       "         'advance': 1,\n",
       "         'reddit': 1,\n",
       "         'anything': 1,\n",
       "         'surprised': 1,\n",
       "         'pikachu': 1,\n",
       "         'memes': 1,\n",
       "         'wanted': 1,\n",
       "         'pc': 1,\n",
       "         'games': 1,\n",
       "         'bought': 1,\n",
       "         'mac': 1,\n",
       "         'floor': 1,\n",
       "         'types': 1,\n",
       "         'life': 1,\n",
       "         'choose': 1,\n",
       "         'wisely': 1,\n",
       "         'annual': 1,\n",
       "         'meeting': 1,\n",
       "         'drivers': 2,\n",
       "         'bad': 1,\n",
       "         'trump': 2,\n",
       "         'credit': 1,\n",
       "         'cyberbullying': 1,\n",
       "         'solution': 1,\n",
       "         'pellets': 1,\n",
       "         'respect': 2,\n",
       "         'applicator': 1,\n",
       "         'elizabeth': 1,\n",
       "         'hillary': 1,\n",
       "         'representing': 1,\n",
       "         'nasty': 2,\n",
       "         'america': 1,\n",
       "         'decades': 1,\n",
       "         'communist': 1,\n",
       "         'indeed': 1,\n",
       "         'possible': 1,\n",
       "         'explanation': 1,\n",
       "         'jews': 1,\n",
       "         'complining': 1,\n",
       "         'costs': 1,\n",
       "         'free': 1,\n",
       "         'gas': 1,\n",
       "         'requires': 1,\n",
       "         'physical': 1,\n",
       "         'labor': 1,\n",
       "         'culture': 1,\n",
       "         'every': 1,\n",
       "         'oxymoronic': 1,\n",
       "         'feminist': 1,\n",
       "         'wearing': 1,\n",
       "         'year': 1,\n",
       "         'telereporting': 1,\n",
       "         'going': 2,\n",
       "         'destination': 1,\n",
       "         'taking': 1,\n",
       "         'pussy': 1,\n",
       "         'wet': 1,\n",
       "         'always': 1,\n",
       "         'practice': 1,\n",
       "         'proper': 1,\n",
       "         'etiquette': 1,\n",
       "         'vs': 1,\n",
       "         'boys': 1,\n",
       "         'school': 1,\n",
       "         'travel': 1,\n",
       "         'shopping': 1,\n",
       "         'sea': 1})"
      ]
     },
     "execution_count": 418,
     "metadata": {},
     "output_type": "execute_result"
    }
   ],
   "source": [
    "word_counts = to_countmap(vocabulary_list)\n",
    "word_counts"
   ]
  },
  {
   "cell_type": "code",
   "execution_count": 419,
   "id": "c95f7b99-a8c3-45d3-91d0-15333f29327c",
   "metadata": {},
   "outputs": [
    {
     "data": {
      "text/plain": [
       "'Vocabulary size: 470'"
      ]
     },
     "execution_count": 419,
     "metadata": {},
     "output_type": "execute_result"
    }
   ],
   "source": [
    "f\"Vocabulary size: {len(word_counts.keys())}\""
   ]
  },
  {
   "cell_type": "code",
   "execution_count": 420,
   "id": "163d060e-92a3-4acd-8288-1fd2aa85b4f1",
   "metadata": {},
   "outputs": [],
   "source": [
    "word_counts_sorted = dict(sorted(word_counts.items(), key=lambda item: item[1], reverse=True))"
   ]
  },
  {
   "cell_type": "code",
   "execution_count": 421,
   "id": "08511197-291a-4a80-8956-cfde14759f5d",
   "metadata": {},
   "outputs": [],
   "source": [
    "most_frequent = dict(list(word_counts_sorted.items())[:20])"
   ]
  },
  {
   "cell_type": "code",
   "execution_count": 422,
   "id": "1df98bb8-cf2d-4982-b021-28a3b9385372",
   "metadata": {},
   "outputs": [
    {
     "data": {
      "image/png": "[encoded data removed]",
      "text/plain": [
       "<Figure size 2160x720 with 1 Axes>"
      ]
     },
     "metadata": {},
     "output_type": "display_data"
    }
   ],
   "source": [
    "plt.figure(figsize=(30,10))\n",
    "ax = sns.barplot(x=list(most_frequent.keys()), y=list(most_frequent.values()))\n",
    "ax.tick_params(axis='x', rotation=90)"
   ]
  },
  {
   "cell_type": "markdown",
   "id": "0fd6412e-6712-4d5c-bbdd-1b246a979167",
   "metadata": {},
   "source": [
    "## Subtask B"
   ]
  },
  {
   "cell_type": "code",
   "execution_count": 423,
   "id": "77aa0af5-c0fc-4431-8fbc-721cd11be698",
   "metadata": {},
   "outputs": [],
   "source": [
    "\"\"\"Removes the items which have values less than k, i.e. words which occure less than k-times\"\"\"\n",
    "def remove_less_than(word_counts, k:int)->dict:\n",
    "    return dict([item for item in word_counts.items() if item[1] >= k])"
   ]
  },
  {
   "cell_type": "code",
   "execution_count": 424,
   "id": "147679d4-fbc9-4a71-9f17-cd3005273195",
   "metadata": {},
   "outputs": [
    {
     "name": "stdout",
     "output_type": "stream",
     "text": [
      "Vocabulary size: 470\n",
      "\tVocabulary size with k=5: 12\n",
      "\tVocabulary size with k=10: 2\n",
      "\tVocabulary size with k=15: 2\n"
     ]
    }
   ],
   "source": [
    "print(f\"Vocabulary size: {len(word_counts.keys())}\")\n",
    "for k in [5, 10, 15]:\n",
    "    filtered = remove_less_than(word_counts, k)\n",
    "    print(f\"\\tVocabulary size with k={k}: {len(filtered.keys())}\")"
   ]
  },
  {
   "cell_type": "code",
   "execution_count": 425,
   "id": "4301ca28-cf63-4221-980b-39a2f961ebe3",
   "metadata": {},
   "outputs": [],
   "source": [
    "word_counts_filtered = remove_less_than(word_counts, 5)"
   ]
  },
  {
   "cell_type": "code",
   "execution_count": 426,
   "id": "bda52fa1-84a6-482f-adf9-0eacc748f325",
   "metadata": {},
   "outputs": [
    {
     "name": "stdout",
     "output_type": "stream",
     "text": [
      "Vocabulary size: 12\n"
     ]
    }
   ],
   "source": [
    "print(f\"Vocabulary size: {len(word_counts_filtered.keys())}\")"
   ]
  },
  {
   "cell_type": "markdown",
   "id": "a94116eb-a310-4385-a954-6ebaa2d8a694",
   "metadata": {},
   "source": [
    "## Subtask C"
   ]
  },
  {
   "cell_type": "code",
   "execution_count": 427,
   "id": "8ce3b8a8-a96c-482b-8b95-8d9513ef8032",
   "metadata": {},
   "outputs": [],
   "source": [
    "def lemmatize(word:str, tag=None) -> str:\n",
    "    lemmatizer = WordNetLemmatizer()\n",
    "\n",
    "    return lemmatizer.lemmatize(word,tag) if tag else  lemmatizer.lemmatize(word)"
   ]
  },
  {
   "cell_type": "code",
   "execution_count": 428,
   "id": "b48ead7a-6d49-4dff-85b3-bf71c2c7c679",
   "metadata": {},
   "outputs": [],
   "source": [
    "def stem(word:str) -> str:\n",
    "    stemmer = PorterStemmer()\n",
    "    return stemmer.stem(word)"
   ]
  },
  {
   "cell_type": "code",
   "execution_count": 429,
   "id": "9fbe1f8c-403d-448c-84f1-1cb51894817e",
   "metadata": {},
   "outputs": [
    {
     "data": {
      "text/html": [
       "<div>\n",
       "<style scoped>\n",
       "    .dataframe tbody tr th:only-of-type {\n",
       "        vertical-align: middle;\n",
       "    }\n",
       "\n",
       "    .dataframe tbody tr th {\n",
       "        vertical-align: top;\n",
       "    }\n",
       "\n",
       "    .dataframe thead th {\n",
       "        text-align: right;\n",
       "    }\n",
       "</style>\n",
       "<table border=\"1\" class=\"dataframe\">\n",
       "  <thead>\n",
       "    <tr style=\"text-align: right;\">\n",
       "      <th></th>\n",
       "      <th>file_name</th>\n",
       "      <th>misogynous</th>\n",
       "      <th>shaming</th>\n",
       "      <th>stereotype</th>\n",
       "      <th>objectification</th>\n",
       "      <th>violence</th>\n",
       "      <th>Text Transcription</th>\n",
       "      <th>Text Transription Tokens</th>\n",
       "    </tr>\n",
       "  </thead>\n",
       "  <tbody>\n",
       "    <tr>\n",
       "      <th>0</th>\n",
       "      <td>28.jpg</td>\n",
       "      <td>0</td>\n",
       "      <td>0</td>\n",
       "      <td>0</td>\n",
       "      <td>0</td>\n",
       "      <td>0</td>\n",
       "      <td>not now, dad. We should burn Jon Snow. stop it...</td>\n",
       "      <td>[dad, burn, jon, snow, stop, dad, know, happen...</td>\n",
       "    </tr>\n",
       "    <tr>\n",
       "      <th>1</th>\n",
       "      <td>30.jpg</td>\n",
       "      <td>0</td>\n",
       "      <td>0</td>\n",
       "      <td>0</td>\n",
       "      <td>0</td>\n",
       "      <td>0</td>\n",
       "      <td>there may have been a mixcommunication with th...</td>\n",
       "      <td>[may, mixcommunication, decorator, happy, birt...</td>\n",
       "    </tr>\n",
       "    <tr>\n",
       "      <th>2</th>\n",
       "      <td>33.jpg</td>\n",
       "      <td>0</td>\n",
       "      <td>0</td>\n",
       "      <td>0</td>\n",
       "      <td>0</td>\n",
       "      <td>0</td>\n",
       "      <td>i shouldn't have sold my boat</td>\n",
       "      <td>[n't, sold, boat]</td>\n",
       "    </tr>\n",
       "    <tr>\n",
       "      <th>3</th>\n",
       "      <td>58.jpg</td>\n",
       "      <td>1</td>\n",
       "      <td>0</td>\n",
       "      <td>0</td>\n",
       "      <td>0</td>\n",
       "      <td>1</td>\n",
       "      <td>Bitches be like, It was my fault i made him mad</td>\n",
       "      <td>[bitches, like, fault, made, mad]</td>\n",
       "    </tr>\n",
       "    <tr>\n",
       "      <th>4</th>\n",
       "      <td>89.jpg</td>\n",
       "      <td>0</td>\n",
       "      <td>0</td>\n",
       "      <td>0</td>\n",
       "      <td>0</td>\n",
       "      <td>0</td>\n",
       "      <td>find a picture of 4 girls together on FB make ...</td>\n",
       "      <td>[find, picture, 4, girls, together, fb, make, ...</td>\n",
       "    </tr>\n",
       "  </tbody>\n",
       "</table>\n",
       "</div>"
      ],
      "text/plain": [
       "  file_name  misogynous  shaming  stereotype  objectification  violence  \\\n",
       "0    28.jpg           0        0           0                0         0   \n",
       "1    30.jpg           0        0           0                0         0   \n",
       "2    33.jpg           0        0           0                0         0   \n",
       "3    58.jpg           1        0           0                0         1   \n",
       "4    89.jpg           0        0           0                0         0   \n",
       "\n",
       "                                  Text Transcription  \\\n",
       "0  not now, dad. We should burn Jon Snow. stop it...   \n",
       "1  there may have been a mixcommunication with th...   \n",
       "2                      i shouldn't have sold my boat   \n",
       "3    Bitches be like, It was my fault i made him mad   \n",
       "4  find a picture of 4 girls together on FB make ...   \n",
       "\n",
       "                            Text Transription Tokens  \n",
       "0  [dad, burn, jon, snow, stop, dad, know, happen...  \n",
       "1  [may, mixcommunication, decorator, happy, birt...  \n",
       "2                                  [n't, sold, boat]  \n",
       "3                  [bitches, like, fault, made, mad]  \n",
       "4  [find, picture, 4, girls, together, fb, make, ...  "
      ]
     },
     "execution_count": 429,
     "metadata": {},
     "output_type": "execute_result"
    }
   ],
   "source": [
    "df.head()"
   ]
  },
  {
   "cell_type": "code",
   "execution_count": 430,
   "id": "e37edd86-61f7-4d00-948c-03f975986d49",
   "metadata": {},
   "outputs": [],
   "source": [
    "df['Text Transription Tokens (Lemmatized)'] = df['Text Transription Tokens'].apply(lambda x:[lemmatize(token) for token in x])"
   ]
  },
  {
   "cell_type": "code",
   "execution_count": 431,
   "id": "fe708a0a-3007-41e4-895d-67b8e06439ad",
   "metadata": {},
   "outputs": [],
   "source": [
    "df['Text Transription Tokens (Stemmed)'] = df['Text Transription Tokens'].apply(lambda x:[stem(token) for token in x])"
   ]
  },
  {
   "cell_type": "code",
   "execution_count": 432,
   "id": "f345a9d7-4793-4484-8cb7-4177c5473369",
   "metadata": {},
   "outputs": [
    {
     "data": {
      "text/html": [
       "<div>\n",
       "<style scoped>\n",
       "    .dataframe tbody tr th:only-of-type {\n",
       "        vertical-align: middle;\n",
       "    }\n",
       "\n",
       "    .dataframe tbody tr th {\n",
       "        vertical-align: top;\n",
       "    }\n",
       "\n",
       "    .dataframe thead th {\n",
       "        text-align: right;\n",
       "    }\n",
       "</style>\n",
       "<table border=\"1\" class=\"dataframe\">\n",
       "  <thead>\n",
       "    <tr style=\"text-align: right;\">\n",
       "      <th></th>\n",
       "      <th>file_name</th>\n",
       "      <th>misogynous</th>\n",
       "      <th>shaming</th>\n",
       "      <th>stereotype</th>\n",
       "      <th>objectification</th>\n",
       "      <th>violence</th>\n",
       "      <th>Text Transcription</th>\n",
       "      <th>Text Transription Tokens</th>\n",
       "      <th>Text Transription Tokens (Lemmatized)</th>\n",
       "      <th>Text Transription Tokens (Stemmed)</th>\n",
       "    </tr>\n",
       "  </thead>\n",
       "  <tbody>\n",
       "    <tr>\n",
       "      <th>0</th>\n",
       "      <td>28.jpg</td>\n",
       "      <td>0</td>\n",
       "      <td>0</td>\n",
       "      <td>0</td>\n",
       "      <td>0</td>\n",
       "      <td>0</td>\n",
       "      <td>not now, dad. We should burn Jon Snow. stop it...</td>\n",
       "      <td>[dad, burn, jon, snow, stop, dad, know, happen...</td>\n",
       "      <td>[dad, burn, jon, snow, stop, dad, know, happen...</td>\n",
       "      <td>[dad, burn, jon, snow, stop, dad, know, happen...</td>\n",
       "    </tr>\n",
       "    <tr>\n",
       "      <th>1</th>\n",
       "      <td>30.jpg</td>\n",
       "      <td>0</td>\n",
       "      <td>0</td>\n",
       "      <td>0</td>\n",
       "      <td>0</td>\n",
       "      <td>0</td>\n",
       "      <td>there may have been a mixcommunication with th...</td>\n",
       "      <td>[may, mixcommunication, decorator, happy, birt...</td>\n",
       "      <td>[may, mixcommunication, decorator, happy, birt...</td>\n",
       "      <td>[may, mixcommun, decor, happi, birthday, dick,...</td>\n",
       "    </tr>\n",
       "    <tr>\n",
       "      <th>2</th>\n",
       "      <td>33.jpg</td>\n",
       "      <td>0</td>\n",
       "      <td>0</td>\n",
       "      <td>0</td>\n",
       "      <td>0</td>\n",
       "      <td>0</td>\n",
       "      <td>i shouldn't have sold my boat</td>\n",
       "      <td>[n't, sold, boat]</td>\n",
       "      <td>[n't, sold, boat]</td>\n",
       "      <td>[n't, sold, boat]</td>\n",
       "    </tr>\n",
       "    <tr>\n",
       "      <th>3</th>\n",
       "      <td>58.jpg</td>\n",
       "      <td>1</td>\n",
       "      <td>0</td>\n",
       "      <td>0</td>\n",
       "      <td>0</td>\n",
       "      <td>1</td>\n",
       "      <td>Bitches be like, It was my fault i made him mad</td>\n",
       "      <td>[bitches, like, fault, made, mad]</td>\n",
       "      <td>[bitch, like, fault, made, mad]</td>\n",
       "      <td>[bitch, like, fault, made, mad]</td>\n",
       "    </tr>\n",
       "    <tr>\n",
       "      <th>4</th>\n",
       "      <td>89.jpg</td>\n",
       "      <td>0</td>\n",
       "      <td>0</td>\n",
       "      <td>0</td>\n",
       "      <td>0</td>\n",
       "      <td>0</td>\n",
       "      <td>find a picture of 4 girls together on FB make ...</td>\n",
       "      <td>[find, picture, 4, girls, together, fb, make, ...</td>\n",
       "      <td>[find, picture, 4, girl, together, fb, make, c...</td>\n",
       "      <td>[find, pictur, 4, girl, togeth, fb, make, come...</td>\n",
       "    </tr>\n",
       "  </tbody>\n",
       "</table>\n",
       "</div>"
      ],
      "text/plain": [
       "  file_name  misogynous  shaming  stereotype  objectification  violence  \\\n",
       "0    28.jpg           0        0           0                0         0   \n",
       "1    30.jpg           0        0           0                0         0   \n",
       "2    33.jpg           0        0           0                0         0   \n",
       "3    58.jpg           1        0           0                0         1   \n",
       "4    89.jpg           0        0           0                0         0   \n",
       "\n",
       "                                  Text Transcription  \\\n",
       "0  not now, dad. We should burn Jon Snow. stop it...   \n",
       "1  there may have been a mixcommunication with th...   \n",
       "2                      i shouldn't have sold my boat   \n",
       "3    Bitches be like, It was my fault i made him mad   \n",
       "4  find a picture of 4 girls together on FB make ...   \n",
       "\n",
       "                            Text Transription Tokens  \\\n",
       "0  [dad, burn, jon, snow, stop, dad, know, happen...   \n",
       "1  [may, mixcommunication, decorator, happy, birt...   \n",
       "2                                  [n't, sold, boat]   \n",
       "3                  [bitches, like, fault, made, mad]   \n",
       "4  [find, picture, 4, girls, together, fb, make, ...   \n",
       "\n",
       "               Text Transription Tokens (Lemmatized)  \\\n",
       "0  [dad, burn, jon, snow, stop, dad, know, happen...   \n",
       "1  [may, mixcommunication, decorator, happy, birt...   \n",
       "2                                  [n't, sold, boat]   \n",
       "3                    [bitch, like, fault, made, mad]   \n",
       "4  [find, picture, 4, girl, together, fb, make, c...   \n",
       "\n",
       "                  Text Transription Tokens (Stemmed)  \n",
       "0  [dad, burn, jon, snow, stop, dad, know, happen...  \n",
       "1  [may, mixcommun, decor, happi, birthday, dick,...  \n",
       "2                                  [n't, sold, boat]  \n",
       "3                    [bitch, like, fault, made, mad]  \n",
       "4  [find, pictur, 4, girl, togeth, fb, make, come...  "
      ]
     },
     "execution_count": 432,
     "metadata": {},
     "output_type": "execute_result"
    }
   ],
   "source": [
    "df.head()"
   ]
  },
  {
   "cell_type": "markdown",
   "id": "594eacb7-6aab-409e-b9f1-0c5a173d77b6",
   "metadata": {},
   "source": [
    "### Lemmatized"
   ]
  },
  {
   "cell_type": "code",
   "execution_count": 433,
   "id": "6ec72270-2f98-4189-9094-5ef7a334bfb0",
   "metadata": {},
   "outputs": [],
   "source": [
    "vocabulary_list_lemmatized = get_vocabulary_list(df['Text Transription Tokens (Lemmatized)'])"
   ]
  },
  {
   "cell_type": "code",
   "execution_count": 434,
   "id": "8427e1bc-ed84-4510-8760-c931a3611943",
   "metadata": {},
   "outputs": [],
   "source": [
    "word_counts_lemmatized = to_countmap(vocabulary_list_lemmatized)"
   ]
  },
  {
   "cell_type": "code",
   "execution_count": 435,
   "id": "4980321a-1220-4959-a181-e3c5df53e7f8",
   "metadata": {},
   "outputs": [],
   "source": [
    "word_counts_lemmatized_sorted = dict(sorted(word_counts_lemmatized.items(), key=lambda item: item[1], reverse=True))"
   ]
  },
  {
   "cell_type": "code",
   "execution_count": 436,
   "id": "124fcff0-44e3-499b-a4b4-289919dabfe1",
   "metadata": {},
   "outputs": [],
   "source": [
    "word_counts_lemmatized_filtered = remove_less_than(word_counts_lemmatized, 5)"
   ]
  },
  {
   "cell_type": "code",
   "execution_count": 437,
   "id": "e536e776-e395-4e06-9103-75d4df6fa807",
   "metadata": {},
   "outputs": [
    {
     "name": "stdout",
     "output_type": "stream",
     "text": [
      "Vocabulary size: 11\n"
     ]
    }
   ],
   "source": [
    "print(f\"Vocabulary size: {len(word_counts_lemmatized_filtered.keys())}\")"
   ]
  },
  {
   "cell_type": "code",
   "execution_count": 438,
   "id": "1b412e22-cf0f-4084-bf2c-a5c8890fde5b",
   "metadata": {},
   "outputs": [
    {
     "data": {
      "image/png": "[encoded data removed]",
      "text/plain": [
       "<Figure size 2160x720 with 1 Axes>"
      ]
     },
     "metadata": {},
     "output_type": "display_data"
    }
   ],
   "source": [
    "most_frequent = dict(list(word_counts_lemmatized_sorted.items())[:20])\n",
    "plt.figure(figsize=(30,10))\n",
    "ax = sns.barplot(x=list(most_frequent.keys()), y=list(most_frequent.values()))\n",
    "ax.tick_params(axis='x', rotation=90)"
   ]
  },
  {
   "cell_type": "markdown",
   "id": "beb1f12a-39d1-4147-bc76-903dfe739189",
   "metadata": {},
   "source": [
    "### Stemmed"
   ]
  },
  {
   "cell_type": "code",
   "execution_count": 439,
   "id": "2459f5de-7286-4af6-a8af-36e24a0f76eb",
   "metadata": {},
   "outputs": [],
   "source": [
    "vocabulary_list_stemmed = get_vocabulary_list(df['Text Transription Tokens (Stemmed)'])"
   ]
  },
  {
   "cell_type": "code",
   "execution_count": 440,
   "id": "a0419237-c866-471e-bdc1-c1745f23803b",
   "metadata": {},
   "outputs": [],
   "source": [
    "word_counts_stemmed = to_countmap(vocabulary_list_stemmed)"
   ]
  },
  {
   "cell_type": "code",
   "execution_count": 441,
   "id": "10b452fb-52cf-4d58-abcc-b6468facf08a",
   "metadata": {},
   "outputs": [],
   "source": [
    "word_counts_stemmed_sorted = dict(sorted(word_counts_stemmed.items(), key=lambda item: item[1], reverse=True))"
   ]
  },
  {
   "cell_type": "code",
   "execution_count": 442,
   "id": "ab061e30-2660-4b6c-a770-cb4f0db04729",
   "metadata": {},
   "outputs": [],
   "source": [
    "word_counts_stemmed_filtered = remove_less_than(word_counts_stemmed, 5)"
   ]
  },
  {
   "cell_type": "code",
   "execution_count": 443,
   "id": "26d58e52-2f17-453e-9e1f-11aa1601946a",
   "metadata": {},
   "outputs": [
    {
     "name": "stdout",
     "output_type": "stream",
     "text": [
      "Vocabulary size: 14\n"
     ]
    }
   ],
   "source": [
    "print(f\"Vocabulary size: {len(word_counts_stemmed_filtered.keys())}\")"
   ]
  },
  {
   "cell_type": "code",
   "execution_count": 444,
   "id": "72dbb076-8343-48af-a26c-8e8223073973",
   "metadata": {},
   "outputs": [
    {
     "data": {
      "image/png": "[encoded data removed]",
      "text/plain": [
       "<Figure size 2160x720 with 1 Axes>"
      ]
     },
     "metadata": {},
     "output_type": "display_data"
    }
   ],
   "source": [
    "most_frequent = dict(list(word_counts_stemmed_sorted.items())[:20])\n",
    "plt.figure(figsize=(30,10))\n",
    "ax = sns.barplot(x=list(most_frequent.keys()), y=list(most_frequent.values()))\n",
    "ax.tick_params(axis='x', rotation=90)"
   ]
  },
  {
   "cell_type": "markdown",
   "id": "a52ff5a5-ada6-4dda-b2ed-29327d513b01",
   "metadata": {},
   "source": [
    "# Task 2\n",
    "\n",
    "Since there isn't requirement for embedding, only numerical features will be included."
   ]
  },
  {
   "cell_type": "code",
   "execution_count": 445,
   "id": "21aac507-cb9b-473e-8113-0c7a80b7c322",
   "metadata": {},
   "outputs": [
    {
     "data": {
      "text/html": [
       "<div>\n",
       "<style scoped>\n",
       "    .dataframe tbody tr th:only-of-type {\n",
       "        vertical-align: middle;\n",
       "    }\n",
       "\n",
       "    .dataframe tbody tr th {\n",
       "        vertical-align: top;\n",
       "    }\n",
       "\n",
       "    .dataframe thead th {\n",
       "        text-align: right;\n",
       "    }\n",
       "</style>\n",
       "<table border=\"1\" class=\"dataframe\">\n",
       "  <thead>\n",
       "    <tr style=\"text-align: right;\">\n",
       "      <th></th>\n",
       "      <th>file_name</th>\n",
       "      <th>misogynous</th>\n",
       "      <th>shaming</th>\n",
       "      <th>stereotype</th>\n",
       "      <th>objectification</th>\n",
       "      <th>violence</th>\n",
       "      <th>Text Transcription</th>\n",
       "      <th>Text Transription Tokens</th>\n",
       "      <th>Text Transription Tokens (Lemmatized)</th>\n",
       "      <th>Text Transription Tokens (Stemmed)</th>\n",
       "    </tr>\n",
       "  </thead>\n",
       "  <tbody>\n",
       "    <tr>\n",
       "      <th>0</th>\n",
       "      <td>28.jpg</td>\n",
       "      <td>0</td>\n",
       "      <td>0</td>\n",
       "      <td>0</td>\n",
       "      <td>0</td>\n",
       "      <td>0</td>\n",
       "      <td>not now, dad. We should burn Jon Snow. stop it...</td>\n",
       "      <td>[dad, burn, jon, snow, stop, dad, know, happen...</td>\n",
       "      <td>[dad, burn, jon, snow, stop, dad, know, happen...</td>\n",
       "      <td>[dad, burn, jon, snow, stop, dad, know, happen...</td>\n",
       "    </tr>\n",
       "    <tr>\n",
       "      <th>1</th>\n",
       "      <td>30.jpg</td>\n",
       "      <td>0</td>\n",
       "      <td>0</td>\n",
       "      <td>0</td>\n",
       "      <td>0</td>\n",
       "      <td>0</td>\n",
       "      <td>there may have been a mixcommunication with th...</td>\n",
       "      <td>[may, mixcommunication, decorator, happy, birt...</td>\n",
       "      <td>[may, mixcommunication, decorator, happy, birt...</td>\n",
       "      <td>[may, mixcommun, decor, happi, birthday, dick,...</td>\n",
       "    </tr>\n",
       "    <tr>\n",
       "      <th>2</th>\n",
       "      <td>33.jpg</td>\n",
       "      <td>0</td>\n",
       "      <td>0</td>\n",
       "      <td>0</td>\n",
       "      <td>0</td>\n",
       "      <td>0</td>\n",
       "      <td>i shouldn't have sold my boat</td>\n",
       "      <td>[n't, sold, boat]</td>\n",
       "      <td>[n't, sold, boat]</td>\n",
       "      <td>[n't, sold, boat]</td>\n",
       "    </tr>\n",
       "    <tr>\n",
       "      <th>3</th>\n",
       "      <td>58.jpg</td>\n",
       "      <td>1</td>\n",
       "      <td>0</td>\n",
       "      <td>0</td>\n",
       "      <td>0</td>\n",
       "      <td>1</td>\n",
       "      <td>Bitches be like, It was my fault i made him mad</td>\n",
       "      <td>[bitches, like, fault, made, mad]</td>\n",
       "      <td>[bitch, like, fault, made, mad]</td>\n",
       "      <td>[bitch, like, fault, made, mad]</td>\n",
       "    </tr>\n",
       "    <tr>\n",
       "      <th>4</th>\n",
       "      <td>89.jpg</td>\n",
       "      <td>0</td>\n",
       "      <td>0</td>\n",
       "      <td>0</td>\n",
       "      <td>0</td>\n",
       "      <td>0</td>\n",
       "      <td>find a picture of 4 girls together on FB make ...</td>\n",
       "      <td>[find, picture, 4, girls, together, fb, make, ...</td>\n",
       "      <td>[find, picture, 4, girl, together, fb, make, c...</td>\n",
       "      <td>[find, pictur, 4, girl, togeth, fb, make, come...</td>\n",
       "    </tr>\n",
       "  </tbody>\n",
       "</table>\n",
       "</div>"
      ],
      "text/plain": [
       "  file_name  misogynous  shaming  stereotype  objectification  violence  \\\n",
       "0    28.jpg           0        0           0                0         0   \n",
       "1    30.jpg           0        0           0                0         0   \n",
       "2    33.jpg           0        0           0                0         0   \n",
       "3    58.jpg           1        0           0                0         1   \n",
       "4    89.jpg           0        0           0                0         0   \n",
       "\n",
       "                                  Text Transcription  \\\n",
       "0  not now, dad. We should burn Jon Snow. stop it...   \n",
       "1  there may have been a mixcommunication with th...   \n",
       "2                      i shouldn't have sold my boat   \n",
       "3    Bitches be like, It was my fault i made him mad   \n",
       "4  find a picture of 4 girls together on FB make ...   \n",
       "\n",
       "                            Text Transription Tokens  \\\n",
       "0  [dad, burn, jon, snow, stop, dad, know, happen...   \n",
       "1  [may, mixcommunication, decorator, happy, birt...   \n",
       "2                                  [n't, sold, boat]   \n",
       "3                  [bitches, like, fault, made, mad]   \n",
       "4  [find, picture, 4, girls, together, fb, make, ...   \n",
       "\n",
       "               Text Transription Tokens (Lemmatized)  \\\n",
       "0  [dad, burn, jon, snow, stop, dad, know, happen...   \n",
       "1  [may, mixcommunication, decorator, happy, birt...   \n",
       "2                                  [n't, sold, boat]   \n",
       "3                    [bitch, like, fault, made, mad]   \n",
       "4  [find, picture, 4, girl, together, fb, make, c...   \n",
       "\n",
       "                  Text Transription Tokens (Stemmed)  \n",
       "0  [dad, burn, jon, snow, stop, dad, know, happen...  \n",
       "1  [may, mixcommun, decor, happi, birthday, dick,...  \n",
       "2                                  [n't, sold, boat]  \n",
       "3                    [bitch, like, fault, made, mad]  \n",
       "4  [find, pictur, 4, girl, togeth, fb, make, come...  "
      ]
     },
     "execution_count": 445,
     "metadata": {},
     "output_type": "execute_result"
    }
   ],
   "source": [
    "df.head()"
   ]
  },
  {
   "cell_type": "code",
   "execution_count": 446,
   "id": "49dde90b-3f96-42da-8b73-ec7768617c9c",
   "metadata": {},
   "outputs": [],
   "source": [
    "from sklearn.model_selection import train_test_split\n",
    "from sklearn.tree import DecisionTreeClassifier\n",
    "from sklearn.ensemble import RandomForestClassifier\n",
    "\n",
    "from sklearn.metrics import accuracy_score, f1_score, precision_score\n",
    "import typing\n",
    "\n",
    "from gensim.models import Word2Vec\n",
    "import numpy as np"
   ]
  },
  {
   "cell_type": "markdown",
   "id": "54e0711f-f4c4-4205-bfa4-291794712fd2",
   "metadata": {},
   "source": [
    "## Data Preparation"
   ]
  },
  {
   "cell_type": "code",
   "execution_count": 447,
   "id": "d4828ade-6771-4818-82bd-d448cd873095",
   "metadata": {},
   "outputs": [],
   "source": [
    "y = df['misogynous'].values\n",
    "X = df.iloc[:,2:4]\n",
    "X_train, X_test, y_train, y_test = train_test_split(X, y, test_size=0.20)"
   ]
  },
  {
   "cell_type": "markdown",
   "id": "76d7533a-56da-41f3-a92d-24eb65b3d22d",
   "metadata": {},
   "source": [
    "## Classification Models"
   ]
  },
  {
   "cell_type": "markdown",
   "id": "fbb3eda9-7b9a-4c6e-bdcd-6ad772b78337",
   "metadata": {},
   "source": [
    "### Decision Tree"
   ]
  },
  {
   "cell_type": "code",
   "execution_count": 448,
   "id": "9ef8d85b-196b-48cb-9428-425ef2c1084b",
   "metadata": {},
   "outputs": [
    {
     "data": {
      "text/plain": [
       "DecisionTreeClassifier()"
      ]
     },
     "execution_count": 448,
     "metadata": {},
     "output_type": "execute_result"
    }
   ],
   "source": [
    "dt = DecisionTreeClassifier()\n",
    "dt.fit(X_train, y_train)"
   ]
  },
  {
   "cell_type": "markdown",
   "id": "af24fa5a-bf6a-4f4a-998e-8d716dbab0f8",
   "metadata": {},
   "source": [
    "### Random Forest"
   ]
  },
  {
   "cell_type": "code",
   "execution_count": 449,
   "id": "9d0c3230-b499-480c-b723-df0881259342",
   "metadata": {},
   "outputs": [
    {
     "data": {
      "text/plain": [
       "RandomForestClassifier()"
      ]
     },
     "execution_count": 449,
     "metadata": {},
     "output_type": "execute_result"
    }
   ],
   "source": [
    "rf = RandomForestClassifier()\n",
    "rf.fit(X_train, y_train)"
   ]
  },
  {
   "cell_type": "code",
   "execution_count": 450,
   "id": "d6b6efc3-13df-4105-9e2c-c0035c8faa16",
   "metadata": {},
   "outputs": [],
   "source": [
    "def evaluate_model(model, y_test) -> dict:\n",
    "    y_pred = model.predict(X_test)\n",
    "    return {'accuracy': accuracy_score(y_test, y_pred), 'f1_score': f1_score(y_test, y_pred), 'precision_score' : precision_score(y_test, y_pred)}"
   ]
  },
  {
   "cell_type": "code",
   "execution_count": 451,
   "id": "c1699e7e-2640-4b68-bb13-e08544886d97",
   "metadata": {},
   "outputs": [
    {
     "data": {
      "text/plain": [
       "{'accuracy': 0.95, 'f1_score': 0.9333333333333333, 'precision_score': 1.0}"
      ]
     },
     "execution_count": 451,
     "metadata": {},
     "output_type": "execute_result"
    }
   ],
   "source": [
    "evaluate_model(dt, y_test)"
   ]
  },
  {
   "cell_type": "code",
   "execution_count": 452,
   "id": "8bcef26f-1f01-4fd4-9144-3d340cfbf513",
   "metadata": {},
   "outputs": [
    {
     "data": {
      "text/plain": [
       "{'accuracy': 0.95, 'f1_score': 0.9333333333333333, 'precision_score': 1.0}"
      ]
     },
     "execution_count": 452,
     "metadata": {},
     "output_type": "execute_result"
    }
   ],
   "source": [
    "evaluate_model(rf, y_test)"
   ]
  },
  {
   "cell_type": "markdown",
   "id": "d5c5bfe7-2c23-4592-b033-ec444490b4b6",
   "metadata": {},
   "source": [
    "# Task 3"
   ]
  },
  {
   "cell_type": "code",
   "execution_count": 453,
   "id": "2736180d-83c6-4d91-9e49-39c89ccfe651",
   "metadata": {},
   "outputs": [
    {
     "data": {
      "text/html": [
       "<div>\n",
       "<style scoped>\n",
       "    .dataframe tbody tr th:only-of-type {\n",
       "        vertical-align: middle;\n",
       "    }\n",
       "\n",
       "    .dataframe tbody tr th {\n",
       "        vertical-align: top;\n",
       "    }\n",
       "\n",
       "    .dataframe thead th {\n",
       "        text-align: right;\n",
       "    }\n",
       "</style>\n",
       "<table border=\"1\" class=\"dataframe\">\n",
       "  <thead>\n",
       "    <tr style=\"text-align: right;\">\n",
       "      <th></th>\n",
       "      <th>file_name</th>\n",
       "      <th>misogynous</th>\n",
       "      <th>shaming</th>\n",
       "      <th>stereotype</th>\n",
       "      <th>objectification</th>\n",
       "      <th>violence</th>\n",
       "      <th>Text Transcription</th>\n",
       "      <th>Text Transription Tokens</th>\n",
       "      <th>Text Transription Tokens (Lemmatized)</th>\n",
       "      <th>Text Transription Tokens (Stemmed)</th>\n",
       "    </tr>\n",
       "  </thead>\n",
       "  <tbody>\n",
       "    <tr>\n",
       "      <th>0</th>\n",
       "      <td>28.jpg</td>\n",
       "      <td>0</td>\n",
       "      <td>0</td>\n",
       "      <td>0</td>\n",
       "      <td>0</td>\n",
       "      <td>0</td>\n",
       "      <td>not now, dad. We should burn Jon Snow. stop it...</td>\n",
       "      <td>[dad, burn, jon, snow, stop, dad, know, happen...</td>\n",
       "      <td>[dad, burn, jon, snow, stop, dad, know, happen...</td>\n",
       "      <td>[dad, burn, jon, snow, stop, dad, know, happen...</td>\n",
       "    </tr>\n",
       "    <tr>\n",
       "      <th>1</th>\n",
       "      <td>30.jpg</td>\n",
       "      <td>0</td>\n",
       "      <td>0</td>\n",
       "      <td>0</td>\n",
       "      <td>0</td>\n",
       "      <td>0</td>\n",
       "      <td>there may have been a mixcommunication with th...</td>\n",
       "      <td>[may, mixcommunication, decorator, happy, birt...</td>\n",
       "      <td>[may, mixcommunication, decorator, happy, birt...</td>\n",
       "      <td>[may, mixcommun, decor, happi, birthday, dick,...</td>\n",
       "    </tr>\n",
       "    <tr>\n",
       "      <th>2</th>\n",
       "      <td>33.jpg</td>\n",
       "      <td>0</td>\n",
       "      <td>0</td>\n",
       "      <td>0</td>\n",
       "      <td>0</td>\n",
       "      <td>0</td>\n",
       "      <td>i shouldn't have sold my boat</td>\n",
       "      <td>[n't, sold, boat]</td>\n",
       "      <td>[n't, sold, boat]</td>\n",
       "      <td>[n't, sold, boat]</td>\n",
       "    </tr>\n",
       "    <tr>\n",
       "      <th>3</th>\n",
       "      <td>58.jpg</td>\n",
       "      <td>1</td>\n",
       "      <td>0</td>\n",
       "      <td>0</td>\n",
       "      <td>0</td>\n",
       "      <td>1</td>\n",
       "      <td>Bitches be like, It was my fault i made him mad</td>\n",
       "      <td>[bitches, like, fault, made, mad]</td>\n",
       "      <td>[bitch, like, fault, made, mad]</td>\n",
       "      <td>[bitch, like, fault, made, mad]</td>\n",
       "    </tr>\n",
       "    <tr>\n",
       "      <th>4</th>\n",
       "      <td>89.jpg</td>\n",
       "      <td>0</td>\n",
       "      <td>0</td>\n",
       "      <td>0</td>\n",
       "      <td>0</td>\n",
       "      <td>0</td>\n",
       "      <td>find a picture of 4 girls together on FB make ...</td>\n",
       "      <td>[find, picture, 4, girls, together, fb, make, ...</td>\n",
       "      <td>[find, picture, 4, girl, together, fb, make, c...</td>\n",
       "      <td>[find, pictur, 4, girl, togeth, fb, make, come...</td>\n",
       "    </tr>\n",
       "  </tbody>\n",
       "</table>\n",
       "</div>"
      ],
      "text/plain": [
       "  file_name  misogynous  shaming  stereotype  objectification  violence  \\\n",
       "0    28.jpg           0        0           0                0         0   \n",
       "1    30.jpg           0        0           0                0         0   \n",
       "2    33.jpg           0        0           0                0         0   \n",
       "3    58.jpg           1        0           0                0         1   \n",
       "4    89.jpg           0        0           0                0         0   \n",
       "\n",
       "                                  Text Transcription  \\\n",
       "0  not now, dad. We should burn Jon Snow. stop it...   \n",
       "1  there may have been a mixcommunication with th...   \n",
       "2                      i shouldn't have sold my boat   \n",
       "3    Bitches be like, It was my fault i made him mad   \n",
       "4  find a picture of 4 girls together on FB make ...   \n",
       "\n",
       "                            Text Transription Tokens  \\\n",
       "0  [dad, burn, jon, snow, stop, dad, know, happen...   \n",
       "1  [may, mixcommunication, decorator, happy, birt...   \n",
       "2                                  [n't, sold, boat]   \n",
       "3                  [bitches, like, fault, made, mad]   \n",
       "4  [find, picture, 4, girls, together, fb, make, ...   \n",
       "\n",
       "               Text Transription Tokens (Lemmatized)  \\\n",
       "0  [dad, burn, jon, snow, stop, dad, know, happen...   \n",
       "1  [may, mixcommunication, decorator, happy, birt...   \n",
       "2                                  [n't, sold, boat]   \n",
       "3                    [bitch, like, fault, made, mad]   \n",
       "4  [find, picture, 4, girl, together, fb, make, c...   \n",
       "\n",
       "                  Text Transription Tokens (Stemmed)  \n",
       "0  [dad, burn, jon, snow, stop, dad, know, happen...  \n",
       "1  [may, mixcommun, decor, happi, birthday, dick,...  \n",
       "2                                  [n't, sold, boat]  \n",
       "3                    [bitch, like, fault, made, mad]  \n",
       "4  [find, pictur, 4, girl, togeth, fb, make, come...  "
      ]
     },
     "execution_count": 453,
     "metadata": {},
     "output_type": "execute_result"
    }
   ],
   "source": [
    "df.head()"
   ]
  },
  {
   "cell_type": "markdown",
   "id": "d77262f0-8125-4433-b692-9083d0d12820",
   "metadata": {},
   "source": [
    "## Data Preparation"
   ]
  },
  {
   "cell_type": "code",
   "execution_count": 454,
   "id": "097d1113-031d-4ad7-b392-49a85bda2157",
   "metadata": {},
   "outputs": [],
   "source": [
    "X = df.iloc[:,2:4]\n",
    "y = df['misogynous']"
   ]
  },
  {
   "cell_type": "markdown",
   "id": "f1c7b9ad-d5bd-4e49-b8b5-8df93c213271",
   "metadata": {},
   "source": [
    "### Creating Embeddings"
   ]
  },
  {
   "cell_type": "code",
   "execution_count": 455,
   "id": "2e2cbc32-3e2c-45d5-93b5-63e4139b65aa",
   "metadata": {},
   "outputs": [],
   "source": [
    "def get_embeddings(documents:pd.core.series) -> pd.core.series.Series:\n",
    "    model = Word2Vec(documents, min_count=1, window=5, sg=0)\n",
    "    model.vector_size = 50\n",
    "    \n",
    "    vector = np.vectorize(float)\n",
    "    embeddings = documents.apply(lambda x: model.wv[x] if len(x) != 0 else np.array([0]*100)).apply(lambda x: x.mean(axis=0))\n",
    "    \n",
    "    return embeddings"
   ]
  },
  {
   "cell_type": "code",
   "execution_count": 456,
   "id": "26bc1910-25b7-4834-ad98-7ed234a35f16",
   "metadata": {},
   "outputs": [],
   "source": [
    "for feature in df.iloc[:,7:]:\n",
    "    X[feature] = get_embeddings(df[feature])"
   ]
  },
  {
   "cell_type": "code",
   "execution_count": 457,
   "id": "9fc35c78-ccdb-4ffd-8b94-51a991aee851",
   "metadata": {},
   "outputs": [
    {
     "data": {
      "text/html": [
       "<div>\n",
       "<style scoped>\n",
       "    .dataframe tbody tr th:only-of-type {\n",
       "        vertical-align: middle;\n",
       "    }\n",
       "\n",
       "    .dataframe tbody tr th {\n",
       "        vertical-align: top;\n",
       "    }\n",
       "\n",
       "    .dataframe thead th {\n",
       "        text-align: right;\n",
       "    }\n",
       "</style>\n",
       "<table border=\"1\" class=\"dataframe\">\n",
       "  <thead>\n",
       "    <tr style=\"text-align: right;\">\n",
       "      <th></th>\n",
       "      <th>shaming</th>\n",
       "      <th>stereotype</th>\n",
       "      <th>Text Transription Tokens</th>\n",
       "      <th>Text Transription Tokens (Lemmatized)</th>\n",
       "      <th>Text Transription Tokens (Stemmed)</th>\n",
       "    </tr>\n",
       "  </thead>\n",
       "  <tbody>\n",
       "    <tr>\n",
       "      <th>0</th>\n",
       "      <td>0</td>\n",
       "      <td>0</td>\n",
       "      <td>[-0.0022049833, 0.0028015303, -0.0009229538, 0...</td>\n",
       "      <td>[-0.00030227032, -0.002432214, -0.0004978726, ...</td>\n",
       "      <td>[-0.0017059249, -0.0019536656, 0.0012478139, -...</td>\n",
       "    </tr>\n",
       "    <tr>\n",
       "      <th>1</th>\n",
       "      <td>0</td>\n",
       "      <td>0</td>\n",
       "      <td>[-0.0021688174, 0.0018653262, -0.0008104008, 0...</td>\n",
       "      <td>[-0.0027248706, -0.0028352423, -0.0023532992, ...</td>\n",
       "      <td>[-0.0011121804, -0.0012381343, 0.0010542246, 0...</td>\n",
       "    </tr>\n",
       "    <tr>\n",
       "      <th>2</th>\n",
       "      <td>0</td>\n",
       "      <td>0</td>\n",
       "      <td>[-0.008216332, -0.004183365, -0.0021795277, 0....</td>\n",
       "      <td>[-0.0060501248, 0.0013083895, -0.0009801898, 0...</td>\n",
       "      <td>[-0.0057623596, -0.0019239873, -0.00140737, 0....</td>\n",
       "    </tr>\n",
       "    <tr>\n",
       "      <th>3</th>\n",
       "      <td>0</td>\n",
       "      <td>0</td>\n",
       "      <td>[-0.0004709689, 0.0023494686, 0.0014288778, -0...</td>\n",
       "      <td>[-0.0037312962, -0.0013672261, -0.0031609782, ...</td>\n",
       "      <td>[0.00089211867, -0.0019160381, -0.00016633663,...</td>\n",
       "    </tr>\n",
       "    <tr>\n",
       "      <th>4</th>\n",
       "      <td>0</td>\n",
       "      <td>0</td>\n",
       "      <td>[0.0007737968, 0.0022288573, -0.0008721382, 0....</td>\n",
       "      <td>[-0.0009686038, 0.0009915874, 0.0021559603, 0....</td>\n",
       "      <td>[-0.001189589, 0.0015047548, 8.211641e-05, -0....</td>\n",
       "    </tr>\n",
       "  </tbody>\n",
       "</table>\n",
       "</div>"
      ],
      "text/plain": [
       "   shaming  stereotype                           Text Transription Tokens  \\\n",
       "0        0           0  [-0.0022049833, 0.0028015303, -0.0009229538, 0...   \n",
       "1        0           0  [-0.0021688174, 0.0018653262, -0.0008104008, 0...   \n",
       "2        0           0  [-0.008216332, -0.004183365, -0.0021795277, 0....   \n",
       "3        0           0  [-0.0004709689, 0.0023494686, 0.0014288778, -0...   \n",
       "4        0           0  [0.0007737968, 0.0022288573, -0.0008721382, 0....   \n",
       "\n",
       "               Text Transription Tokens (Lemmatized)  \\\n",
       "0  [-0.00030227032, -0.002432214, -0.0004978726, ...   \n",
       "1  [-0.0027248706, -0.0028352423, -0.0023532992, ...   \n",
       "2  [-0.0060501248, 0.0013083895, -0.0009801898, 0...   \n",
       "3  [-0.0037312962, -0.0013672261, -0.0031609782, ...   \n",
       "4  [-0.0009686038, 0.0009915874, 0.0021559603, 0....   \n",
       "\n",
       "                  Text Transription Tokens (Stemmed)  \n",
       "0  [-0.0017059249, -0.0019536656, 0.0012478139, -...  \n",
       "1  [-0.0011121804, -0.0012381343, 0.0010542246, 0...  \n",
       "2  [-0.0057623596, -0.0019239873, -0.00140737, 0....  \n",
       "3  [0.00089211867, -0.0019160381, -0.00016633663,...  \n",
       "4  [-0.001189589, 0.0015047548, 8.211641e-05, -0....  "
      ]
     },
     "execution_count": 457,
     "metadata": {},
     "output_type": "execute_result"
    }
   ],
   "source": [
    "X.head()"
   ]
  },
  {
   "cell_type": "code",
   "execution_count": 458,
   "id": "a94ed08e-607f-411e-b7ba-bfcdd8016f8a",
   "metadata": {},
   "outputs": [],
   "source": [
    "y = df['misogynous'].values\n",
    "X_train, X_test, y_train, y_test = train_test_split(X, y, test_size=0.20)"
   ]
  },
  {
   "cell_type": "markdown",
   "id": "f9dd6b7c-a549-44c2-8cd1-a9011c13496f",
   "metadata": {},
   "source": [
    "## Classification Models"
   ]
  },
  {
   "cell_type": "markdown",
   "id": "da4e9b75-6375-40cb-a683-e5d4846bedaa",
   "metadata": {},
   "source": [
    "### Decision Tree"
   ]
  },
  {
   "cell_type": "code",
   "execution_count": 459,
   "id": "68967784-66b1-40e0-9eb1-92065266702f",
   "metadata": {},
   "outputs": [
    {
     "data": {
      "text/plain": [
       "(100,)"
      ]
     },
     "execution_count": 459,
     "metadata": {},
     "output_type": "execute_result"
    }
   ],
   "source": [
    "X['Text Transription Tokens'][72].shape"
   ]
  },
  {
   "cell_type": "code",
   "execution_count": null,
   "id": "99d86d3d-126f-4597-985e-e03e0d625977",
   "metadata": {},
   "outputs": [],
   "source": [
    "dt = DecisionTreeClassifier()\n",
    "dt.fit(X_train, y_train)"
   ]
  },
  {
   "cell_type": "markdown",
   "id": "3255df27-e371-4d8e-9d67-2432978c578e",
   "metadata": {},
   "source": [
    "### Random Forest"
   ]
  },
  {
   "cell_type": "code",
   "execution_count": null,
   "id": "f03d83db-7e96-4afb-b1bb-3c871d347d73",
   "metadata": {},
   "outputs": [],
   "source": []
  },
  {
   "cell_type": "markdown",
   "id": "98d1d019-40a3-4c84-acc3-2ec819ed84bc",
   "metadata": {},
   "source": [
    "### Support Vector Machine"
   ]
  },
  {
   "cell_type": "code",
   "execution_count": null,
   "id": "2b82ea56-3856-460e-9902-97a60cf36c68",
   "metadata": {},
   "outputs": [],
   "source": []
  }
 ],
 "metadata": {
  "kernelspec": {
   "display_name": "Python 3 (ipykernel)",
   "language": "python",
   "name": "python3"
  },
  "language_info": {
   "codemirror_mode": {
    "name": "ipython",
    "version": 3
   },
   "file_extension": ".py",
   "mimetype": "text/x-python",
   "name": "python",
   "nbconvert_exporter": "python",
   "pygments_lexer": "ipython3",
   "version": "3.8.10"
  }
 },
 "nbformat": 4,
 "nbformat_minor": 5
}
