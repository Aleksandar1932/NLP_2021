{
 "cells": [
  {
   "cell_type": "markdown",
   "id": "5dab03b4-af09-493b-b6a6-c8939bbd96b4",
   "metadata": {},
   "source": [
    "# <font color=\"grey\">Imports and utility functions</font>"
   ]
  },
  {
   "cell_type": "code",
   "execution_count": 23,
   "id": "bfe110e7-79a7-473f-afa1-33f2c9371a5a",
   "metadata": {},
   "outputs": [],
   "source": [
    "import numpy as np\n",
    "import pandas as pd\n",
    "from nltk import word_tokenize\n",
    "\n",
    "from tensorflow.keras.preprocessing.sequence import pad_sequences\n",
    "from tensorflow.keras.models import Model\n",
    "from tensorflow.keras.layers import LSTM, Dense, Input, Embedding, Concatenate\n",
    "from tensorflow.keras.losses import binary_crossentropy\n",
    "from tensorflow.keras.optimizers import Adam\n",
    "\n",
    "from scripts.word_embeddings import load_embedding_weights\n",
    "from sklearn.model_selection import train_test_split"
   ]
  },
  {
   "cell_type": "code",
   "execution_count": 2,
   "id": "e43642bb-bcc8-4235-a547-c09adf569290",
   "metadata": {},
   "outputs": [],
   "source": [
    "def tokenize(data: pd.core.series):\n",
    "    data['tweet_tokens'] = data['tweet'].apply(lambda x: word_tokenize(x.lower()))\n",
    "    data['rephrase_tokens'] = data['rephrase'].apply(lambda x: word_tokenize(x.lower()))"
   ]
  },
  {
   "cell_type": "code",
   "execution_count": 3,
   "id": "220c63a7-165f-4fd9-9491-7d800be6cb21",
   "metadata": {},
   "outputs": [],
   "source": [
    "def create_vocabulary(sentence_tokens):\n",
    "    vocabulary = set()\n",
    "    for tokens in sentence_tokens:\n",
    "        vocabulary.update(tokens)\n",
    "\n",
    "    vocabulary = list(vocabulary)\n",
    "    return vocabulary, dict(map(lambda x: (x[1], x[0]), enumerate(vocabulary)))"
   ]
  },
  {
   "cell_type": "code",
   "execution_count": 20,
   "id": "32f38f6a-7845-4654-8a26-f285e9bde5ba",
   "metadata": {},
   "outputs": [],
   "source": [
    "def create_train_test_data(sentences, rephrases):\n",
    "    sent1, sent2, labels = [], [], []\n",
    "    \n",
    "    for sentence, rephrase in zip(sentences, rephrases):\n",
    "        p = np.random.randint(2)\n",
    "        if p == 0:\n",
    "            sent1.append(sentence)\n",
    "            sent2.append(rephrase)\n",
    "        else:\n",
    "            sent1.append(rephrase)\n",
    "            sent2.append(sentence)\n",
    "        labels.append(p)\n",
    "    \n",
    "    return sent1, sent2, labels"
   ]
  },
  {
   "cell_type": "markdown",
   "id": "905a7f30-f5a7-436e-ab59-391d41296fb4",
   "metadata": {},
   "source": [
    "# Data Loading"
   ]
  },
  {
   "cell_type": "code",
   "execution_count": 4,
   "id": "8151acaa-c43d-46cc-bbe9-d82a6c756606",
   "metadata": {},
   "outputs": [
    {
     "data": {
      "text/html": [
       "<div>\n",
       "<style scoped>\n",
       "    .dataframe tbody tr th:only-of-type {\n",
       "        vertical-align: middle;\n",
       "    }\n",
       "\n",
       "    .dataframe tbody tr th {\n",
       "        vertical-align: top;\n",
       "    }\n",
       "\n",
       "    .dataframe thead th {\n",
       "        text-align: right;\n",
       "    }\n",
       "</style>\n",
       "<table border=\"1\" class=\"dataframe\">\n",
       "  <thead>\n",
       "    <tr style=\"text-align: right;\">\n",
       "      <th></th>\n",
       "      <th>tweet</th>\n",
       "      <th>rephrase</th>\n",
       "    </tr>\n",
       "  </thead>\n",
       "  <tbody>\n",
       "    <tr>\n",
       "      <th>0</th>\n",
       "      <td>The only thing I got from college is a caffein...</td>\n",
       "      <td>College is really difficult, expensive, tiring...</td>\n",
       "    </tr>\n",
       "    <tr>\n",
       "      <th>1</th>\n",
       "      <td>I love it when professors draw a big question ...</td>\n",
       "      <td>I do not like when professors don’t write out ...</td>\n",
       "    </tr>\n",
       "    <tr>\n",
       "      <th>2</th>\n",
       "      <td>Remember the hundred emails from companies whe...</td>\n",
       "      <td>I, at the bare minimum, wish companies actuall...</td>\n",
       "    </tr>\n",
       "    <tr>\n",
       "      <th>3</th>\n",
       "      <td>Today my pop-pop told me I was not “forced” to...</td>\n",
       "      <td>Today my pop-pop told me I was not \"forced\" to...</td>\n",
       "    </tr>\n",
       "    <tr>\n",
       "      <th>4</th>\n",
       "      <td>@VolphanCarol @littlewhitty @mysticalmanatee I...</td>\n",
       "      <td>I would say Ted Cruz is an asshole and doesn’t...</td>\n",
       "    </tr>\n",
       "  </tbody>\n",
       "</table>\n",
       "</div>"
      ],
      "text/plain": [
       "                                               tweet  \\\n",
       "0  The only thing I got from college is a caffein...   \n",
       "1  I love it when professors draw a big question ...   \n",
       "2  Remember the hundred emails from companies whe...   \n",
       "3  Today my pop-pop told me I was not “forced” to...   \n",
       "4  @VolphanCarol @littlewhitty @mysticalmanatee I...   \n",
       "\n",
       "                                            rephrase  \n",
       "0  College is really difficult, expensive, tiring...  \n",
       "1  I do not like when professors don’t write out ...  \n",
       "2  I, at the bare minimum, wish companies actuall...  \n",
       "3  Today my pop-pop told me I was not \"forced\" to...  \n",
       "4  I would say Ted Cruz is an asshole and doesn’t...  "
      ]
     },
     "execution_count": 4,
     "metadata": {},
     "output_type": "execute_result"
    }
   ],
   "source": [
    "df = pd.read_csv('data/train.En.csv', usecols=['tweet', 'rephrase']).dropna()\n",
    "# tweet - has sarcasam; rephrase - does not have sarcasam\n",
    "df.head()"
   ]
  },
  {
   "cell_type": "code",
   "execution_count": 6,
   "id": "ff37814d-6bbd-4272-bd09-0d23d5710d1b",
   "metadata": {},
   "outputs": [
    {
     "data": {
      "text/html": [
       "<div>\n",
       "<style scoped>\n",
       "    .dataframe tbody tr th:only-of-type {\n",
       "        vertical-align: middle;\n",
       "    }\n",
       "\n",
       "    .dataframe tbody tr th {\n",
       "        vertical-align: top;\n",
       "    }\n",
       "\n",
       "    .dataframe thead th {\n",
       "        text-align: right;\n",
       "    }\n",
       "</style>\n",
       "<table border=\"1\" class=\"dataframe\">\n",
       "  <thead>\n",
       "    <tr style=\"text-align: right;\">\n",
       "      <th></th>\n",
       "      <th>tweet</th>\n",
       "      <th>rephrase</th>\n",
       "      <th>tweet_tokens</th>\n",
       "      <th>rephrase_tokens</th>\n",
       "    </tr>\n",
       "  </thead>\n",
       "  <tbody>\n",
       "    <tr>\n",
       "      <th>0</th>\n",
       "      <td>The only thing I got from college is a caffein...</td>\n",
       "      <td>College is really difficult, expensive, tiring...</td>\n",
       "      <td>[the, only, thing, i, got, from, college, is, ...</td>\n",
       "      <td>[college, is, really, difficult, ,, expensive,...</td>\n",
       "    </tr>\n",
       "    <tr>\n",
       "      <th>1</th>\n",
       "      <td>I love it when professors draw a big question ...</td>\n",
       "      <td>I do not like when professors don’t write out ...</td>\n",
       "      <td>[i, love, it, when, professors, draw, a, big, ...</td>\n",
       "      <td>[i, do, not, like, when, professors, don, ’, t...</td>\n",
       "    </tr>\n",
       "    <tr>\n",
       "      <th>2</th>\n",
       "      <td>Remember the hundred emails from companies whe...</td>\n",
       "      <td>I, at the bare minimum, wish companies actuall...</td>\n",
       "      <td>[remember, the, hundred, emails, from, compani...</td>\n",
       "      <td>[i, ,, at, the, bare, minimum, ,, wish, compan...</td>\n",
       "    </tr>\n",
       "    <tr>\n",
       "      <th>3</th>\n",
       "      <td>Today my pop-pop told me I was not “forced” to...</td>\n",
       "      <td>Today my pop-pop told me I was not \"forced\" to...</td>\n",
       "      <td>[today, my, pop-pop, told, me, i, was, not, “,...</td>\n",
       "      <td>[today, my, pop-pop, told, me, i, was, not, ``...</td>\n",
       "    </tr>\n",
       "    <tr>\n",
       "      <th>4</th>\n",
       "      <td>@VolphanCarol @littlewhitty @mysticalmanatee I...</td>\n",
       "      <td>I would say Ted Cruz is an asshole and doesn’t...</td>\n",
       "      <td>[@, volphancarol, @, littlewhitty, @, mystical...</td>\n",
       "      <td>[i, would, say, ted, cruz, is, an, asshole, an...</td>\n",
       "    </tr>\n",
       "  </tbody>\n",
       "</table>\n",
       "</div>"
      ],
      "text/plain": [
       "                                               tweet  \\\n",
       "0  The only thing I got from college is a caffein...   \n",
       "1  I love it when professors draw a big question ...   \n",
       "2  Remember the hundred emails from companies whe...   \n",
       "3  Today my pop-pop told me I was not “forced” to...   \n",
       "4  @VolphanCarol @littlewhitty @mysticalmanatee I...   \n",
       "\n",
       "                                            rephrase  \\\n",
       "0  College is really difficult, expensive, tiring...   \n",
       "1  I do not like when professors don’t write out ...   \n",
       "2  I, at the bare minimum, wish companies actuall...   \n",
       "3  Today my pop-pop told me I was not \"forced\" to...   \n",
       "4  I would say Ted Cruz is an asshole and doesn’t...   \n",
       "\n",
       "                                        tweet_tokens  \\\n",
       "0  [the, only, thing, i, got, from, college, is, ...   \n",
       "1  [i, love, it, when, professors, draw, a, big, ...   \n",
       "2  [remember, the, hundred, emails, from, compani...   \n",
       "3  [today, my, pop-pop, told, me, i, was, not, “,...   \n",
       "4  [@, volphancarol, @, littlewhitty, @, mystical...   \n",
       "\n",
       "                                     rephrase_tokens  \n",
       "0  [college, is, really, difficult, ,, expensive,...  \n",
       "1  [i, do, not, like, when, professors, don, ’, t...  \n",
       "2  [i, ,, at, the, bare, minimum, ,, wish, compan...  \n",
       "3  [today, my, pop-pop, told, me, i, was, not, ``...  \n",
       "4  [i, would, say, ted, cruz, is, an, asshole, an...  "
      ]
     },
     "execution_count": 6,
     "metadata": {},
     "output_type": "execute_result"
    }
   ],
   "source": [
    "tokenize(df)\n",
    "df.head()"
   ]
  },
  {
   "cell_type": "markdown",
   "id": "360d8a6f-93df-4c72-96c8-9996a27af72a",
   "metadata": {},
   "source": [
    "# Tokenization"
   ]
  },
  {
   "cell_type": "code",
   "execution_count": 7,
   "id": "7325402b-91bc-4d82-a706-465f92be327d",
   "metadata": {},
   "outputs": [],
   "source": [
    "sentences = df['tweet_tokens'].values\n",
    "rephrases = df['rephrase_tokens'].values\n",
    "\n",
    "vocabulary, word_to_id = create_vocabulary(np.concatenate((sentences, rephrases)))"
   ]
  },
  {
   "cell_type": "code",
   "execution_count": 8,
   "id": "54bcd62c-efb6-4d0f-b0a3-0f65a1429288",
   "metadata": {},
   "outputs": [],
   "source": [
    "embeddings = load_embedding_weights(vocabulary, 100, 'word2vecSG',\"/home/aleksandar/projects/NLP_2021/Exercises/2/data\")"
   ]
  },
  {
   "cell_type": "code",
   "execution_count": 9,
   "id": "84a5497f-1368-49a1-a86f-242721931ccc",
   "metadata": {},
   "outputs": [],
   "source": [
    "df['tweet_indices'] = df['tweet_tokens'].apply(lambda x: np.array([word_to_id[i] for i in x]))\n",
    "df['rephrase_indices'] = df['rephrase_tokens'].apply(lambda x: np.array([word_to_id[i] for i in x]))"
   ]
  },
  {
   "cell_type": "code",
   "execution_count": 10,
   "id": "a717ed12-4df6-4376-8bfe-afa9db408b85",
   "metadata": {},
   "outputs": [],
   "source": [
    "sentence_indices = df['tweet_indices'].values\n",
    "rephrase_indices = df['rephrase_indices'].values"
   ]
  },
  {
   "cell_type": "code",
   "execution_count": 11,
   "id": "ca2bc734-2887-4c3d-b138-d7521ef643cc",
   "metadata": {},
   "outputs": [
    {
     "data": {
      "text/html": [
       "<div>\n",
       "<style scoped>\n",
       "    .dataframe tbody tr th:only-of-type {\n",
       "        vertical-align: middle;\n",
       "    }\n",
       "\n",
       "    .dataframe tbody tr th {\n",
       "        vertical-align: top;\n",
       "    }\n",
       "\n",
       "    .dataframe thead th {\n",
       "        text-align: right;\n",
       "    }\n",
       "</style>\n",
       "<table border=\"1\" class=\"dataframe\">\n",
       "  <thead>\n",
       "    <tr style=\"text-align: right;\">\n",
       "      <th></th>\n",
       "      <th>tweet</th>\n",
       "      <th>rephrase</th>\n",
       "      <th>tweet_tokens</th>\n",
       "      <th>rephrase_tokens</th>\n",
       "      <th>tweet_indices</th>\n",
       "      <th>rephrase_indices</th>\n",
       "    </tr>\n",
       "  </thead>\n",
       "  <tbody>\n",
       "    <tr>\n",
       "      <th>0</th>\n",
       "      <td>The only thing I got from college is a caffein...</td>\n",
       "      <td>College is really difficult, expensive, tiring...</td>\n",
       "      <td>[the, only, thing, i, got, from, college, is, ...</td>\n",
       "      <td>[college, is, really, difficult, ,, expensive,...</td>\n",
       "      <td>[3910, 418, 4627, 4292, 1887, 1298, 2038, 4557...</td>\n",
       "      <td>[2038, 4557, 665, 1849, 3756, 1493, 3756, 4002...</td>\n",
       "    </tr>\n",
       "    <tr>\n",
       "      <th>1</th>\n",
       "      <td>I love it when professors draw a big question ...</td>\n",
       "      <td>I do not like when professors don’t write out ...</td>\n",
       "      <td>[i, love, it, when, professors, draw, a, big, ...</td>\n",
       "      <td>[i, do, not, like, when, professors, don, ’, t...</td>\n",
       "      <td>[4292, 1642, 1701, 4036, 1705, 3502, 1623, 983...</td>\n",
       "      <td>[4292, 708, 266, 4523, 4036, 1705, 4559, 4576,...</td>\n",
       "    </tr>\n",
       "    <tr>\n",
       "      <th>2</th>\n",
       "      <td>Remember the hundred emails from companies whe...</td>\n",
       "      <td>I, at the bare minimum, wish companies actuall...</td>\n",
       "      <td>[remember, the, hundred, emails, from, compani...</td>\n",
       "      <td>[i, ,, at, the, bare, minimum, ,, wish, compan...</td>\n",
       "      <td>[749, 3910, 4975, 2082, 1298, 4609, 4036, 4783...</td>\n",
       "      <td>[4292, 3756, 3834, 3910, 4393, 1452, 3756, 242...</td>\n",
       "    </tr>\n",
       "    <tr>\n",
       "      <th>3</th>\n",
       "      <td>Today my pop-pop told me I was not “forced” to...</td>\n",
       "      <td>Today my pop-pop told me I was not \"forced\" to...</td>\n",
       "      <td>[today, my, pop-pop, told, me, i, was, not, “,...</td>\n",
       "      <td>[today, my, pop-pop, told, me, i, was, not, ``...</td>\n",
       "      <td>[4934, 4470, 2057, 136, 3395, 4292, 1879, 266,...</td>\n",
       "      <td>[4934, 4470, 2057, 136, 3395, 4292, 1879, 266,...</td>\n",
       "    </tr>\n",
       "    <tr>\n",
       "      <th>4</th>\n",
       "      <td>@VolphanCarol @littlewhitty @mysticalmanatee I...</td>\n",
       "      <td>I would say Ted Cruz is an asshole and doesn’t...</td>\n",
       "      <td>[@, volphancarol, @, littlewhitty, @, mystical...</td>\n",
       "      <td>[i, would, say, ted, cruz, is, an, asshole, an...</td>\n",
       "      <td>[1396, 4340, 1396, 3246, 1396, 4816, 4292, 472...</td>\n",
       "      <td>[4292, 2150, 3295, 4743, 2368, 4557, 1662, 457...</td>\n",
       "    </tr>\n",
       "  </tbody>\n",
       "</table>\n",
       "</div>"
      ],
      "text/plain": [
       "                                               tweet  \\\n",
       "0  The only thing I got from college is a caffein...   \n",
       "1  I love it when professors draw a big question ...   \n",
       "2  Remember the hundred emails from companies whe...   \n",
       "3  Today my pop-pop told me I was not “forced” to...   \n",
       "4  @VolphanCarol @littlewhitty @mysticalmanatee I...   \n",
       "\n",
       "                                            rephrase  \\\n",
       "0  College is really difficult, expensive, tiring...   \n",
       "1  I do not like when professors don’t write out ...   \n",
       "2  I, at the bare minimum, wish companies actuall...   \n",
       "3  Today my pop-pop told me I was not \"forced\" to...   \n",
       "4  I would say Ted Cruz is an asshole and doesn’t...   \n",
       "\n",
       "                                        tweet_tokens  \\\n",
       "0  [the, only, thing, i, got, from, college, is, ...   \n",
       "1  [i, love, it, when, professors, draw, a, big, ...   \n",
       "2  [remember, the, hundred, emails, from, compani...   \n",
       "3  [today, my, pop-pop, told, me, i, was, not, “,...   \n",
       "4  [@, volphancarol, @, littlewhitty, @, mystical...   \n",
       "\n",
       "                                     rephrase_tokens  \\\n",
       "0  [college, is, really, difficult, ,, expensive,...   \n",
       "1  [i, do, not, like, when, professors, don, ’, t...   \n",
       "2  [i, ,, at, the, bare, minimum, ,, wish, compan...   \n",
       "3  [today, my, pop-pop, told, me, i, was, not, ``...   \n",
       "4  [i, would, say, ted, cruz, is, an, asshole, an...   \n",
       "\n",
       "                                       tweet_indices  \\\n",
       "0  [3910, 418, 4627, 4292, 1887, 1298, 2038, 4557...   \n",
       "1  [4292, 1642, 1701, 4036, 1705, 3502, 1623, 983...   \n",
       "2  [749, 3910, 4975, 2082, 1298, 4609, 4036, 4783...   \n",
       "3  [4934, 4470, 2057, 136, 3395, 4292, 1879, 266,...   \n",
       "4  [1396, 4340, 1396, 3246, 1396, 4816, 4292, 472...   \n",
       "\n",
       "                                    rephrase_indices  \n",
       "0  [2038, 4557, 665, 1849, 3756, 1493, 3756, 4002...  \n",
       "1  [4292, 708, 266, 4523, 4036, 1705, 4559, 4576,...  \n",
       "2  [4292, 3756, 3834, 3910, 4393, 1452, 3756, 242...  \n",
       "3  [4934, 4470, 2057, 136, 3395, 4292, 1879, 266,...  \n",
       "4  [4292, 2150, 3295, 4743, 2368, 4557, 1662, 457...  "
      ]
     },
     "execution_count": 11,
     "metadata": {},
     "output_type": "execute_result"
    }
   ],
   "source": [
    "df.head()"
   ]
  },
  {
   "cell_type": "markdown",
   "id": "fe91fe16-874b-4e1d-96d7-f85d54bc8cfc",
   "metadata": {},
   "source": [
    "# Train-Test Data Preparation"
   ]
  },
  {
   "cell_type": "code",
   "execution_count": 21,
   "id": "aba3ca5e-06f6-42cb-9126-f05995dff7a8",
   "metadata": {},
   "outputs": [],
   "source": [
    "padded_sentenes = pad_sequences(sentence_indices, 10)\n",
    "padded_rephrases = pad_sequences(rephrase_indices, 10)"
   ]
  },
  {
   "cell_type": "code",
   "execution_count": 25,
   "id": "186bb72e-6ffe-4579-aec6-85404749efb7",
   "metadata": {},
   "outputs": [],
   "source": [
    "sentences1, sentences2, labels = create_train_test_data(padded_sentenes, padded_rephrases)\n",
    "x1_train, x1_test, x2_train, x2_test, y_train, y_test  = train_test_split(sentences1, sentences2, labels, test_size=0.1, random_state=0, stratify=labels)"
   ]
  },
  {
   "cell_type": "markdown",
   "id": "8e886bb1-369b-4659-aa48-3be7e8cabaec",
   "metadata": {},
   "source": [
    "# Model definition, training, evaluation"
   ]
  },
  {
   "cell_type": "code",
   "execution_count": 13,
   "id": "acbb827b-e593-4e95-aeb5-07b5a3f6ebe9",
   "metadata": {},
   "outputs": [
    {
     "name": "stderr",
     "output_type": "stream",
     "text": [
      "2021-11-11 07:32:28.181954: W tensorflow/stream_executor/platform/default/dso_loader.cc:64] Could not load dynamic library 'libcuda.so.1'; dlerror: libcuda.so.1: cannot open shared object file: No such file or directory\n",
      "2021-11-11 07:32:28.182004: W tensorflow/stream_executor/cuda/cuda_driver.cc:269] failed call to cuInit: UNKNOWN ERROR (303)\n",
      "2021-11-11 07:32:28.182023: I tensorflow/stream_executor/cuda/cuda_diagnostics.cc:156] kernel driver does not appear to be running on this host (legion-y540): /proc/driver/nvidia/version does not exist\n",
      "2021-11-11 07:32:28.182258: I tensorflow/core/platform/cpu_feature_guard.cc:151] This TensorFlow binary is optimized with oneAPI Deep Neural Network Library (oneDNN) to use the following CPU instructions in performance-critical operations:  AVX2 FMA\n",
      "To enable them in other operations, rebuild TensorFlow with the appropriate compiler flags.\n"
     ]
    }
   ],
   "source": [
    "input1 = Input(shape=(10,))\n",
    "x1 = Embedding(input_dim=len(vocabulary), output_dim=100, weights=[embeddings], trainable=False)(input1)\n",
    "x1 = LSTM(128)(x1)\n",
    "\n",
    "input2 = Input(shape=(10,))\n",
    "x2 = Embedding(input_dim=len(vocabulary), output_dim=100, weights=[embeddings], trainable=False)(input2)\n",
    "x2 = LSTM(128)(x2)\n",
    "\n",
    "x = Concatenate()([x1, x2])\n",
    "\n",
    "output = Dense(1, activation='sigmoid')(x)"
   ]
  },
  {
   "cell_type": "code",
   "execution_count": 14,
   "id": "fc171301-7e3e-4df1-bd65-36aeaaa12e03",
   "metadata": {},
   "outputs": [],
   "source": [
    "model = Model(inputs=[input1, input2], outputs=output)\n",
    "model.compile(optimizer=Adam(learning_rate=0.01), loss=binary_crossentropy, metrics=['accuracy'])"
   ]
  },
  {
   "cell_type": "code",
   "execution_count": 28,
   "id": "953a6e82-fd24-4862-a84d-748b3cfe08cb",
   "metadata": {},
   "outputs": [
    {
     "name": "stdout",
     "output_type": "stream",
     "text": [
      "Epoch 1/15\n",
      "25/25 - 0s - loss: 8.1966e-05 - accuracy: 1.0000 - 311ms/epoch - 12ms/step\n",
      "Epoch 2/15\n",
      "25/25 - 0s - loss: 7.3095e-05 - accuracy: 1.0000 - 281ms/epoch - 11ms/step\n",
      "Epoch 3/15\n",
      "25/25 - 0s - loss: 6.5899e-05 - accuracy: 1.0000 - 279ms/epoch - 11ms/step\n",
      "Epoch 4/15\n",
      "25/25 - 0s - loss: 5.9824e-05 - accuracy: 1.0000 - 275ms/epoch - 11ms/step\n",
      "Epoch 5/15\n",
      "25/25 - 0s - loss: 5.4524e-05 - accuracy: 1.0000 - 280ms/epoch - 11ms/step\n",
      "Epoch 6/15\n",
      "25/25 - 0s - loss: 4.9933e-05 - accuracy: 1.0000 - 274ms/epoch - 11ms/step\n",
      "Epoch 7/15\n",
      "25/25 - 0s - loss: 4.5946e-05 - accuracy: 1.0000 - 285ms/epoch - 11ms/step\n",
      "Epoch 8/15\n",
      "25/25 - 0s - loss: 4.2469e-05 - accuracy: 1.0000 - 287ms/epoch - 11ms/step\n",
      "Epoch 9/15\n",
      "25/25 - 0s - loss: 3.9322e-05 - accuracy: 1.0000 - 289ms/epoch - 12ms/step\n",
      "Epoch 10/15\n",
      "25/25 - 0s - loss: 3.6594e-05 - accuracy: 1.0000 - 281ms/epoch - 11ms/step\n",
      "Epoch 11/15\n",
      "25/25 - 0s - loss: 3.4039e-05 - accuracy: 1.0000 - 288ms/epoch - 12ms/step\n",
      "Epoch 12/15\n",
      "25/25 - 0s - loss: 3.1872e-05 - accuracy: 1.0000 - 344ms/epoch - 14ms/step\n",
      "Epoch 13/15\n",
      "25/25 - 0s - loss: 2.9790e-05 - accuracy: 1.0000 - 308ms/epoch - 12ms/step\n",
      "Epoch 14/15\n",
      "25/25 - 0s - loss: 2.8000e-05 - accuracy: 1.0000 - 285ms/epoch - 11ms/step\n",
      "Epoch 15/15\n",
      "25/25 - 0s - loss: 2.6328e-05 - accuracy: 1.0000 - 286ms/epoch - 11ms/step\n"
     ]
    },
    {
     "data": {
      "text/plain": [
       "<keras.callbacks.History at 0x7f97d05d81c0>"
      ]
     },
     "execution_count": 28,
     "metadata": {},
     "output_type": "execute_result"
    }
   ],
   "source": [
    "model.fit([np.array(x1_train), np.array(x2_train)], np.array(y_train), batch_size=32, epochs=15, verbose=2)"
   ]
  },
  {
   "cell_type": "code",
   "execution_count": 29,
   "id": "bbb146ab-2f64-417e-96e2-692e13ff4458",
   "metadata": {},
   "outputs": [
    {
     "name": "stdout",
     "output_type": "stream",
     "text": [
      "3/3 [==============================] - 0s 6ms/step - loss: 0.7829 - accuracy: 0.8276\n"
     ]
    },
    {
     "data": {
      "text/plain": [
       "[0.7828599810600281, 0.8275862336158752]"
      ]
     },
     "execution_count": 29,
     "metadata": {},
     "output_type": "execute_result"
    }
   ],
   "source": [
    "model.evaluate([np.array(x1_test), np.array(x2_test)], np.array(y_test))"
   ]
  }
 ],
 "metadata": {
  "kernelspec": {
   "display_name": "Python 3 (ipykernel)",
   "language": "python",
   "name": "python3"
  },
  "language_info": {
   "codemirror_mode": {
    "name": "ipython",
    "version": 3
   },
   "file_extension": ".py",
   "mimetype": "text/x-python",
   "name": "python",
   "nbconvert_exporter": "python",
   "pygments_lexer": "ipython3",
   "version": "3.8.10"
  }
 },
 "nbformat": 4,
 "nbformat_minor": 5
}
