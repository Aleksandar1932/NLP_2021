{
 "cells": [
  {
   "cell_type": "markdown",
   "id": "5dab03b4-af09-493b-b6a6-c8939bbd96b4",
   "metadata": {},
   "source": [
    "# <font color=\"grey\">Imports and utility functions</font>"
   ]
  },
  {
   "cell_type": "code",
   "execution_count": 114,
   "id": "bfe110e7-79a7-473f-afa1-33f2c9371a5a",
   "metadata": {},
   "outputs": [],
   "source": [
    "import numpy as np\n",
    "import pandas as pd\n",
    "from nltk import word_tokenize\n",
    "\n",
    "from tensorflow.keras.preprocessing.sequence import pad_sequences\n",
    "from tensorflow.keras.models import Model\n",
    "from tensorflow.keras.layers import LSTM, Dense, Input, Embedding, Concatenate\n",
    "from tensorflow.keras.losses import binary_crossentropy\n",
    "from tensorflow.keras.optimizers import Adam\n",
    "\n",
    "from scripts.word_embeddings import load_embedding_weights"
   ]
  },
  {
   "cell_type": "code",
   "execution_count": 35,
   "id": "e43642bb-bcc8-4235-a547-c09adf569290",
   "metadata": {},
   "outputs": [],
   "source": [
    "def tokenize(data: pd.core.series):\n",
    "    data['tweet_tokens'] = data['tweet'].apply(lambda x: word_tokenize(x.lower()))\n",
    "    data['rephrase_tokens'] = data['rephrase'].apply(lambda x: word_tokenize(x.lower()))"
   ]
  },
  {
   "cell_type": "code",
   "execution_count": 63,
   "id": "220c63a7-165f-4fd9-9491-7d800be6cb21",
   "metadata": {},
   "outputs": [],
   "source": [
    "def create_vocabulary(sentence_tokens):\n",
    "    vocabulary = set()\n",
    "    for tokens in sentence_tokens:\n",
    "        vocabulary.update(tokens)\n",
    "\n",
    "    vocabulary = list(vocabulary)\n",
    "    return vocabulary, dict(map(lambda x: (x[1], x[0]), enumerate(vocabulary)))"
   ]
  },
  {
   "cell_type": "markdown",
   "id": "905a7f30-f5a7-436e-ab59-391d41296fb4",
   "metadata": {},
   "source": [
    "# Data Loading"
   ]
  },
  {
   "cell_type": "code",
   "execution_count": 78,
   "id": "8151acaa-c43d-46cc-bbe9-d82a6c756606",
   "metadata": {},
   "outputs": [
    {
     "data": {
      "text/html": [
       "<div>\n",
       "<style scoped>\n",
       "    .dataframe tbody tr th:only-of-type {\n",
       "        vertical-align: middle;\n",
       "    }\n",
       "\n",
       "    .dataframe tbody tr th {\n",
       "        vertical-align: top;\n",
       "    }\n",
       "\n",
       "    .dataframe thead th {\n",
       "        text-align: right;\n",
       "    }\n",
       "</style>\n",
       "<table border=\"1\" class=\"dataframe\">\n",
       "  <thead>\n",
       "    <tr style=\"text-align: right;\">\n",
       "      <th></th>\n",
       "      <th>tweet</th>\n",
       "      <th>rephrase</th>\n",
       "    </tr>\n",
       "  </thead>\n",
       "  <tbody>\n",
       "    <tr>\n",
       "      <th>0</th>\n",
       "      <td>The only thing I got from college is a caffein...</td>\n",
       "      <td>College is really difficult, expensive, tiring...</td>\n",
       "    </tr>\n",
       "    <tr>\n",
       "      <th>1</th>\n",
       "      <td>I love it when professors draw a big question ...</td>\n",
       "      <td>I do not like when professors don’t write out ...</td>\n",
       "    </tr>\n",
       "    <tr>\n",
       "      <th>2</th>\n",
       "      <td>Remember the hundred emails from companies whe...</td>\n",
       "      <td>I, at the bare minimum, wish companies actuall...</td>\n",
       "    </tr>\n",
       "    <tr>\n",
       "      <th>3</th>\n",
       "      <td>Today my pop-pop told me I was not “forced” to...</td>\n",
       "      <td>Today my pop-pop told me I was not \"forced\" to...</td>\n",
       "    </tr>\n",
       "    <tr>\n",
       "      <th>4</th>\n",
       "      <td>@VolphanCarol @littlewhitty @mysticalmanatee I...</td>\n",
       "      <td>I would say Ted Cruz is an asshole and doesn’t...</td>\n",
       "    </tr>\n",
       "  </tbody>\n",
       "</table>\n",
       "</div>"
      ],
      "text/plain": [
       "                                               tweet  \\\n",
       "0  The only thing I got from college is a caffein...   \n",
       "1  I love it when professors draw a big question ...   \n",
       "2  Remember the hundred emails from companies whe...   \n",
       "3  Today my pop-pop told me I was not “forced” to...   \n",
       "4  @VolphanCarol @littlewhitty @mysticalmanatee I...   \n",
       "\n",
       "                                            rephrase  \n",
       "0  College is really difficult, expensive, tiring...  \n",
       "1  I do not like when professors don’t write out ...  \n",
       "2  I, at the bare minimum, wish companies actuall...  \n",
       "3  Today my pop-pop told me I was not \"forced\" to...  \n",
       "4  I would say Ted Cruz is an asshole and doesn’t...  "
      ]
     },
     "execution_count": 78,
     "metadata": {},
     "output_type": "execute_result"
    }
   ],
   "source": [
    "df = pd.read_csv('data/train.En.csv', usecols=['tweet', 'rephrase']).dropna()\n",
    "# tweet - has sarcasam; rephrase - does not have sarcasam\n",
    "df.head()"
   ]
  },
  {
   "cell_type": "code",
   "execution_count": 79,
   "id": "ff37814d-6bbd-4272-bd09-0d23d5710d1b",
   "metadata": {},
   "outputs": [
    {
     "data": {
      "text/html": [
       "<div>\n",
       "<style scoped>\n",
       "    .dataframe tbody tr th:only-of-type {\n",
       "        vertical-align: middle;\n",
       "    }\n",
       "\n",
       "    .dataframe tbody tr th {\n",
       "        vertical-align: top;\n",
       "    }\n",
       "\n",
       "    .dataframe thead th {\n",
       "        text-align: right;\n",
       "    }\n",
       "</style>\n",
       "<table border=\"1\" class=\"dataframe\">\n",
       "  <thead>\n",
       "    <tr style=\"text-align: right;\">\n",
       "      <th></th>\n",
       "      <th>tweet</th>\n",
       "      <th>rephrase</th>\n",
       "      <th>tweet_tokens</th>\n",
       "      <th>rephrase_tokens</th>\n",
       "    </tr>\n",
       "  </thead>\n",
       "  <tbody>\n",
       "    <tr>\n",
       "      <th>0</th>\n",
       "      <td>The only thing I got from college is a caffein...</td>\n",
       "      <td>College is really difficult, expensive, tiring...</td>\n",
       "      <td>[the, only, thing, i, got, from, college, is, ...</td>\n",
       "      <td>[college, is, really, difficult, ,, expensive,...</td>\n",
       "    </tr>\n",
       "    <tr>\n",
       "      <th>1</th>\n",
       "      <td>I love it when professors draw a big question ...</td>\n",
       "      <td>I do not like when professors don’t write out ...</td>\n",
       "      <td>[i, love, it, when, professors, draw, a, big, ...</td>\n",
       "      <td>[i, do, not, like, when, professors, don, ’, t...</td>\n",
       "    </tr>\n",
       "    <tr>\n",
       "      <th>2</th>\n",
       "      <td>Remember the hundred emails from companies whe...</td>\n",
       "      <td>I, at the bare minimum, wish companies actuall...</td>\n",
       "      <td>[remember, the, hundred, emails, from, compani...</td>\n",
       "      <td>[i, ,, at, the, bare, minimum, ,, wish, compan...</td>\n",
       "    </tr>\n",
       "    <tr>\n",
       "      <th>3</th>\n",
       "      <td>Today my pop-pop told me I was not “forced” to...</td>\n",
       "      <td>Today my pop-pop told me I was not \"forced\" to...</td>\n",
       "      <td>[today, my, pop-pop, told, me, i, was, not, “,...</td>\n",
       "      <td>[today, my, pop-pop, told, me, i, was, not, ``...</td>\n",
       "    </tr>\n",
       "    <tr>\n",
       "      <th>4</th>\n",
       "      <td>@VolphanCarol @littlewhitty @mysticalmanatee I...</td>\n",
       "      <td>I would say Ted Cruz is an asshole and doesn’t...</td>\n",
       "      <td>[@, volphancarol, @, littlewhitty, @, mystical...</td>\n",
       "      <td>[i, would, say, ted, cruz, is, an, asshole, an...</td>\n",
       "    </tr>\n",
       "  </tbody>\n",
       "</table>\n",
       "</div>"
      ],
      "text/plain": [
       "                                               tweet  \\\n",
       "0  The only thing I got from college is a caffein...   \n",
       "1  I love it when professors draw a big question ...   \n",
       "2  Remember the hundred emails from companies whe...   \n",
       "3  Today my pop-pop told me I was not “forced” to...   \n",
       "4  @VolphanCarol @littlewhitty @mysticalmanatee I...   \n",
       "\n",
       "                                            rephrase  \\\n",
       "0  College is really difficult, expensive, tiring...   \n",
       "1  I do not like when professors don’t write out ...   \n",
       "2  I, at the bare minimum, wish companies actuall...   \n",
       "3  Today my pop-pop told me I was not \"forced\" to...   \n",
       "4  I would say Ted Cruz is an asshole and doesn’t...   \n",
       "\n",
       "                                        tweet_tokens  \\\n",
       "0  [the, only, thing, i, got, from, college, is, ...   \n",
       "1  [i, love, it, when, professors, draw, a, big, ...   \n",
       "2  [remember, the, hundred, emails, from, compani...   \n",
       "3  [today, my, pop-pop, told, me, i, was, not, “,...   \n",
       "4  [@, volphancarol, @, littlewhitty, @, mystical...   \n",
       "\n",
       "                                     rephrase_tokens  \n",
       "0  [college, is, really, difficult, ,, expensive,...  \n",
       "1  [i, do, not, like, when, professors, don, ’, t...  \n",
       "2  [i, ,, at, the, bare, minimum, ,, wish, compan...  \n",
       "3  [today, my, pop-pop, told, me, i, was, not, ``...  \n",
       "4  [i, would, say, ted, cruz, is, an, asshole, an...  "
      ]
     },
     "execution_count": 79,
     "metadata": {},
     "output_type": "execute_result"
    }
   ],
   "source": [
    "tokenize(df)\n",
    "df.head()"
   ]
  },
  {
   "cell_type": "code",
   "execution_count": 80,
   "id": "7325402b-91bc-4d82-a706-465f92be327d",
   "metadata": {},
   "outputs": [],
   "source": [
    "sentences = df['tweet_tokens'].values\n",
    "rephrases = df['rephrase_tokens'].values\n",
    "\n",
    "vocabulary, word_to_id = create_vocabulary(np.concatenate((sentences, rephrases)))"
   ]
  },
  {
   "cell_type": "code",
   "execution_count": 81,
   "id": "54bcd62c-efb6-4d0f-b0a3-0f65a1429288",
   "metadata": {},
   "outputs": [],
   "source": [
    "embeddings = load_embedding_weights(vocabulary, 100, 'word2vecSG',\"/home/aleksandar/projects/NLP_2021/Exercises/2/data\")"
   ]
  },
  {
   "cell_type": "code",
   "execution_count": 82,
   "id": "84a5497f-1368-49a1-a86f-242721931ccc",
   "metadata": {},
   "outputs": [],
   "source": [
    "df['tweet_indices'] = df['tweet_tokens'].apply(lambda x: np.array([word_to_id[i] for i in x]))\n",
    "df['rephrase_indices'] = df['rephrase_tokens'].apply(lambda x: np.array([word_to_id[i] for i in x]))"
   ]
  },
  {
   "cell_type": "code",
   "execution_count": 83,
   "id": "a717ed12-4df6-4376-8bfe-afa9db408b85",
   "metadata": {},
   "outputs": [],
   "source": [
    "sentence_indices = df['tweet_indices'].values\n",
    "rephrase_indices = df['rephrase_indices'].values"
   ]
  },
  {
   "cell_type": "code",
   "execution_count": 84,
   "id": "ca2bc734-2887-4c3d-b138-d7521ef643cc",
   "metadata": {},
   "outputs": [
    {
     "data": {
      "text/html": [
       "<div>\n",
       "<style scoped>\n",
       "    .dataframe tbody tr th:only-of-type {\n",
       "        vertical-align: middle;\n",
       "    }\n",
       "\n",
       "    .dataframe tbody tr th {\n",
       "        vertical-align: top;\n",
       "    }\n",
       "\n",
       "    .dataframe thead th {\n",
       "        text-align: right;\n",
       "    }\n",
       "</style>\n",
       "<table border=\"1\" class=\"dataframe\">\n",
       "  <thead>\n",
       "    <tr style=\"text-align: right;\">\n",
       "      <th></th>\n",
       "      <th>tweet</th>\n",
       "      <th>rephrase</th>\n",
       "      <th>tweet_tokens</th>\n",
       "      <th>rephrase_tokens</th>\n",
       "      <th>tweet_indices</th>\n",
       "      <th>rephrase_indices</th>\n",
       "    </tr>\n",
       "  </thead>\n",
       "  <tbody>\n",
       "    <tr>\n",
       "      <th>0</th>\n",
       "      <td>The only thing I got from college is a caffein...</td>\n",
       "      <td>College is really difficult, expensive, tiring...</td>\n",
       "      <td>[the, only, thing, i, got, from, college, is, ...</td>\n",
       "      <td>[college, is, really, difficult, ,, expensive,...</td>\n",
       "      <td>[1769, 1457, 3537, 1205, 2715, 646, 458, 1175,...</td>\n",
       "      <td>[458, 1175, 749, 241, 3300, 9, 3300, 582, 3300...</td>\n",
       "    </tr>\n",
       "    <tr>\n",
       "      <th>1</th>\n",
       "      <td>I love it when professors draw a big question ...</td>\n",
       "      <td>I do not like when professors don’t write out ...</td>\n",
       "      <td>[i, love, it, when, professors, draw, a, big, ...</td>\n",
       "      <td>[i, do, not, like, when, professors, don, ’, t...</td>\n",
       "      <td>[1205, 2294, 702, 773, 1625, 4260, 1043, 3800,...</td>\n",
       "      <td>[1205, 4347, 1447, 1247, 773, 1625, 1627, 2993...</td>\n",
       "    </tr>\n",
       "    <tr>\n",
       "      <th>2</th>\n",
       "      <td>Remember the hundred emails from companies whe...</td>\n",
       "      <td>I, at the bare minimum, wish companies actuall...</td>\n",
       "      <td>[remember, the, hundred, emails, from, compani...</td>\n",
       "      <td>[i, ,, at, the, bare, minimum, ,, wish, compan...</td>\n",
       "      <td>[1847, 1769, 470, 5070, 646, 2120, 773, 266, 1...</td>\n",
       "      <td>[1205, 3300, 2423, 1769, 3701, 4484, 3300, 176...</td>\n",
       "    </tr>\n",
       "    <tr>\n",
       "      <th>3</th>\n",
       "      <td>Today my pop-pop told me I was not “forced” to...</td>\n",
       "      <td>Today my pop-pop told me I was not \"forced\" to...</td>\n",
       "      <td>[today, my, pop-pop, told, me, i, was, not, “,...</td>\n",
       "      <td>[today, my, pop-pop, told, me, i, was, not, ``...</td>\n",
       "      <td>[1979, 2402, 1213, 1756, 905, 1205, 2096, 1447...</td>\n",
       "      <td>[1979, 2402, 1213, 1756, 905, 1205, 2096, 1447...</td>\n",
       "    </tr>\n",
       "    <tr>\n",
       "      <th>4</th>\n",
       "      <td>@VolphanCarol @littlewhitty @mysticalmanatee I...</td>\n",
       "      <td>I would say Ted Cruz is an asshole and doesn’t...</td>\n",
       "      <td>[@, volphancarol, @, littlewhitty, @, mystical...</td>\n",
       "      <td>[i, would, say, ted, cruz, is, an, asshole, an...</td>\n",
       "      <td>[1345, 3746, 1345, 5155, 1345, 4669, 1205, 379...</td>\n",
       "      <td>[1205, 1406, 5111, 1277, 4371, 1175, 3032, 69,...</td>\n",
       "    </tr>\n",
       "  </tbody>\n",
       "</table>\n",
       "</div>"
      ],
      "text/plain": [
       "                                               tweet  \\\n",
       "0  The only thing I got from college is a caffein...   \n",
       "1  I love it when professors draw a big question ...   \n",
       "2  Remember the hundred emails from companies whe...   \n",
       "3  Today my pop-pop told me I was not “forced” to...   \n",
       "4  @VolphanCarol @littlewhitty @mysticalmanatee I...   \n",
       "\n",
       "                                            rephrase  \\\n",
       "0  College is really difficult, expensive, tiring...   \n",
       "1  I do not like when professors don’t write out ...   \n",
       "2  I, at the bare minimum, wish companies actuall...   \n",
       "3  Today my pop-pop told me I was not \"forced\" to...   \n",
       "4  I would say Ted Cruz is an asshole and doesn’t...   \n",
       "\n",
       "                                        tweet_tokens  \\\n",
       "0  [the, only, thing, i, got, from, college, is, ...   \n",
       "1  [i, love, it, when, professors, draw, a, big, ...   \n",
       "2  [remember, the, hundred, emails, from, compani...   \n",
       "3  [today, my, pop-pop, told, me, i, was, not, “,...   \n",
       "4  [@, volphancarol, @, littlewhitty, @, mystical...   \n",
       "\n",
       "                                     rephrase_tokens  \\\n",
       "0  [college, is, really, difficult, ,, expensive,...   \n",
       "1  [i, do, not, like, when, professors, don, ’, t...   \n",
       "2  [i, ,, at, the, bare, minimum, ,, wish, compan...   \n",
       "3  [today, my, pop-pop, told, me, i, was, not, ``...   \n",
       "4  [i, would, say, ted, cruz, is, an, asshole, an...   \n",
       "\n",
       "                                       tweet_indices  \\\n",
       "0  [1769, 1457, 3537, 1205, 2715, 646, 458, 1175,...   \n",
       "1  [1205, 2294, 702, 773, 1625, 4260, 1043, 3800,...   \n",
       "2  [1847, 1769, 470, 5070, 646, 2120, 773, 266, 1...   \n",
       "3  [1979, 2402, 1213, 1756, 905, 1205, 2096, 1447...   \n",
       "4  [1345, 3746, 1345, 5155, 1345, 4669, 1205, 379...   \n",
       "\n",
       "                                    rephrase_indices  \n",
       "0  [458, 1175, 749, 241, 3300, 9, 3300, 582, 3300...  \n",
       "1  [1205, 4347, 1447, 1247, 773, 1625, 1627, 2993...  \n",
       "2  [1205, 3300, 2423, 1769, 3701, 4484, 3300, 176...  \n",
       "3  [1979, 2402, 1213, 1756, 905, 1205, 2096, 1447...  \n",
       "4  [1205, 1406, 5111, 1277, 4371, 1175, 3032, 69,...  "
      ]
     },
     "execution_count": 84,
     "metadata": {},
     "output_type": "execute_result"
    }
   ],
   "source": [
    "df.head()"
   ]
  },
  {
   "cell_type": "code",
   "execution_count": 87,
   "id": "aba3ca5e-06f6-42cb-9126-f05995dff7a8",
   "metadata": {},
   "outputs": [],
   "source": [
    "padded_sentenes = pad_sequences(sentence_indices, 10)\n",
    "rephrase_sentenes = pad_sequences(rephrase_indices, 10)"
   ]
  },
  {
   "cell_type": "code",
   "execution_count": 109,
   "id": "acbb827b-e593-4e95-aeb5-07b5a3f6ebe9",
   "metadata": {},
   "outputs": [],
   "source": [
    "input1 = Input(shape=(10,))\n",
    "x1 = Embedding(input_dim=len(vocabulary), output_dim=100, weights=[embeddings], trainable=False)(input1)\n",
    "x1 = LSTM(128)(x1)\n",
    "\n",
    "input2 = Input(shape=(10,))\n",
    "x2 = Embedding(input_dim=len(vocabulary), output_dim=100, weights=[embeddings], trainable=False)(input2)\n",
    "x2 = LSTM(128)(x2)\n",
    "\n",
    "x = Concatenate()([x1, x2])\n",
    "\n",
    "output = Dense(1, activation='sigmoid')(x)"
   ]
  },
  {
   "cell_type": "code",
   "execution_count": 116,
   "id": "fc171301-7e3e-4df1-bd65-36aeaaa12e03",
   "metadata": {},
   "outputs": [],
   "source": [
    "model = Model(inputs=[input1, input2], outputs=output)\n",
    "model.compile(optimizer=Adam(learning_rate=0.01), loss=binary_crossentropy, metrics=['accuracy'])"
   ]
  }
 ],
 "metadata": {
  "kernelspec": {
   "display_name": "Python 3 (ipykernel)",
   "language": "python",
   "name": "python3"
  },
  "language_info": {
   "codemirror_mode": {
    "name": "ipython",
    "version": 3
   },
   "file_extension": ".py",
   "mimetype": "text/x-python",
   "name": "python",
   "nbconvert_exporter": "python",
   "pygments_lexer": "ipython3",
   "version": "3.8.10"
  }
 },
 "nbformat": 4,
 "nbformat_minor": 5
}
