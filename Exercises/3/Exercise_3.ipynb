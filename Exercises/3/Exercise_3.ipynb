{
 "cells": [
  {
   "cell_type": "code",
   "execution_count": 56,
   "id": "687c2d69-0a0a-445b-b13f-140a0e99a8d6",
   "metadata": {},
   "outputs": [],
   "source": [
    "import pandas as pd\n",
    "from nltk import word_tokenize\n",
    "from word_embeddings import load_embedding_weights\n",
    "import numpy as np\n",
    "\n",
    "from tensorflow.keras.preprocessing.sequence import pad_sequences\n",
    "from sklearn.model_selection import train_test_split\n",
    "\n",
    "from tensorflow.keras.models import Sequential\n",
    "from tensorflow.keras.layers import Embedding, LSTM, Dense, Bidirectional, GRU\n",
    "from tensorflow.keras.optimizers import Adam\n",
    "from tensorflow.keras.losses import binary_crossentropy"
   ]
  },
  {
   "cell_type": "markdown",
   "id": "b3f10c49-06db-4998-be99-70a1921f4a9c",
   "metadata": {},
   "source": [
    "# Load Data"
   ]
  },
  {
   "cell_type": "code",
   "execution_count": 2,
   "id": "ae60fca0-4ad6-4de4-9a82-b27a23db5708",
   "metadata": {},
   "outputs": [],
   "source": [
    "df = pd.read_csv('data/train.En.csv', usecols=['tweet', 'sarcastic']).dropna()\n",
    "df['tweet_tokens'] = df['tweet'].apply(lambda x: word_tokenize(x.lower()))"
   ]
  },
  {
   "cell_type": "code",
   "execution_count": 26,
   "id": "8a623b24-1d05-4fe0-813e-1bdce50dc66d",
   "metadata": {},
   "outputs": [],
   "source": [
    "def create_vocabulary(sentence_tokens):\n",
    "    vocabulary = set()\n",
    "    for tokens in sentence_tokens:\n",
    "        vocabulary.update(tokens)\n",
    "        \n",
    "    vocabulary = list(vocabulary)\n",
    "    word_to_id = {word : index for word, index in zip(vocabulary, range(len(vocabulary)))}\n",
    "    # word_to_id = dict(enumerate(vocabulary))\n",
    "    \n",
    "    return vocabulary, word_to_id"
   ]
  },
  {
   "cell_type": "code",
   "execution_count": 27,
   "id": "b0e348ed-34f8-4ccb-bd74-168001df0d3e",
   "metadata": {},
   "outputs": [],
   "source": [
    "sentences = df['tweet_tokens'].values\n",
    "labels = df['sarcastic'].values\n",
    "\n",
    "vocabulary, word_to_id = create_vocabulary(sentences)"
   ]
  },
  {
   "cell_type": "markdown",
   "id": "84a02f97-2861-4d4a-bd52-5c75e5fa42eb",
   "metadata": {},
   "source": [
    "# Create Embeddings"
   ]
  },
  {
   "cell_type": "code",
   "execution_count": 19,
   "id": "d641949c-06ab-4248-a601-d0adddd086dc",
   "metadata": {},
   "outputs": [
    {
     "name": "stdout",
     "output_type": "stream",
     "text": [
      "Creating embedding weights...\n"
     ]
    }
   ],
   "source": [
    "embeddings = load_embedding_weights(vocabulary, 100, 'word2vecSG,'/home/aleksandar/projects/NLP_2021/Exercises/2/data')"
   ]
  },
  {
   "cell_type": "code",
   "execution_count": 28,
   "id": "8b20d8a1-ba0d-4baf-a27b-57163e1a432d",
   "metadata": {},
   "outputs": [],
   "source": [
    "df['tweet_indices'] = df['tweet_tokens'].apply(lambda x: np.array([word_to_id[i] for i in x if i in word_to_id.keys()]))"
   ]
  },
  {
   "cell_type": "code",
   "execution_count": 35,
   "id": "d6f08b4f-ba10-4f34-9668-36da9db613b8",
   "metadata": {},
   "outputs": [],
   "source": [
    "sentence_indices = df['tweet_indices'].values\n",
    "padded_sentences = pad_sequences(sentence_indices, 10)"
   ]
  },
  {
   "cell_type": "markdown",
   "id": "719a7935-1cd3-4a61-8684-2a984553e596",
   "metadata": {},
   "source": [
    "# Defining the Models\n",
    "\n",
    "*(stratify for balanced classes)*"
   ]
  },
  {
   "cell_type": "code",
   "execution_count": 40,
   "id": "24324900-6d6b-4ac1-abbd-84e0d650f548",
   "metadata": {},
   "outputs": [],
   "source": [
    "X_train, X_test, y_train, y_test = train_test_split(padded_sentences, labels, test_size=0.1, stratify=labels)"
   ]
  },
  {
   "cell_type": "markdown",
   "id": "bc7b2b73-bde9-4061-8b3f-267484c292f0",
   "metadata": {},
   "source": [
    "## Long Short-Term Memory"
   ]
  },
  {
   "cell_type": "code",
   "execution_count": 51,
   "id": "727fb463-d097-4c42-960c-f2a739e36b8d",
   "metadata": {},
   "outputs": [
    {
     "name": "stdout",
     "output_type": "stream",
     "text": [
      "Epoch 1/15\n",
      "98/98 - 4s - loss: 0.5780 - accuracy: 0.7401\n",
      "Epoch 2/15\n",
      "98/98 - 2s - loss: 0.5555 - accuracy: 0.7513\n",
      "Epoch 3/15\n",
      "98/98 - 2s - loss: 0.5092 - accuracy: 0.7676\n",
      "Epoch 4/15\n",
      "98/98 - 2s - loss: 0.3857 - accuracy: 0.8285\n",
      "Epoch 5/15\n",
      "98/98 - 2s - loss: 0.2608 - accuracy: 0.8929\n",
      "Epoch 6/15\n",
      "98/98 - 2s - loss: 0.1655 - accuracy: 0.9372\n",
      "Epoch 7/15\n",
      "98/98 - 2s - loss: 0.1040 - accuracy: 0.9622\n",
      "Epoch 8/15\n",
      "98/98 - 2s - loss: 0.0927 - accuracy: 0.9647\n",
      "Epoch 9/15\n",
      "98/98 - 2s - loss: 0.0758 - accuracy: 0.9712\n",
      "Epoch 10/15\n",
      "98/98 - 2s - loss: 0.0678 - accuracy: 0.9779\n",
      "Epoch 11/15\n",
      "98/98 - 2s - loss: 0.0656 - accuracy: 0.9753\n",
      "Epoch 12/15\n",
      "98/98 - 2s - loss: 0.0777 - accuracy: 0.9702\n",
      "Epoch 13/15\n",
      "98/98 - 2s - loss: 0.0905 - accuracy: 0.9673\n",
      "Epoch 14/15\n",
      "98/98 - 2s - loss: 0.0861 - accuracy: 0.9686\n",
      "Epoch 15/15\n",
      "98/98 - 2s - loss: 0.0723 - accuracy: 0.9724\n",
      "11/11 [==============================] - 1s 10ms/step - loss: 1.2875 - accuracy: 0.6599\n"
     ]
    },
    {
     "data": {
      "text/plain": [
       "[1.2875099182128906, 0.6599423885345459]"
      ]
     },
     "execution_count": 51,
     "metadata": {},
     "output_type": "execute_result"
    }
   ],
   "source": [
    "model = Sequential()\n",
    "model.add(Embedding(input_dim = len(vocabulary), output_dim=100, weights=[embeddings], trainable=False))  # if set false, previously learned word_vec are used, if set true weights are updated with the backpropagation, causing different embeddings\n",
    "model.add(LSTM(128, return_sequences=True))\n",
    "model.add(LSTM(128))\n",
    "model.add(Dense(1, activation='sigmoid'))\n",
    "\n",
    "# binary_crossentropy - 2 classes\n",
    "# categorical_crossentropy - n classes\n",
    "# return_sequences - if true values from all timepoints, if false only from the last timepoint\n",
    "\n",
    "model.compile(optimizer=Adam(learning_rate = 0.01), loss=binary_crossentropy, metrics=['accuracy'])\n",
    "model.fit(X_train, y_train, epochs=15, batch_size=32, verbose=2)\n",
    "model.evaluate(X_test, y_test)"
   ]
  },
  {
   "cell_type": "markdown",
   "id": "d1fee5a2-8883-4f57-8be3-706107762908",
   "metadata": {},
   "source": [
    "## Bidirectional Long Short-Term Memory"
   ]
  },
  {
   "cell_type": "code",
   "execution_count": 53,
   "id": "c44adf48-4be8-44e4-9f43-a57364cc91a1",
   "metadata": {},
   "outputs": [
    {
     "name": "stdout",
     "output_type": "stream",
     "text": [
      "Epoch 1/15\n",
      "98/98 - 3s - loss: 0.5785 - accuracy: 0.7397\n",
      "Epoch 2/15\n",
      "98/98 - 1s - loss: 0.5139 - accuracy: 0.7635\n",
      "Epoch 3/15\n",
      "98/98 - 1s - loss: 0.3601 - accuracy: 0.8519\n",
      "Epoch 4/15\n",
      "98/98 - 1s - loss: 0.1580 - accuracy: 0.9474\n",
      "Epoch 5/15\n",
      "98/98 - 1s - loss: 0.0736 - accuracy: 0.9760\n",
      "Epoch 6/15\n",
      "98/98 - 1s - loss: 0.0386 - accuracy: 0.9897\n",
      "Epoch 7/15\n",
      "98/98 - 1s - loss: 0.0271 - accuracy: 0.9894\n",
      "Epoch 8/15\n",
      "98/98 - 1s - loss: 0.0223 - accuracy: 0.9913\n",
      "Epoch 9/15\n",
      "98/98 - 1s - loss: 0.0350 - accuracy: 0.9878\n",
      "Epoch 10/15\n",
      "98/98 - 1s - loss: 0.0761 - accuracy: 0.9728\n",
      "Epoch 11/15\n",
      "98/98 - 1s - loss: 0.0928 - accuracy: 0.9657\n",
      "Epoch 12/15\n",
      "98/98 - 1s - loss: 0.0784 - accuracy: 0.9705\n",
      "Epoch 13/15\n",
      "98/98 - 1s - loss: 0.0413 - accuracy: 0.9865\n",
      "Epoch 14/15\n",
      "98/98 - 1s - loss: 0.0184 - accuracy: 0.9936\n",
      "Epoch 15/15\n",
      "98/98 - 1s - loss: 0.0113 - accuracy: 0.9949\n",
      "11/11 [==============================] - 1s 7ms/step - loss: 1.5867 - accuracy: 0.6888\n"
     ]
    },
    {
     "data": {
      "text/plain": [
       "[1.5866525173187256, 0.6887608170509338]"
      ]
     },
     "execution_count": 53,
     "metadata": {},
     "output_type": "execute_result"
    }
   ],
   "source": [
    "model = Sequential()\n",
    "model.add(Embedding(input_dim = len(vocabulary), output_dim=100, weights=[embeddings], trainable=False))  # if set false, previously learned word_vec are used, if set true weights are updated with the backpropagation, causing different embeddings\n",
    "\n",
    "model.add(Bidirectional(LSTM(128)))\n",
    "model.add(Dense(1, activation='sigmoid'))\n",
    "\n",
    "model.compile(optimizer=Adam(learning_rate = 0.01), loss=binary_crossentropy, metrics=['accuracy'])\n",
    "model.fit(X_train, y_train, epochs=15, batch_size=32, verbose=2)\n",
    "model.evaluate(X_test, y_test)"
   ]
  },
  {
   "cell_type": "markdown",
   "id": "7498c963-baf7-4981-83b8-ea83155f256f",
   "metadata": {},
   "source": [
    "## Gated Recurrent Units"
   ]
  },
  {
   "cell_type": "code",
   "execution_count": 57,
   "id": "839af5f6-ef47-4b82-9dc2-6bfaf39da197",
   "metadata": {},
   "outputs": [
    {
     "name": "stdout",
     "output_type": "stream",
     "text": [
      "Epoch 1/15\n",
      "98/98 - 2s - loss: 0.5843 - accuracy: 0.7369\n",
      "Epoch 2/15\n",
      "98/98 - 1s - loss: 0.5343 - accuracy: 0.7532\n",
      "Epoch 3/15\n",
      "98/98 - 1s - loss: 0.4283 - accuracy: 0.8067\n",
      "Epoch 4/15\n",
      "98/98 - 1s - loss: 0.2713 - accuracy: 0.8946\n",
      "Epoch 5/15\n",
      "98/98 - 1s - loss: 0.1815 - accuracy: 0.9292\n",
      "Epoch 6/15\n",
      "98/98 - 1s - loss: 0.1218 - accuracy: 0.9574\n",
      "Epoch 7/15\n",
      "98/98 - 1s - loss: 0.0964 - accuracy: 0.9702\n",
      "Epoch 8/15\n",
      "98/98 - 1s - loss: 0.0762 - accuracy: 0.9728\n",
      "Epoch 9/15\n",
      "98/98 - 1s - loss: 0.0701 - accuracy: 0.9760\n",
      "Epoch 10/15\n",
      "98/98 - 1s - loss: 0.0594 - accuracy: 0.9804\n",
      "Epoch 11/15\n",
      "98/98 - 1s - loss: 0.1157 - accuracy: 0.9612\n",
      "Epoch 12/15\n",
      "98/98 - 1s - loss: 0.1602 - accuracy: 0.9391\n",
      "Epoch 13/15\n",
      "98/98 - 1s - loss: 0.1433 - accuracy: 0.9436\n",
      "Epoch 14/15\n",
      "98/98 - 1s - loss: 0.0979 - accuracy: 0.9625\n",
      "Epoch 15/15\n",
      "98/98 - 1s - loss: 0.0830 - accuracy: 0.9676\n",
      "11/11 [==============================] - 0s 3ms/step - loss: 1.2986 - accuracy: 0.6974\n"
     ]
    },
    {
     "data": {
      "text/plain": [
       "[1.2985566854476929, 0.6974063515663147]"
      ]
     },
     "execution_count": 57,
     "metadata": {},
     "output_type": "execute_result"
    }
   ],
   "source": [
    "model = Sequential()\n",
    "model.add(Embedding(input_dim = len(vocabulary), output_dim=100, weights=[embeddings], trainable=False))  # if set false, previously learned word_vec are used, if set true weights are updated with the backpropagation, causing different embeddings\n",
    "\n",
    "model.add(GRU(128))\n",
    "model.add(Dense(1, activation='sigmoid'))\n",
    "\n",
    "model.compile(optimizer=Adam(learning_rate = 0.01), loss=binary_crossentropy, metrics=['accuracy'])\n",
    "model.fit(X_train, y_train, epochs=15, batch_size=32, verbose=2)\n",
    "model.evaluate(X_test, y_test)"
   ]
  }
 ],
 "metadata": {
  "kernelspec": {
   "display_name": "Python 3 (ipykernel)",
   "language": "python",
   "name": "python3"
  },
  "language_info": {
   "codemirror_mode": {
    "name": "ipython",
    "version": 3
   },
   "file_extension": ".py",
   "mimetype": "text/x-python",
   "name": "python",
   "nbconvert_exporter": "python",
   "pygments_lexer": "ipython3",
   "version": "3.8.10"
  }
 },
 "nbformat": 4,
 "nbformat_minor": 5
}
